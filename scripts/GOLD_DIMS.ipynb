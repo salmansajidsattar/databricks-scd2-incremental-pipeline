{
 "cells": [
  {
   "cell_type": "code",
   "execution_count": 0,
   "metadata": {
    "application/vnd.databricks.v1+cell": {
     "cellMetadata": {
      "byteLimit": 2048000,
      "rowLimit": 10000
     },
     "inputWidgets": {},
     "nuid": "529f8b92-2db4-433e-8b56-ce1e70db1417",
     "showTitle": false,
     "tableResultSettingsMap": {},
     "title": ""
    }
   },
   "outputs": [],
   "source": [
    "# dbutils.widgets.text(\"key_cols\",\"\")\n",
    "# dbutils.widgets.text(\"catalog\",\"\")\n",
    "# dbutils.widgets.text(\"cdc_col\",\"\")\n",
    "# dbutils.widgets.text(\"backdated_refresh\",\"\")\n",
    "# dbutils.widgets.text(\"source_object\",\"\")\n",
    "# dbutils.widgets.text(\"source_schema\",\"\")\n",
    "# dbutils.widgets.text(\"target_schema\",\"\")\n",
    "# dbutils.widgets.text(\"target_object\",\"\")\n",
    "# dbutils.widgets.text(\"surrogate_key\",\"\")"
   ]
  },
  {
   "cell_type": "code",
   "execution_count": 0,
   "metadata": {
    "application/vnd.databricks.v1+cell": {
     "cellMetadata": {},
     "inputWidgets": {},
     "nuid": "6e7e9b40-014b-412a-9c56-6ad184251347",
     "showTitle": false,
     "tableResultSettingsMap": {},
     "title": ""
    }
   },
   "outputs": [],
   "source": [
    "backdated_refresh=''\n",
    "catalog = dbutils.widgets.get(\"catalog\")\n",
    "key_cols=dbutils.widgets.get(\"key_cols\")\n",
    "cdc_col=dbutils.widgets.get(\"cdc_col\")\n",
    "source_object=dbutils.widgets.get(\"source_object\")\n",
    "source_schema=dbutils.widgets.get(\"source_schema\")\n",
    "target_schema=dbutils.widgets.get(\"target_schema\")\n",
    "target_object=dbutils.widgets.get(\"target_object\")\n",
    "surrogate_key=dbutils.widgets.get(\"surrogate_key\")\n",
    "key_cols_list = eval(key_cols)"
   ]
  },
  {
   "cell_type": "code",
   "execution_count": 0,
   "metadata": {
    "application/vnd.databricks.v1+cell": {
     "cellMetadata": {
      "byteLimit": 2048000,
      "rowLimit": 10000
     },
     "inputWidgets": {},
     "nuid": "9b3c4f20-60ee-4cae-8274-6b610c145738",
     "showTitle": false,
     "tableResultSettingsMap": {},
     "title": ""
    }
   },
   "outputs": [],
   "source": [
    "# # Catalog Name\n",
    "# catalog = \"workspace\"\n",
    "\n",
    "# # Key Cols List\n",
    "# key_cols = \"['flight_id']\"\n",
    "# key_cols_list = eval(key_cols)\n",
    "\n",
    "# # CDC Column\n",
    "# cdc_col = \"modifiedDate\"\n",
    "\n",
    "# # Backdated Refresh\n",
    "# backdated_refresh = \"\"\n",
    "\n",
    "# # Source Object\n",
    "# source_object = \"silver_flights\"\n",
    "\n",
    "# # Source Schema\n",
    "# source_schema = \"silver\"\n",
    "\n",
    "# # Target Schema \n",
    "# target_schema = \"gold\"\n",
    "\n",
    "# # Target Object \n",
    "# target_object = \"Dimflights\"\n",
    "\n",
    "# # Surrogate Key\n",
    "# surrogate_key = \"DimflightKey\"\n"
   ]
  },
  {
   "cell_type": "code",
   "execution_count": 0,
   "metadata": {
    "application/vnd.databricks.v1+cell": {
     "cellMetadata": {
      "byteLimit": 2048000,
      "rowLimit": 10000
     },
     "inputWidgets": {},
     "nuid": "aa4a1aec-5cf7-40b4-9988-e1266c79e199",
     "showTitle": false,
     "tableResultSettingsMap": {},
     "title": ""
    }
   },
   "outputs": [
    {
     "output_type": "stream",
     "name": "stdout",
     "output_type": "stream",
     "text": [
      "1900-01-01 00:00:00\n"
     ]
    }
   ],
   "source": [
    "# No Back Dated Refresh\n",
    "if len(backdated_refresh) == 0:\n",
    "  \n",
    "  # If Table Exists In The Destination\n",
    "  if spark.catalog.tableExists(f\"{catalog}.{target_schema}.{target_object}\"):\n",
    "\n",
    "    last_load = spark.sql(f\"SELECT max({cdc_col}) FROM workspace.{target_schema}.{target_object}\").collect()[0][0]\n",
    "    \n",
    "  else:\n",
    "    last_load = \"1900-01-01 00:00:00\"\n",
    "\n",
    "# Yes Back Dated Refresh\n",
    "else:\n",
    "  last_load = backdated_refresh\n",
    "\n",
    "# Test The Last Load \n",
    "print(last_load)"
   ]
  },
  {
   "cell_type": "code",
   "execution_count": 0,
   "metadata": {
    "application/vnd.databricks.v1+cell": {
     "cellMetadata": {
      "byteLimit": 2048000,
      "rowLimit": 10000
     },
     "inputWidgets": {},
     "nuid": "b4bb6a80-5bf9-4626-8c4c-f7b5b4a4af01",
     "showTitle": false,
     "tableResultSettingsMap": {},
     "title": ""
    }
   },
   "outputs": [
    {
     "output_type": "display_data",
     "data": {
      "text/html": [
       "<style scoped>\n",
       "  .table-result-container {\n",
       "    max-height: 300px;\n",
       "    overflow: auto;\n",
       "  }\n",
       "  table, th, td {\n",
       "    border: 1px solid black;\n",
       "    border-collapse: collapse;\n",
       "  }\n",
       "  th, td {\n",
       "    padding: 5px;\n",
       "  }\n",
       "  th {\n",
       "    text-align: left;\n",
       "  }\n",
       "</style><div class='table-result-container'><table class='table-result'><thead style='background-color: white'><tr><th>flight_id</th><th>airline</th><th>origin</th><th>destination</th><th>flight_date</th><th>modifiedDate</th></tr></thead><tbody><tr><td>F0013</td><td>Air Canada</td><td>East Brian</td><td>Wayneton</td><td>2025-05-21</td><td>2025-07-12T22:12:32.944Z</td></tr><tr><td>F0014</td><td>Air Canada</td><td>Toddland</td><td>Gonzalezport</td><td>2025-05-28</td><td>2025-07-12T22:12:32.944Z</td></tr><tr><td>F0033</td><td>Air Canada</td><td>Sandersshire</td><td>Lake Joseside</td><td>2025-06-21</td><td>2025-07-12T22:12:32.944Z</td></tr><tr><td>F0052</td><td>Qatar Airways</td><td>Lake Richard</td><td>Brookston</td><td>2025-05-28</td><td>2025-07-12T22:12:32.944Z</td></tr><tr><td>F0069</td><td>Qatar Airways</td><td>Johnsonburgh</td><td>Woodmouth</td><td>2025-06-14</td><td>2025-07-12T22:12:32.944Z</td></tr><tr><td>F0083</td><td>Lufthansa</td><td>Jasonborough</td><td>Port Audreyville</td><td>2025-05-30</td><td>2025-07-12T22:12:32.944Z</td></tr><tr><td>F0005</td><td>Qatar Airways</td><td>Bennettside</td><td>New Mistyhaven</td><td>2025-06-13</td><td>2025-07-12T22:12:32.944Z</td></tr><tr><td>F0007</td><td>Delta</td><td>Berryport</td><td>Miguelburgh</td><td>2025-05-24</td><td>2025-07-12T22:12:32.944Z</td></tr><tr><td>F0015</td><td>Delta</td><td>West Ginaton</td><td>Youngmouth</td><td>2025-05-21</td><td>2025-07-12T22:12:32.944Z</td></tr><tr><td>F0017</td><td>Delta</td><td>Wallermouth</td><td>New Rogerberg</td><td>2025-05-04</td><td>2025-07-12T22:12:32.944Z</td></tr><tr><td>F0035</td><td>Lufthansa</td><td>Karenshire</td><td>North Anthonymouth</td><td>2025-05-21</td><td>2025-07-12T22:12:32.944Z</td></tr><tr><td>F0058</td><td>Delta</td><td>North Brittanyborough</td><td>West Kellystad</td><td>2025-06-10</td><td>2025-07-12T22:12:32.944Z</td></tr><tr><td>F0003</td><td>Lufthansa</td><td>East Patrickborough</td><td>North Mary</td><td>2025-05-11</td><td>2025-07-12T22:12:32.944Z</td></tr><tr><td>F0022</td><td>Air Canada</td><td>Reedchester</td><td>Cruzton</td><td>2025-04-27</td><td>2025-07-12T22:12:32.944Z</td></tr><tr><td>F0044</td><td>Qatar Airways</td><td>East Kaylaburgh</td><td>Lake Carolynchester</td><td>2025-06-01</td><td>2025-07-12T22:12:32.944Z</td></tr><tr><td>F0045</td><td>Emirates</td><td>North Michaelville</td><td>Russellton</td><td>2025-05-04</td><td>2025-07-12T22:12:32.944Z</td></tr><tr><td>F0081</td><td>Air Canada</td><td>North Barry</td><td>Josephborough</td><td>2025-04-24</td><td>2025-07-12T22:12:32.944Z</td></tr><tr><td>F0087</td><td>Emirates</td><td>Kellyland</td><td>New Jonathanmouth</td><td>2025-04-23</td><td>2025-07-12T22:12:32.944Z</td></tr><tr><td>F0004</td><td>Delta</td><td>Maddenshire</td><td>Johnchester</td><td>2025-05-16</td><td>2025-07-12T22:12:32.944Z</td></tr><tr><td>F0006</td><td>Air Canada</td><td>New Richardside</td><td>South Jamesborough</td><td>2025-05-16</td><td>2025-07-12T22:12:32.944Z</td></tr><tr><td>F0019</td><td>Lufthansa</td><td>Lake Scott</td><td>Christineborough</td><td>2025-05-18</td><td>2025-07-12T22:12:32.944Z</td></tr><tr><td>F0029</td><td>Qatar Airways</td><td>Shortberg</td><td>Julieburgh</td><td>2025-05-11</td><td>2025-07-12T22:12:32.944Z</td></tr><tr><td>F0031</td><td>Emirates</td><td>Billview</td><td>Jonathonborough</td><td>2025-06-14</td><td>2025-07-12T22:12:32.944Z</td></tr><tr><td>F0036</td><td>Lufthansa</td><td>Armstrongbury</td><td>North Natashamouth</td><td>2025-05-05</td><td>2025-07-12T22:12:32.944Z</td></tr><tr><td>F0043</td><td>Lufthansa</td><td>Kimberlyborough</td><td>New Annfort</td><td>2025-05-15</td><td>2025-07-12T22:12:32.944Z</td></tr><tr><td>F0055</td><td>Air Canada</td><td>Spencerborough</td><td>Randyville</td><td>2025-06-09</td><td>2025-07-12T22:12:32.944Z</td></tr><tr><td>F0061</td><td>Lufthansa</td><td>Dawnshire</td><td>Stevenmouth</td><td>2025-04-24</td><td>2025-07-12T22:12:32.944Z</td></tr><tr><td>F0091</td><td>Lufthansa</td><td>Lake Scott</td><td>Williamshire</td><td>2025-06-04</td><td>2025-07-12T22:12:32.944Z</td></tr><tr><td>F0093</td><td>Air Canada</td><td>Frenchside</td><td>West Christopher</td><td>2025-05-28</td><td>2025-07-12T22:12:32.944Z</td></tr><tr><td>F0016</td><td>Qatar Airways</td><td>Smithborough</td><td>Randallview</td><td>2025-05-02</td><td>2025-07-12T22:12:32.944Z</td></tr><tr><td>F0040</td><td>Delta</td><td>Ianport</td><td>Lake Reginaldside</td><td>2025-04-23</td><td>2025-07-12T22:12:32.944Z</td></tr><tr><td>F0071</td><td>Delta</td><td>Jefferyberg</td><td>Wendyshire</td><td>2025-06-17</td><td>2025-07-12T22:12:32.944Z</td></tr><tr><td>F0096</td><td>Lufthansa</td><td>Coreyfort</td><td>West Joseph</td><td>2025-06-06</td><td>2025-07-12T22:12:32.944Z</td></tr><tr><td>F0010</td><td>Emirates</td><td>Kruegerchester</td><td>Martintown</td><td>2025-05-20</td><td>2025-07-12T22:12:32.944Z</td></tr><tr><td>F0037</td><td>Air Canada</td><td>Yangville</td><td>Jacksonview</td><td>2025-04-29</td><td>2025-07-12T22:12:32.944Z</td></tr><tr><td>F0073</td><td>Lufthansa</td><td>South Jasonville</td><td>Clarkeshire</td><td>2025-06-09</td><td>2025-07-12T22:12:32.944Z</td></tr><tr><td>F0097</td><td>Emirates</td><td>Billyport</td><td>Brentton</td><td>2025-05-18</td><td>2025-07-12T22:12:32.944Z</td></tr><tr><td>F0023</td><td>Lufthansa</td><td>Port Jeremyfurt</td><td>Lake Walterside</td><td>2025-05-11</td><td>2025-07-12T22:12:32.944Z</td></tr><tr><td>F0024</td><td>Lufthansa</td><td>Leestad</td><td>Port Debra</td><td>2025-05-09</td><td>2025-07-12T22:12:32.944Z</td></tr><tr><td>F0032</td><td>Emirates</td><td>Bushhaven</td><td>Patriciamouth</td><td>2025-05-22</td><td>2025-07-12T22:12:32.944Z</td></tr><tr><td>F0053</td><td>Qatar Airways</td><td>West Dylanbury</td><td>North Wendy</td><td>2025-05-24</td><td>2025-07-12T22:12:32.944Z</td></tr><tr><td>F0057</td><td>Air Canada</td><td>Samanthashire</td><td>Fisherstad</td><td>2025-06-09</td><td>2025-07-12T22:12:32.944Z</td></tr><tr><td>F0094</td><td>Emirates</td><td>South Amyfurt</td><td>Jimenezview</td><td>2025-06-14</td><td>2025-07-12T22:12:32.944Z</td></tr><tr><td>F0012</td><td>Air Canada</td><td>New Hunter</td><td>East Maria</td><td>2025-04-23</td><td>2025-07-12T22:12:32.944Z</td></tr><tr><td>F0038</td><td>Delta</td><td>Port Nicole</td><td>South Corey</td><td>2025-05-22</td><td>2025-07-12T22:12:32.944Z</td></tr><tr><td>F0067</td><td>Delta</td><td>Campbellborough</td><td>South Jason</td><td>2025-05-13</td><td>2025-07-12T22:12:32.944Z</td></tr><tr><td>F0068</td><td>Qatar Airways</td><td>Lake Seanport</td><td>Fieldsstad</td><td>2025-06-17</td><td>2025-07-12T22:12:32.944Z</td></tr><tr><td>F0075</td><td>Qatar Airways</td><td>New Danielhaven</td><td>Cunninghamfurt</td><td>2025-04-27</td><td>2025-07-12T22:12:32.944Z</td></tr><tr><td>F0084</td><td>Delta</td><td>Franklinmouth</td><td>Lake Joseph</td><td>2025-05-30</td><td>2025-07-12T22:12:32.944Z</td></tr><tr><td>F0046</td><td>Qatar Airways</td><td>West David</td><td>North Becky</td><td>2025-04-30</td><td>2025-07-12T22:12:32.944Z</td></tr><tr><td>F0077</td><td>Qatar Airways</td><td>Samuelfort</td><td>Port Ashley</td><td>2025-06-12</td><td>2025-07-12T22:12:32.944Z</td></tr><tr><td>F0021</td><td>Emirates</td><td>South Sara</td><td>North Annaport</td><td>2025-05-29</td><td>2025-07-12T22:12:32.944Z</td></tr><tr><td>F0030</td><td>Delta</td><td>Angelamouth</td><td>Sosaside</td><td>2025-06-16</td><td>2025-07-12T22:12:32.944Z</td></tr><tr><td>F0039</td><td>Air Canada</td><td>Paultown</td><td>Kellyton</td><td>2025-05-19</td><td>2025-07-12T22:12:32.944Z</td></tr><tr><td>F0047</td><td>Lufthansa</td><td>New Cory</td><td>Lorettashire</td><td>2025-05-05</td><td>2025-07-12T22:12:32.944Z</td></tr><tr><td>F0090</td><td>Delta</td><td>East Rachelport</td><td>Davisport</td><td>2025-05-23</td><td>2025-07-12T22:12:32.944Z</td></tr><tr><td>F0026</td><td>Air Canada</td><td>New Deborahfort</td><td>New Sabrina</td><td>2025-05-10</td><td>2025-07-12T22:12:32.944Z</td></tr><tr><td>F0059</td><td>Lufthansa</td><td>South Jeffrey</td><td>Jamesland</td><td>2025-05-10</td><td>2025-07-12T22:12:32.944Z</td></tr><tr><td>F0089</td><td>Qatar Airways</td><td>Robinsonberg</td><td>Adrianchester</td><td>2025-05-21</td><td>2025-07-12T22:12:32.944Z</td></tr><tr><td>F0092</td><td>Lufthansa</td><td>Austinborough</td><td>Bautistafort</td><td>2025-05-29</td><td>2025-07-12T22:12:32.944Z</td></tr><tr><td>F0001</td><td>Delta</td><td>Kellyfort</td><td>South Kathleen</td><td>2025-05-04</td><td>2025-07-12T22:12:32.944Z</td></tr><tr><td>F0018</td><td>Air Canada</td><td>Schultzborough</td><td>Danielton</td><td>2025-06-01</td><td>2025-07-12T22:12:32.944Z</td></tr><tr><td>F0042</td><td>Air Canada</td><td>Port William</td><td>Darrenmouth</td><td>2025-05-11</td><td>2025-07-12T22:12:32.944Z</td></tr><tr><td>F0049</td><td>Emirates</td><td>New Elizabethmouth</td><td>Lake Heathermouth</td><td>2025-05-06</td><td>2025-07-12T22:12:32.944Z</td></tr><tr><td>F0050</td><td>Air Canada</td><td>East Gailtown</td><td>Stevenville</td><td>2025-04-28</td><td>2025-07-12T22:12:32.944Z</td></tr><tr><td>F0051</td><td>Qatar Airways</td><td>Lisafurt</td><td>New Robert</td><td>2025-05-07</td><td>2025-07-12T22:12:32.944Z</td></tr><tr><td>F0060</td><td>Air Canada</td><td>Port Angelicaborough</td><td>East Daniel</td><td>2025-05-21</td><td>2025-07-12T22:12:32.944Z</td></tr><tr><td>F0062</td><td>Lufthansa</td><td>East Samanthafurt</td><td>Lake Troy</td><td>2025-05-12</td><td>2025-07-12T22:12:32.944Z</td></tr><tr><td>F0064</td><td>Delta</td><td>East Joshuastad</td><td>North Austinland</td><td>2025-05-25</td><td>2025-07-12T22:12:32.944Z</td></tr><tr><td>F0066</td><td>Qatar Airways</td><td>Stephenberg</td><td>Marcborough</td><td>2025-06-04</td><td>2025-07-12T22:12:32.944Z</td></tr><tr><td>F0070</td><td>Air Canada</td><td>Glennhaven</td><td>Port Darrenchester</td><td>2025-05-04</td><td>2025-07-12T22:12:32.944Z</td></tr><tr><td>F0100</td><td>Qatar Airways</td><td>Port Anthony</td><td>Thompsonfort</td><td>2025-05-31</td><td>2025-07-12T22:12:32.944Z</td></tr><tr><td>F0020</td><td>Lufthansa</td><td>North Jack</td><td>Loweville</td><td>2025-06-02</td><td>2025-07-12T22:12:32.944Z</td></tr><tr><td>F0048</td><td>Lufthansa</td><td>Cooperview</td><td>Michelleburgh</td><td>2025-05-24</td><td>2025-07-12T22:12:32.944Z</td></tr><tr><td>F0078</td><td>Qatar Airways</td><td>Howardbury</td><td>Burchburgh</td><td>2025-05-09</td><td>2025-07-12T22:12:32.944Z</td></tr><tr><td>F0082</td><td>Qatar Airways</td><td>North Erikamouth</td><td>Danielfort</td><td>2025-05-19</td><td>2025-07-12T22:12:32.944Z</td></tr><tr><td>F0099</td><td>Air Canada</td><td>Lake Connor</td><td>Matthewberg</td><td>2025-04-28</td><td>2025-07-12T22:12:32.944Z</td></tr><tr><td>F0034</td><td>Emirates</td><td>Johnsonville</td><td>Cooperland</td><td>2025-05-18</td><td>2025-07-12T22:12:32.944Z</td></tr><tr><td>F0063</td><td>Lufthansa</td><td>Floresshire</td><td>New Anita</td><td>2025-06-03</td><td>2025-07-12T22:12:32.944Z</td></tr><tr><td>F0076</td><td>Lufthansa</td><td>Johnsonchester</td><td>New Michael</td><td>2025-05-14</td><td>2025-07-12T22:12:32.944Z</td></tr><tr><td>F0079</td><td>Delta</td><td>Jonesburgh</td><td>Andradeville</td><td>2025-06-17</td><td>2025-07-12T22:12:32.944Z</td></tr><tr><td>F0080</td><td>Emirates</td><td>Sonyaberg</td><td>East Sarah</td><td>2025-06-13</td><td>2025-07-12T22:12:32.944Z</td></tr><tr><td>F0085</td><td>Lufthansa</td><td>Hillton</td><td>Castroborough</td><td>2025-05-19</td><td>2025-07-12T22:12:32.944Z</td></tr><tr><td>F0095</td><td>Qatar Airways</td><td>North Dawnberg</td><td>East Sarahmouth</td><td>2025-05-26</td><td>2025-07-12T22:12:32.944Z</td></tr><tr><td>F0002</td><td>Qatar Airways</td><td>Lake Stephen</td><td>New Vincent</td><td>2025-04-29</td><td>2025-07-12T22:12:32.944Z</td></tr><tr><td>F0027</td><td>Delta</td><td>Acevedoville</td><td>Ericchester</td><td>2025-05-14</td><td>2025-07-12T22:12:32.944Z</td></tr><tr><td>F0028</td><td>Delta</td><td>South Michaelberg</td><td>South Markbury</td><td>2025-05-30</td><td>2025-07-12T22:12:32.944Z</td></tr><tr><td>F0056</td><td>Lufthansa</td><td>South Natalie</td><td>Schaefertown</td><td>2025-05-03</td><td>2025-07-12T22:12:32.944Z</td></tr><tr><td>F0086</td><td>Delta</td><td>Port Chelsea</td><td>Robertchester</td><td>2025-05-08</td><td>2025-07-12T22:12:32.944Z</td></tr><tr><td>F0098</td><td>Air Canada</td><td>Wallerburgh</td><td>Lake Karen</td><td>2025-05-01</td><td>2025-07-12T22:12:32.944Z</td></tr><tr><td>F0008</td><td>Lufthansa</td><td>Briannachester</td><td>Cervantesland</td><td>2025-05-26</td><td>2025-07-12T22:12:32.944Z</td></tr><tr><td>F0009</td><td>Delta</td><td>Alexandraborough</td><td>North Alexishaven</td><td>2025-06-10</td><td>2025-07-12T22:12:32.944Z</td></tr><tr><td>F0011</td><td>Lufthansa</td><td>Port Joannahaven</td><td>North Jasonton</td><td>2025-05-30</td><td>2025-07-12T22:12:32.944Z</td></tr><tr><td>F0025</td><td>Qatar Airways</td><td>Chelseaberg</td><td>North Michaelshire</td><td>2025-06-01</td><td>2025-07-12T22:12:32.944Z</td></tr><tr><td>F0041</td><td>Air Canada</td><td>Lake Stanleyside</td><td>Port Scott</td><td>2025-06-14</td><td>2025-07-12T22:12:32.944Z</td></tr><tr><td>F0054</td><td>Air Canada</td><td>Seanmouth</td><td>North Kathyton</td><td>2025-05-09</td><td>2025-07-12T22:12:32.944Z</td></tr><tr><td>F0065</td><td>Emirates</td><td>East Paulland</td><td>Barnesberg</td><td>2025-04-29</td><td>2025-07-12T22:12:32.944Z</td></tr><tr><td>F0072</td><td>Emirates</td><td>Heiditown</td><td>Port Sabrinaburgh</td><td>2025-05-22</td><td>2025-07-12T22:12:32.944Z</td></tr><tr><td>F0074</td><td>Air Canada</td><td>Duffyville</td><td>Port Vanessa</td><td>2025-05-28</td><td>2025-07-12T22:12:32.944Z</td></tr><tr><td>F0088</td><td>Qatar Airways</td><td>North Miguel</td><td>Lake Allisonfurt</td><td>2025-05-28</td><td>2025-07-12T22:12:32.944Z</td></tr><tr><td>F0107</td><td>Air Canada</td><td>Mitchelltown</td><td>Johnsonbury</td><td>2025-07-01</td><td>2025-07-12T22:12:32.944Z</td></tr><tr><td>F0103</td><td>Qatar Airways</td><td>Jameschester</td><td>Ashleyberg</td><td>2025-07-15</td><td>2025-07-12T22:12:32.944Z</td></tr><tr><td>F0102</td><td>Delta</td><td>Schroederbury</td><td>Sethfort</td><td>2025-06-25</td><td>2025-07-12T22:12:32.944Z</td></tr><tr><td>F0109</td><td>Air Canada</td><td>Williamsland</td><td>South Carolberg</td><td>2025-06-14</td><td>2025-07-12T22:12:32.944Z</td></tr><tr><td>F0108</td><td>Lufthansa</td><td>New Jennifer</td><td>Lake Tracie</td><td>2025-06-28</td><td>2025-07-12T22:12:32.944Z</td></tr><tr><td>F0101</td><td>Qatar Airways</td><td>Lake Joshuamouth</td><td>Johnshire</td><td>2025-07-14</td><td>2025-07-12T22:12:32.944Z</td></tr><tr><td>F0104</td><td>Qatar Airways</td><td>Huangstad</td><td>Catherinehaven</td><td>2025-06-29</td><td>2025-07-12T22:12:32.944Z</td></tr><tr><td>F0105</td><td>Air Canada</td><td>Aprilton</td><td>Victorville</td><td>2025-07-05</td><td>2025-07-12T22:12:32.944Z</td></tr><tr><td>F0106</td><td>Lufthansa</td><td>East Austinmouth</td><td>New Toddburgh</td><td>2025-06-22</td><td>2025-07-12T22:12:32.944Z</td></tr><tr><td>F0110</td><td>Emirates</td><td>Churchport</td><td>Wrightton</td><td>2025-07-15</td><td>2025-07-12T22:12:32.944Z</td></tr></tbody></table></div>"
      ]
     },
     "metadata": {
      "application/vnd.databricks.v1+output": {
       "addedWidgets": {},
       "aggData": [],
       "aggError": "",
       "aggOverflow": false,
       "aggSchema": [],
       "aggSeriesLimitReached": false,
       "aggType": "",
       "arguments": {},
       "columnCustomDisplayInfos": {},
       "data": [
        [
         "F0013",
         "Air Canada",
         "East Brian",
         "Wayneton",
         "2025-05-21",
         "2025-07-12T22:12:32.944Z"
        ],
        [
         "F0014",
         "Air Canada",
         "Toddland",
         "Gonzalezport",
         "2025-05-28",
         "2025-07-12T22:12:32.944Z"
        ],
        [
         "F0033",
         "Air Canada",
         "Sandersshire",
         "Lake Joseside",
         "2025-06-21",
         "2025-07-12T22:12:32.944Z"
        ],
        [
         "F0052",
         "Qatar Airways",
         "Lake Richard",
         "Brookston",
         "2025-05-28",
         "2025-07-12T22:12:32.944Z"
        ],
        [
         "F0069",
         "Qatar Airways",
         "Johnsonburgh",
         "Woodmouth",
         "2025-06-14",
         "2025-07-12T22:12:32.944Z"
        ],
        [
         "F0083",
         "Lufthansa",
         "Jasonborough",
         "Port Audreyville",
         "2025-05-30",
         "2025-07-12T22:12:32.944Z"
        ],
        [
         "F0005",
         "Qatar Airways",
         "Bennettside",
         "New Mistyhaven",
         "2025-06-13",
         "2025-07-12T22:12:32.944Z"
        ],
        [
         "F0007",
         "Delta",
         "Berryport",
         "Miguelburgh",
         "2025-05-24",
         "2025-07-12T22:12:32.944Z"
        ],
        [
         "F0015",
         "Delta",
         "West Ginaton",
         "Youngmouth",
         "2025-05-21",
         "2025-07-12T22:12:32.944Z"
        ],
        [
         "F0017",
         "Delta",
         "Wallermouth",
         "New Rogerberg",
         "2025-05-04",
         "2025-07-12T22:12:32.944Z"
        ],
        [
         "F0035",
         "Lufthansa",
         "Karenshire",
         "North Anthonymouth",
         "2025-05-21",
         "2025-07-12T22:12:32.944Z"
        ],
        [
         "F0058",
         "Delta",
         "North Brittanyborough",
         "West Kellystad",
         "2025-06-10",
         "2025-07-12T22:12:32.944Z"
        ],
        [
         "F0003",
         "Lufthansa",
         "East Patrickborough",
         "North Mary",
         "2025-05-11",
         "2025-07-12T22:12:32.944Z"
        ],
        [
         "F0022",
         "Air Canada",
         "Reedchester",
         "Cruzton",
         "2025-04-27",
         "2025-07-12T22:12:32.944Z"
        ],
        [
         "F0044",
         "Qatar Airways",
         "East Kaylaburgh",
         "Lake Carolynchester",
         "2025-06-01",
         "2025-07-12T22:12:32.944Z"
        ],
        [
         "F0045",
         "Emirates",
         "North Michaelville",
         "Russellton",
         "2025-05-04",
         "2025-07-12T22:12:32.944Z"
        ],
        [
         "F0081",
         "Air Canada",
         "North Barry",
         "Josephborough",
         "2025-04-24",
         "2025-07-12T22:12:32.944Z"
        ],
        [
         "F0087",
         "Emirates",
         "Kellyland",
         "New Jonathanmouth",
         "2025-04-23",
         "2025-07-12T22:12:32.944Z"
        ],
        [
         "F0004",
         "Delta",
         "Maddenshire",
         "Johnchester",
         "2025-05-16",
         "2025-07-12T22:12:32.944Z"
        ],
        [
         "F0006",
         "Air Canada",
         "New Richardside",
         "South Jamesborough",
         "2025-05-16",
         "2025-07-12T22:12:32.944Z"
        ],
        [
         "F0019",
         "Lufthansa",
         "Lake Scott",
         "Christineborough",
         "2025-05-18",
         "2025-07-12T22:12:32.944Z"
        ],
        [
         "F0029",
         "Qatar Airways",
         "Shortberg",
         "Julieburgh",
         "2025-05-11",
         "2025-07-12T22:12:32.944Z"
        ],
        [
         "F0031",
         "Emirates",
         "Billview",
         "Jonathonborough",
         "2025-06-14",
         "2025-07-12T22:12:32.944Z"
        ],
        [
         "F0036",
         "Lufthansa",
         "Armstrongbury",
         "North Natashamouth",
         "2025-05-05",
         "2025-07-12T22:12:32.944Z"
        ],
        [
         "F0043",
         "Lufthansa",
         "Kimberlyborough",
         "New Annfort",
         "2025-05-15",
         "2025-07-12T22:12:32.944Z"
        ],
        [
         "F0055",
         "Air Canada",
         "Spencerborough",
         "Randyville",
         "2025-06-09",
         "2025-07-12T22:12:32.944Z"
        ],
        [
         "F0061",
         "Lufthansa",
         "Dawnshire",
         "Stevenmouth",
         "2025-04-24",
         "2025-07-12T22:12:32.944Z"
        ],
        [
         "F0091",
         "Lufthansa",
         "Lake Scott",
         "Williamshire",
         "2025-06-04",
         "2025-07-12T22:12:32.944Z"
        ],
        [
         "F0093",
         "Air Canada",
         "Frenchside",
         "West Christopher",
         "2025-05-28",
         "2025-07-12T22:12:32.944Z"
        ],
        [
         "F0016",
         "Qatar Airways",
         "Smithborough",
         "Randallview",
         "2025-05-02",
         "2025-07-12T22:12:32.944Z"
        ],
        [
         "F0040",
         "Delta",
         "Ianport",
         "Lake Reginaldside",
         "2025-04-23",
         "2025-07-12T22:12:32.944Z"
        ],
        [
         "F0071",
         "Delta",
         "Jefferyberg",
         "Wendyshire",
         "2025-06-17",
         "2025-07-12T22:12:32.944Z"
        ],
        [
         "F0096",
         "Lufthansa",
         "Coreyfort",
         "West Joseph",
         "2025-06-06",
         "2025-07-12T22:12:32.944Z"
        ],
        [
         "F0010",
         "Emirates",
         "Kruegerchester",
         "Martintown",
         "2025-05-20",
         "2025-07-12T22:12:32.944Z"
        ],
        [
         "F0037",
         "Air Canada",
         "Yangville",
         "Jacksonview",
         "2025-04-29",
         "2025-07-12T22:12:32.944Z"
        ],
        [
         "F0073",
         "Lufthansa",
         "South Jasonville",
         "Clarkeshire",
         "2025-06-09",
         "2025-07-12T22:12:32.944Z"
        ],
        [
         "F0097",
         "Emirates",
         "Billyport",
         "Brentton",
         "2025-05-18",
         "2025-07-12T22:12:32.944Z"
        ],
        [
         "F0023",
         "Lufthansa",
         "Port Jeremyfurt",
         "Lake Walterside",
         "2025-05-11",
         "2025-07-12T22:12:32.944Z"
        ],
        [
         "F0024",
         "Lufthansa",
         "Leestad",
         "Port Debra",
         "2025-05-09",
         "2025-07-12T22:12:32.944Z"
        ],
        [
         "F0032",
         "Emirates",
         "Bushhaven",
         "Patriciamouth",
         "2025-05-22",
         "2025-07-12T22:12:32.944Z"
        ],
        [
         "F0053",
         "Qatar Airways",
         "West Dylanbury",
         "North Wendy",
         "2025-05-24",
         "2025-07-12T22:12:32.944Z"
        ],
        [
         "F0057",
         "Air Canada",
         "Samanthashire",
         "Fisherstad",
         "2025-06-09",
         "2025-07-12T22:12:32.944Z"
        ],
        [
         "F0094",
         "Emirates",
         "South Amyfurt",
         "Jimenezview",
         "2025-06-14",
         "2025-07-12T22:12:32.944Z"
        ],
        [
         "F0012",
         "Air Canada",
         "New Hunter",
         "East Maria",
         "2025-04-23",
         "2025-07-12T22:12:32.944Z"
        ],
        [
         "F0038",
         "Delta",
         "Port Nicole",
         "South Corey",
         "2025-05-22",
         "2025-07-12T22:12:32.944Z"
        ],
        [
         "F0067",
         "Delta",
         "Campbellborough",
         "South Jason",
         "2025-05-13",
         "2025-07-12T22:12:32.944Z"
        ],
        [
         "F0068",
         "Qatar Airways",
         "Lake Seanport",
         "Fieldsstad",
         "2025-06-17",
         "2025-07-12T22:12:32.944Z"
        ],
        [
         "F0075",
         "Qatar Airways",
         "New Danielhaven",
         "Cunninghamfurt",
         "2025-04-27",
         "2025-07-12T22:12:32.944Z"
        ],
        [
         "F0084",
         "Delta",
         "Franklinmouth",
         "Lake Joseph",
         "2025-05-30",
         "2025-07-12T22:12:32.944Z"
        ],
        [
         "F0046",
         "Qatar Airways",
         "West David",
         "North Becky",
         "2025-04-30",
         "2025-07-12T22:12:32.944Z"
        ],
        [
         "F0077",
         "Qatar Airways",
         "Samuelfort",
         "Port Ashley",
         "2025-06-12",
         "2025-07-12T22:12:32.944Z"
        ],
        [
         "F0021",
         "Emirates",
         "South Sara",
         "North Annaport",
         "2025-05-29",
         "2025-07-12T22:12:32.944Z"
        ],
        [
         "F0030",
         "Delta",
         "Angelamouth",
         "Sosaside",
         "2025-06-16",
         "2025-07-12T22:12:32.944Z"
        ],
        [
         "F0039",
         "Air Canada",
         "Paultown",
         "Kellyton",
         "2025-05-19",
         "2025-07-12T22:12:32.944Z"
        ],
        [
         "F0047",
         "Lufthansa",
         "New Cory",
         "Lorettashire",
         "2025-05-05",
         "2025-07-12T22:12:32.944Z"
        ],
        [
         "F0090",
         "Delta",
         "East Rachelport",
         "Davisport",
         "2025-05-23",
         "2025-07-12T22:12:32.944Z"
        ],
        [
         "F0026",
         "Air Canada",
         "New Deborahfort",
         "New Sabrina",
         "2025-05-10",
         "2025-07-12T22:12:32.944Z"
        ],
        [
         "F0059",
         "Lufthansa",
         "South Jeffrey",
         "Jamesland",
         "2025-05-10",
         "2025-07-12T22:12:32.944Z"
        ],
        [
         "F0089",
         "Qatar Airways",
         "Robinsonberg",
         "Adrianchester",
         "2025-05-21",
         "2025-07-12T22:12:32.944Z"
        ],
        [
         "F0092",
         "Lufthansa",
         "Austinborough",
         "Bautistafort",
         "2025-05-29",
         "2025-07-12T22:12:32.944Z"
        ],
        [
         "F0001",
         "Delta",
         "Kellyfort",
         "South Kathleen",
         "2025-05-04",
         "2025-07-12T22:12:32.944Z"
        ],
        [
         "F0018",
         "Air Canada",
         "Schultzborough",
         "Danielton",
         "2025-06-01",
         "2025-07-12T22:12:32.944Z"
        ],
        [
         "F0042",
         "Air Canada",
         "Port William",
         "Darrenmouth",
         "2025-05-11",
         "2025-07-12T22:12:32.944Z"
        ],
        [
         "F0049",
         "Emirates",
         "New Elizabethmouth",
         "Lake Heathermouth",
         "2025-05-06",
         "2025-07-12T22:12:32.944Z"
        ],
        [
         "F0050",
         "Air Canada",
         "East Gailtown",
         "Stevenville",
         "2025-04-28",
         "2025-07-12T22:12:32.944Z"
        ],
        [
         "F0051",
         "Qatar Airways",
         "Lisafurt",
         "New Robert",
         "2025-05-07",
         "2025-07-12T22:12:32.944Z"
        ],
        [
         "F0060",
         "Air Canada",
         "Port Angelicaborough",
         "East Daniel",
         "2025-05-21",
         "2025-07-12T22:12:32.944Z"
        ],
        [
         "F0062",
         "Lufthansa",
         "East Samanthafurt",
         "Lake Troy",
         "2025-05-12",
         "2025-07-12T22:12:32.944Z"
        ],
        [
         "F0064",
         "Delta",
         "East Joshuastad",
         "North Austinland",
         "2025-05-25",
         "2025-07-12T22:12:32.944Z"
        ],
        [
         "F0066",
         "Qatar Airways",
         "Stephenberg",
         "Marcborough",
         "2025-06-04",
         "2025-07-12T22:12:32.944Z"
        ],
        [
         "F0070",
         "Air Canada",
         "Glennhaven",
         "Port Darrenchester",
         "2025-05-04",
         "2025-07-12T22:12:32.944Z"
        ],
        [
         "F0100",
         "Qatar Airways",
         "Port Anthony",
         "Thompsonfort",
         "2025-05-31",
         "2025-07-12T22:12:32.944Z"
        ],
        [
         "F0020",
         "Lufthansa",
         "North Jack",
         "Loweville",
         "2025-06-02",
         "2025-07-12T22:12:32.944Z"
        ],
        [
         "F0048",
         "Lufthansa",
         "Cooperview",
         "Michelleburgh",
         "2025-05-24",
         "2025-07-12T22:12:32.944Z"
        ],
        [
         "F0078",
         "Qatar Airways",
         "Howardbury",
         "Burchburgh",
         "2025-05-09",
         "2025-07-12T22:12:32.944Z"
        ],
        [
         "F0082",
         "Qatar Airways",
         "North Erikamouth",
         "Danielfort",
         "2025-05-19",
         "2025-07-12T22:12:32.944Z"
        ],
        [
         "F0099",
         "Air Canada",
         "Lake Connor",
         "Matthewberg",
         "2025-04-28",
         "2025-07-12T22:12:32.944Z"
        ],
        [
         "F0034",
         "Emirates",
         "Johnsonville",
         "Cooperland",
         "2025-05-18",
         "2025-07-12T22:12:32.944Z"
        ],
        [
         "F0063",
         "Lufthansa",
         "Floresshire",
         "New Anita",
         "2025-06-03",
         "2025-07-12T22:12:32.944Z"
        ],
        [
         "F0076",
         "Lufthansa",
         "Johnsonchester",
         "New Michael",
         "2025-05-14",
         "2025-07-12T22:12:32.944Z"
        ],
        [
         "F0079",
         "Delta",
         "Jonesburgh",
         "Andradeville",
         "2025-06-17",
         "2025-07-12T22:12:32.944Z"
        ],
        [
         "F0080",
         "Emirates",
         "Sonyaberg",
         "East Sarah",
         "2025-06-13",
         "2025-07-12T22:12:32.944Z"
        ],
        [
         "F0085",
         "Lufthansa",
         "Hillton",
         "Castroborough",
         "2025-05-19",
         "2025-07-12T22:12:32.944Z"
        ],
        [
         "F0095",
         "Qatar Airways",
         "North Dawnberg",
         "East Sarahmouth",
         "2025-05-26",
         "2025-07-12T22:12:32.944Z"
        ],
        [
         "F0002",
         "Qatar Airways",
         "Lake Stephen",
         "New Vincent",
         "2025-04-29",
         "2025-07-12T22:12:32.944Z"
        ],
        [
         "F0027",
         "Delta",
         "Acevedoville",
         "Ericchester",
         "2025-05-14",
         "2025-07-12T22:12:32.944Z"
        ],
        [
         "F0028",
         "Delta",
         "South Michaelberg",
         "South Markbury",
         "2025-05-30",
         "2025-07-12T22:12:32.944Z"
        ],
        [
         "F0056",
         "Lufthansa",
         "South Natalie",
         "Schaefertown",
         "2025-05-03",
         "2025-07-12T22:12:32.944Z"
        ],
        [
         "F0086",
         "Delta",
         "Port Chelsea",
         "Robertchester",
         "2025-05-08",
         "2025-07-12T22:12:32.944Z"
        ],
        [
         "F0098",
         "Air Canada",
         "Wallerburgh",
         "Lake Karen",
         "2025-05-01",
         "2025-07-12T22:12:32.944Z"
        ],
        [
         "F0008",
         "Lufthansa",
         "Briannachester",
         "Cervantesland",
         "2025-05-26",
         "2025-07-12T22:12:32.944Z"
        ],
        [
         "F0009",
         "Delta",
         "Alexandraborough",
         "North Alexishaven",
         "2025-06-10",
         "2025-07-12T22:12:32.944Z"
        ],
        [
         "F0011",
         "Lufthansa",
         "Port Joannahaven",
         "North Jasonton",
         "2025-05-30",
         "2025-07-12T22:12:32.944Z"
        ],
        [
         "F0025",
         "Qatar Airways",
         "Chelseaberg",
         "North Michaelshire",
         "2025-06-01",
         "2025-07-12T22:12:32.944Z"
        ],
        [
         "F0041",
         "Air Canada",
         "Lake Stanleyside",
         "Port Scott",
         "2025-06-14",
         "2025-07-12T22:12:32.944Z"
        ],
        [
         "F0054",
         "Air Canada",
         "Seanmouth",
         "North Kathyton",
         "2025-05-09",
         "2025-07-12T22:12:32.944Z"
        ],
        [
         "F0065",
         "Emirates",
         "East Paulland",
         "Barnesberg",
         "2025-04-29",
         "2025-07-12T22:12:32.944Z"
        ],
        [
         "F0072",
         "Emirates",
         "Heiditown",
         "Port Sabrinaburgh",
         "2025-05-22",
         "2025-07-12T22:12:32.944Z"
        ],
        [
         "F0074",
         "Air Canada",
         "Duffyville",
         "Port Vanessa",
         "2025-05-28",
         "2025-07-12T22:12:32.944Z"
        ],
        [
         "F0088",
         "Qatar Airways",
         "North Miguel",
         "Lake Allisonfurt",
         "2025-05-28",
         "2025-07-12T22:12:32.944Z"
        ],
        [
         "F0107",
         "Air Canada",
         "Mitchelltown",
         "Johnsonbury",
         "2025-07-01",
         "2025-07-12T22:12:32.944Z"
        ],
        [
         "F0103",
         "Qatar Airways",
         "Jameschester",
         "Ashleyberg",
         "2025-07-15",
         "2025-07-12T22:12:32.944Z"
        ],
        [
         "F0102",
         "Delta",
         "Schroederbury",
         "Sethfort",
         "2025-06-25",
         "2025-07-12T22:12:32.944Z"
        ],
        [
         "F0109",
         "Air Canada",
         "Williamsland",
         "South Carolberg",
         "2025-06-14",
         "2025-07-12T22:12:32.944Z"
        ],
        [
         "F0108",
         "Lufthansa",
         "New Jennifer",
         "Lake Tracie",
         "2025-06-28",
         "2025-07-12T22:12:32.944Z"
        ],
        [
         "F0101",
         "Qatar Airways",
         "Lake Joshuamouth",
         "Johnshire",
         "2025-07-14",
         "2025-07-12T22:12:32.944Z"
        ],
        [
         "F0104",
         "Qatar Airways",
         "Huangstad",
         "Catherinehaven",
         "2025-06-29",
         "2025-07-12T22:12:32.944Z"
        ],
        [
         "F0105",
         "Air Canada",
         "Aprilton",
         "Victorville",
         "2025-07-05",
         "2025-07-12T22:12:32.944Z"
        ],
        [
         "F0106",
         "Lufthansa",
         "East Austinmouth",
         "New Toddburgh",
         "2025-06-22",
         "2025-07-12T22:12:32.944Z"
        ],
        [
         "F0110",
         "Emirates",
         "Churchport",
         "Wrightton",
         "2025-07-15",
         "2025-07-12T22:12:32.944Z"
        ]
       ],
       "datasetInfos": [],
       "dbfsResultPath": null,
       "isJsonSchema": true,
       "metadata": {},
       "overflow": false,
       "plotOptions": {
        "customPlotOptions": {},
        "displayType": "table",
        "pivotAggregation": null,
        "pivotColumns": null,
        "xColumns": null,
        "yColumns": null
       },
       "removedWidgets": [],
       "schema": [
        {
         "metadata": "{}",
         "name": "flight_id",
         "type": "\"string\""
        },
        {
         "metadata": "{}",
         "name": "airline",
         "type": "\"string\""
        },
        {
         "metadata": "{}",
         "name": "origin",
         "type": "\"string\""
        },
        {
         "metadata": "{}",
         "name": "destination",
         "type": "\"string\""
        },
        {
         "metadata": "{}",
         "name": "flight_date",
         "type": "\"date\""
        },
        {
         "metadata": "{}",
         "name": "modifiedDate",
         "type": "\"timestamp\""
        }
       ],
       "type": "table"
      }
     },
     "output_type": "display_data"
    }
   ],
   "source": [
    "\n",
    "df_src = spark.sql(f\"SELECT * FROM {source_schema}.{source_object} WHERE {cdc_col} > '{last_load}'\")\n",
    "\n",
    "# COMMAND ----------\n",
    "\n",
    "df_src.display()"
   ]
  },
  {
   "cell_type": "code",
   "execution_count": 0,
   "metadata": {
    "application/vnd.databricks.v1+cell": {
     "cellMetadata": {
      "byteLimit": 2048000,
      "rowLimit": 10000
     },
     "inputWidgets": {},
     "nuid": "deeacc4b-ca4f-44a7-b6fa-cc3a86c0c252",
     "showTitle": false,
     "tableResultSettingsMap": {},
     "title": ""
    }
   },
   "outputs": [
    {
     "output_type": "display_data",
     "data": {
      "text/html": [
       "<style scoped>\n",
       "  .table-result-container {\n",
       "    max-height: 300px;\n",
       "    overflow: auto;\n",
       "  }\n",
       "  table, th, td {\n",
       "    border: 1px solid black;\n",
       "    border-collapse: collapse;\n",
       "  }\n",
       "  th, td {\n",
       "    padding: 5px;\n",
       "  }\n",
       "  th {\n",
       "    text-align: left;\n",
       "  }\n",
       "</style><div class='table-result-container'><table class='table-result'><thead style='background-color: white'><tr><th>flight_id</th><th>DimflightKey</th><th>create_date</th><th>update_date</th></tr></thead><tbody></tbody></table></div>"
      ]
     },
     "metadata": {
      "application/vnd.databricks.v1+output": {
       "addedWidgets": {},
       "aggData": [],
       "aggError": "",
       "aggOverflow": false,
       "aggSchema": [],
       "aggSeriesLimitReached": false,
       "aggType": "",
       "arguments": {},
       "columnCustomDisplayInfos": {},
       "data": [],
       "datasetInfos": [],
       "dbfsResultPath": null,
       "isJsonSchema": true,
       "metadata": {},
       "overflow": false,
       "plotOptions": {
        "customPlotOptions": {},
        "displayType": "table",
        "pivotAggregation": null,
        "pivotColumns": null,
        "xColumns": null,
        "yColumns": null
       },
       "removedWidgets": [],
       "schema": [
        {
         "metadata": "{}",
         "name": "flight_id",
         "type": "\"string\""
        },
        {
         "metadata": "{}",
         "name": "DimflightKey",
         "type": "\"integer\""
        },
        {
         "metadata": "{}",
         "name": "create_date",
         "type": "\"timestamp\""
        },
        {
         "metadata": "{}",
         "name": "update_date",
         "type": "\"timestamp\""
        }
       ],
       "type": "table"
      }
     },
     "output_type": "display_data"
    }
   ],
   "source": [
    "if spark.catalog.tableExists(f\"{catalog}.{target_schema}.{target_object}\"): \n",
    "  # Key Columns String For Incremental\n",
    "  key_cols_string_incremental = \", \".join(key_cols_list)\n",
    "\n",
    "  df_trg = spark.sql(f\"\"\"\n",
    "                     SELECT {key_cols_string_incremental}, {surrogate_key}, create_date, update_date \n",
    "                      FROM {catalog}.{target_schema}.{target_object}\"\"\")\n",
    "\n",
    "\n",
    "else:\n",
    "\n",
    "  # Key Columns String For Initial\n",
    "  key_cols_string_init = [f\"'' AS {i}\" for i in key_cols_list]\n",
    "  key_cols_string_init = \", \".join(key_cols_string_init)\n",
    "  \n",
    "  df_trg = spark.sql(f\"\"\"SELECT {key_cols_string_init}, CAST('0' AS INT) AS {surrogate_key}, CAST('1900-01-01 00:00:00' AS timestamp) AS          create_date, CAST('1900-01-01 00:00:00' AS timestamp) AS update_date WHERE 1=0\"\"\")\n",
    "\n",
    "# COMMAND ----------\n",
    "\n",
    "df_trg.display()"
   ]
  },
  {
   "cell_type": "code",
   "execution_count": 0,
   "metadata": {
    "application/vnd.databricks.v1+cell": {
     "cellMetadata": {
      "byteLimit": 2048000,
      "rowLimit": 10000
     },
     "inputWidgets": {},
     "nuid": "50cc71fd-5541-4ae0-bfb7-46762aa0708f",
     "showTitle": false,
     "tableResultSettingsMap": {},
     "title": ""
    }
   },
   "outputs": [
    {
     "output_type": "display_data",
     "data": {
      "text/html": [
       "<style scoped>\n",
       "  .table-result-container {\n",
       "    max-height: 300px;\n",
       "    overflow: auto;\n",
       "  }\n",
       "  table, th, td {\n",
       "    border: 1px solid black;\n",
       "    border-collapse: collapse;\n",
       "  }\n",
       "  th, td {\n",
       "    padding: 5px;\n",
       "  }\n",
       "  th {\n",
       "    text-align: left;\n",
       "  }\n",
       "</style><div class='table-result-container'><table class='table-result'><thead style='background-color: white'><tr><th>flight_id</th><th>airline</th><th>origin</th><th>destination</th><th>flight_date</th><th>modifiedDate</th><th>DimflightKey</th><th>create_date</th><th>update_date</th></tr></thead><tbody><tr><td>F0013</td><td>Air Canada</td><td>East Brian</td><td>Wayneton</td><td>2025-05-21</td><td>2025-07-12T22:12:32.944Z</td><td>null</td><td>null</td><td>null</td></tr><tr><td>F0014</td><td>Air Canada</td><td>Toddland</td><td>Gonzalezport</td><td>2025-05-28</td><td>2025-07-12T22:12:32.944Z</td><td>null</td><td>null</td><td>null</td></tr><tr><td>F0033</td><td>Air Canada</td><td>Sandersshire</td><td>Lake Joseside</td><td>2025-06-21</td><td>2025-07-12T22:12:32.944Z</td><td>null</td><td>null</td><td>null</td></tr><tr><td>F0052</td><td>Qatar Airways</td><td>Lake Richard</td><td>Brookston</td><td>2025-05-28</td><td>2025-07-12T22:12:32.944Z</td><td>null</td><td>null</td><td>null</td></tr><tr><td>F0069</td><td>Qatar Airways</td><td>Johnsonburgh</td><td>Woodmouth</td><td>2025-06-14</td><td>2025-07-12T22:12:32.944Z</td><td>null</td><td>null</td><td>null</td></tr><tr><td>F0083</td><td>Lufthansa</td><td>Jasonborough</td><td>Port Audreyville</td><td>2025-05-30</td><td>2025-07-12T22:12:32.944Z</td><td>null</td><td>null</td><td>null</td></tr><tr><td>F0005</td><td>Qatar Airways</td><td>Bennettside</td><td>New Mistyhaven</td><td>2025-06-13</td><td>2025-07-12T22:12:32.944Z</td><td>null</td><td>null</td><td>null</td></tr><tr><td>F0007</td><td>Delta</td><td>Berryport</td><td>Miguelburgh</td><td>2025-05-24</td><td>2025-07-12T22:12:32.944Z</td><td>null</td><td>null</td><td>null</td></tr><tr><td>F0015</td><td>Delta</td><td>West Ginaton</td><td>Youngmouth</td><td>2025-05-21</td><td>2025-07-12T22:12:32.944Z</td><td>null</td><td>null</td><td>null</td></tr><tr><td>F0017</td><td>Delta</td><td>Wallermouth</td><td>New Rogerberg</td><td>2025-05-04</td><td>2025-07-12T22:12:32.944Z</td><td>null</td><td>null</td><td>null</td></tr><tr><td>F0035</td><td>Lufthansa</td><td>Karenshire</td><td>North Anthonymouth</td><td>2025-05-21</td><td>2025-07-12T22:12:32.944Z</td><td>null</td><td>null</td><td>null</td></tr><tr><td>F0058</td><td>Delta</td><td>North Brittanyborough</td><td>West Kellystad</td><td>2025-06-10</td><td>2025-07-12T22:12:32.944Z</td><td>null</td><td>null</td><td>null</td></tr><tr><td>F0003</td><td>Lufthansa</td><td>East Patrickborough</td><td>North Mary</td><td>2025-05-11</td><td>2025-07-12T22:12:32.944Z</td><td>null</td><td>null</td><td>null</td></tr><tr><td>F0022</td><td>Air Canada</td><td>Reedchester</td><td>Cruzton</td><td>2025-04-27</td><td>2025-07-12T22:12:32.944Z</td><td>null</td><td>null</td><td>null</td></tr><tr><td>F0044</td><td>Qatar Airways</td><td>East Kaylaburgh</td><td>Lake Carolynchester</td><td>2025-06-01</td><td>2025-07-12T22:12:32.944Z</td><td>null</td><td>null</td><td>null</td></tr><tr><td>F0045</td><td>Emirates</td><td>North Michaelville</td><td>Russellton</td><td>2025-05-04</td><td>2025-07-12T22:12:32.944Z</td><td>null</td><td>null</td><td>null</td></tr><tr><td>F0081</td><td>Air Canada</td><td>North Barry</td><td>Josephborough</td><td>2025-04-24</td><td>2025-07-12T22:12:32.944Z</td><td>null</td><td>null</td><td>null</td></tr><tr><td>F0087</td><td>Emirates</td><td>Kellyland</td><td>New Jonathanmouth</td><td>2025-04-23</td><td>2025-07-12T22:12:32.944Z</td><td>null</td><td>null</td><td>null</td></tr><tr><td>F0004</td><td>Delta</td><td>Maddenshire</td><td>Johnchester</td><td>2025-05-16</td><td>2025-07-12T22:12:32.944Z</td><td>null</td><td>null</td><td>null</td></tr><tr><td>F0006</td><td>Air Canada</td><td>New Richardside</td><td>South Jamesborough</td><td>2025-05-16</td><td>2025-07-12T22:12:32.944Z</td><td>null</td><td>null</td><td>null</td></tr><tr><td>F0019</td><td>Lufthansa</td><td>Lake Scott</td><td>Christineborough</td><td>2025-05-18</td><td>2025-07-12T22:12:32.944Z</td><td>null</td><td>null</td><td>null</td></tr><tr><td>F0029</td><td>Qatar Airways</td><td>Shortberg</td><td>Julieburgh</td><td>2025-05-11</td><td>2025-07-12T22:12:32.944Z</td><td>null</td><td>null</td><td>null</td></tr><tr><td>F0031</td><td>Emirates</td><td>Billview</td><td>Jonathonborough</td><td>2025-06-14</td><td>2025-07-12T22:12:32.944Z</td><td>null</td><td>null</td><td>null</td></tr><tr><td>F0036</td><td>Lufthansa</td><td>Armstrongbury</td><td>North Natashamouth</td><td>2025-05-05</td><td>2025-07-12T22:12:32.944Z</td><td>null</td><td>null</td><td>null</td></tr><tr><td>F0043</td><td>Lufthansa</td><td>Kimberlyborough</td><td>New Annfort</td><td>2025-05-15</td><td>2025-07-12T22:12:32.944Z</td><td>null</td><td>null</td><td>null</td></tr><tr><td>F0055</td><td>Air Canada</td><td>Spencerborough</td><td>Randyville</td><td>2025-06-09</td><td>2025-07-12T22:12:32.944Z</td><td>null</td><td>null</td><td>null</td></tr><tr><td>F0061</td><td>Lufthansa</td><td>Dawnshire</td><td>Stevenmouth</td><td>2025-04-24</td><td>2025-07-12T22:12:32.944Z</td><td>null</td><td>null</td><td>null</td></tr><tr><td>F0091</td><td>Lufthansa</td><td>Lake Scott</td><td>Williamshire</td><td>2025-06-04</td><td>2025-07-12T22:12:32.944Z</td><td>null</td><td>null</td><td>null</td></tr><tr><td>F0093</td><td>Air Canada</td><td>Frenchside</td><td>West Christopher</td><td>2025-05-28</td><td>2025-07-12T22:12:32.944Z</td><td>null</td><td>null</td><td>null</td></tr><tr><td>F0016</td><td>Qatar Airways</td><td>Smithborough</td><td>Randallview</td><td>2025-05-02</td><td>2025-07-12T22:12:32.944Z</td><td>null</td><td>null</td><td>null</td></tr><tr><td>F0040</td><td>Delta</td><td>Ianport</td><td>Lake Reginaldside</td><td>2025-04-23</td><td>2025-07-12T22:12:32.944Z</td><td>null</td><td>null</td><td>null</td></tr><tr><td>F0071</td><td>Delta</td><td>Jefferyberg</td><td>Wendyshire</td><td>2025-06-17</td><td>2025-07-12T22:12:32.944Z</td><td>null</td><td>null</td><td>null</td></tr><tr><td>F0096</td><td>Lufthansa</td><td>Coreyfort</td><td>West Joseph</td><td>2025-06-06</td><td>2025-07-12T22:12:32.944Z</td><td>null</td><td>null</td><td>null</td></tr><tr><td>F0010</td><td>Emirates</td><td>Kruegerchester</td><td>Martintown</td><td>2025-05-20</td><td>2025-07-12T22:12:32.944Z</td><td>null</td><td>null</td><td>null</td></tr><tr><td>F0037</td><td>Air Canada</td><td>Yangville</td><td>Jacksonview</td><td>2025-04-29</td><td>2025-07-12T22:12:32.944Z</td><td>null</td><td>null</td><td>null</td></tr><tr><td>F0073</td><td>Lufthansa</td><td>South Jasonville</td><td>Clarkeshire</td><td>2025-06-09</td><td>2025-07-12T22:12:32.944Z</td><td>null</td><td>null</td><td>null</td></tr><tr><td>F0097</td><td>Emirates</td><td>Billyport</td><td>Brentton</td><td>2025-05-18</td><td>2025-07-12T22:12:32.944Z</td><td>null</td><td>null</td><td>null</td></tr><tr><td>F0023</td><td>Lufthansa</td><td>Port Jeremyfurt</td><td>Lake Walterside</td><td>2025-05-11</td><td>2025-07-12T22:12:32.944Z</td><td>null</td><td>null</td><td>null</td></tr><tr><td>F0024</td><td>Lufthansa</td><td>Leestad</td><td>Port Debra</td><td>2025-05-09</td><td>2025-07-12T22:12:32.944Z</td><td>null</td><td>null</td><td>null</td></tr><tr><td>F0032</td><td>Emirates</td><td>Bushhaven</td><td>Patriciamouth</td><td>2025-05-22</td><td>2025-07-12T22:12:32.944Z</td><td>null</td><td>null</td><td>null</td></tr><tr><td>F0053</td><td>Qatar Airways</td><td>West Dylanbury</td><td>North Wendy</td><td>2025-05-24</td><td>2025-07-12T22:12:32.944Z</td><td>null</td><td>null</td><td>null</td></tr><tr><td>F0057</td><td>Air Canada</td><td>Samanthashire</td><td>Fisherstad</td><td>2025-06-09</td><td>2025-07-12T22:12:32.944Z</td><td>null</td><td>null</td><td>null</td></tr><tr><td>F0094</td><td>Emirates</td><td>South Amyfurt</td><td>Jimenezview</td><td>2025-06-14</td><td>2025-07-12T22:12:32.944Z</td><td>null</td><td>null</td><td>null</td></tr><tr><td>F0012</td><td>Air Canada</td><td>New Hunter</td><td>East Maria</td><td>2025-04-23</td><td>2025-07-12T22:12:32.944Z</td><td>null</td><td>null</td><td>null</td></tr><tr><td>F0038</td><td>Delta</td><td>Port Nicole</td><td>South Corey</td><td>2025-05-22</td><td>2025-07-12T22:12:32.944Z</td><td>null</td><td>null</td><td>null</td></tr><tr><td>F0067</td><td>Delta</td><td>Campbellborough</td><td>South Jason</td><td>2025-05-13</td><td>2025-07-12T22:12:32.944Z</td><td>null</td><td>null</td><td>null</td></tr><tr><td>F0068</td><td>Qatar Airways</td><td>Lake Seanport</td><td>Fieldsstad</td><td>2025-06-17</td><td>2025-07-12T22:12:32.944Z</td><td>null</td><td>null</td><td>null</td></tr><tr><td>F0075</td><td>Qatar Airways</td><td>New Danielhaven</td><td>Cunninghamfurt</td><td>2025-04-27</td><td>2025-07-12T22:12:32.944Z</td><td>null</td><td>null</td><td>null</td></tr><tr><td>F0084</td><td>Delta</td><td>Franklinmouth</td><td>Lake Joseph</td><td>2025-05-30</td><td>2025-07-12T22:12:32.944Z</td><td>null</td><td>null</td><td>null</td></tr><tr><td>F0046</td><td>Qatar Airways</td><td>West David</td><td>North Becky</td><td>2025-04-30</td><td>2025-07-12T22:12:32.944Z</td><td>null</td><td>null</td><td>null</td></tr><tr><td>F0077</td><td>Qatar Airways</td><td>Samuelfort</td><td>Port Ashley</td><td>2025-06-12</td><td>2025-07-12T22:12:32.944Z</td><td>null</td><td>null</td><td>null</td></tr><tr><td>F0021</td><td>Emirates</td><td>South Sara</td><td>North Annaport</td><td>2025-05-29</td><td>2025-07-12T22:12:32.944Z</td><td>null</td><td>null</td><td>null</td></tr><tr><td>F0030</td><td>Delta</td><td>Angelamouth</td><td>Sosaside</td><td>2025-06-16</td><td>2025-07-12T22:12:32.944Z</td><td>null</td><td>null</td><td>null</td></tr><tr><td>F0039</td><td>Air Canada</td><td>Paultown</td><td>Kellyton</td><td>2025-05-19</td><td>2025-07-12T22:12:32.944Z</td><td>null</td><td>null</td><td>null</td></tr><tr><td>F0047</td><td>Lufthansa</td><td>New Cory</td><td>Lorettashire</td><td>2025-05-05</td><td>2025-07-12T22:12:32.944Z</td><td>null</td><td>null</td><td>null</td></tr><tr><td>F0090</td><td>Delta</td><td>East Rachelport</td><td>Davisport</td><td>2025-05-23</td><td>2025-07-12T22:12:32.944Z</td><td>null</td><td>null</td><td>null</td></tr><tr><td>F0026</td><td>Air Canada</td><td>New Deborahfort</td><td>New Sabrina</td><td>2025-05-10</td><td>2025-07-12T22:12:32.944Z</td><td>null</td><td>null</td><td>null</td></tr><tr><td>F0059</td><td>Lufthansa</td><td>South Jeffrey</td><td>Jamesland</td><td>2025-05-10</td><td>2025-07-12T22:12:32.944Z</td><td>null</td><td>null</td><td>null</td></tr><tr><td>F0089</td><td>Qatar Airways</td><td>Robinsonberg</td><td>Adrianchester</td><td>2025-05-21</td><td>2025-07-12T22:12:32.944Z</td><td>null</td><td>null</td><td>null</td></tr><tr><td>F0092</td><td>Lufthansa</td><td>Austinborough</td><td>Bautistafort</td><td>2025-05-29</td><td>2025-07-12T22:12:32.944Z</td><td>null</td><td>null</td><td>null</td></tr><tr><td>F0001</td><td>Delta</td><td>Kellyfort</td><td>South Kathleen</td><td>2025-05-04</td><td>2025-07-12T22:12:32.944Z</td><td>null</td><td>null</td><td>null</td></tr><tr><td>F0018</td><td>Air Canada</td><td>Schultzborough</td><td>Danielton</td><td>2025-06-01</td><td>2025-07-12T22:12:32.944Z</td><td>null</td><td>null</td><td>null</td></tr><tr><td>F0042</td><td>Air Canada</td><td>Port William</td><td>Darrenmouth</td><td>2025-05-11</td><td>2025-07-12T22:12:32.944Z</td><td>null</td><td>null</td><td>null</td></tr><tr><td>F0049</td><td>Emirates</td><td>New Elizabethmouth</td><td>Lake Heathermouth</td><td>2025-05-06</td><td>2025-07-12T22:12:32.944Z</td><td>null</td><td>null</td><td>null</td></tr><tr><td>F0050</td><td>Air Canada</td><td>East Gailtown</td><td>Stevenville</td><td>2025-04-28</td><td>2025-07-12T22:12:32.944Z</td><td>null</td><td>null</td><td>null</td></tr><tr><td>F0051</td><td>Qatar Airways</td><td>Lisafurt</td><td>New Robert</td><td>2025-05-07</td><td>2025-07-12T22:12:32.944Z</td><td>null</td><td>null</td><td>null</td></tr><tr><td>F0060</td><td>Air Canada</td><td>Port Angelicaborough</td><td>East Daniel</td><td>2025-05-21</td><td>2025-07-12T22:12:32.944Z</td><td>null</td><td>null</td><td>null</td></tr><tr><td>F0062</td><td>Lufthansa</td><td>East Samanthafurt</td><td>Lake Troy</td><td>2025-05-12</td><td>2025-07-12T22:12:32.944Z</td><td>null</td><td>null</td><td>null</td></tr><tr><td>F0064</td><td>Delta</td><td>East Joshuastad</td><td>North Austinland</td><td>2025-05-25</td><td>2025-07-12T22:12:32.944Z</td><td>null</td><td>null</td><td>null</td></tr><tr><td>F0066</td><td>Qatar Airways</td><td>Stephenberg</td><td>Marcborough</td><td>2025-06-04</td><td>2025-07-12T22:12:32.944Z</td><td>null</td><td>null</td><td>null</td></tr><tr><td>F0070</td><td>Air Canada</td><td>Glennhaven</td><td>Port Darrenchester</td><td>2025-05-04</td><td>2025-07-12T22:12:32.944Z</td><td>null</td><td>null</td><td>null</td></tr><tr><td>F0100</td><td>Qatar Airways</td><td>Port Anthony</td><td>Thompsonfort</td><td>2025-05-31</td><td>2025-07-12T22:12:32.944Z</td><td>null</td><td>null</td><td>null</td></tr><tr><td>F0020</td><td>Lufthansa</td><td>North Jack</td><td>Loweville</td><td>2025-06-02</td><td>2025-07-12T22:12:32.944Z</td><td>null</td><td>null</td><td>null</td></tr><tr><td>F0048</td><td>Lufthansa</td><td>Cooperview</td><td>Michelleburgh</td><td>2025-05-24</td><td>2025-07-12T22:12:32.944Z</td><td>null</td><td>null</td><td>null</td></tr><tr><td>F0078</td><td>Qatar Airways</td><td>Howardbury</td><td>Burchburgh</td><td>2025-05-09</td><td>2025-07-12T22:12:32.944Z</td><td>null</td><td>null</td><td>null</td></tr><tr><td>F0082</td><td>Qatar Airways</td><td>North Erikamouth</td><td>Danielfort</td><td>2025-05-19</td><td>2025-07-12T22:12:32.944Z</td><td>null</td><td>null</td><td>null</td></tr><tr><td>F0099</td><td>Air Canada</td><td>Lake Connor</td><td>Matthewberg</td><td>2025-04-28</td><td>2025-07-12T22:12:32.944Z</td><td>null</td><td>null</td><td>null</td></tr><tr><td>F0034</td><td>Emirates</td><td>Johnsonville</td><td>Cooperland</td><td>2025-05-18</td><td>2025-07-12T22:12:32.944Z</td><td>null</td><td>null</td><td>null</td></tr><tr><td>F0063</td><td>Lufthansa</td><td>Floresshire</td><td>New Anita</td><td>2025-06-03</td><td>2025-07-12T22:12:32.944Z</td><td>null</td><td>null</td><td>null</td></tr><tr><td>F0076</td><td>Lufthansa</td><td>Johnsonchester</td><td>New Michael</td><td>2025-05-14</td><td>2025-07-12T22:12:32.944Z</td><td>null</td><td>null</td><td>null</td></tr><tr><td>F0079</td><td>Delta</td><td>Jonesburgh</td><td>Andradeville</td><td>2025-06-17</td><td>2025-07-12T22:12:32.944Z</td><td>null</td><td>null</td><td>null</td></tr><tr><td>F0080</td><td>Emirates</td><td>Sonyaberg</td><td>East Sarah</td><td>2025-06-13</td><td>2025-07-12T22:12:32.944Z</td><td>null</td><td>null</td><td>null</td></tr><tr><td>F0085</td><td>Lufthansa</td><td>Hillton</td><td>Castroborough</td><td>2025-05-19</td><td>2025-07-12T22:12:32.944Z</td><td>null</td><td>null</td><td>null</td></tr><tr><td>F0095</td><td>Qatar Airways</td><td>North Dawnberg</td><td>East Sarahmouth</td><td>2025-05-26</td><td>2025-07-12T22:12:32.944Z</td><td>null</td><td>null</td><td>null</td></tr><tr><td>F0002</td><td>Qatar Airways</td><td>Lake Stephen</td><td>New Vincent</td><td>2025-04-29</td><td>2025-07-12T22:12:32.944Z</td><td>null</td><td>null</td><td>null</td></tr><tr><td>F0027</td><td>Delta</td><td>Acevedoville</td><td>Ericchester</td><td>2025-05-14</td><td>2025-07-12T22:12:32.944Z</td><td>null</td><td>null</td><td>null</td></tr><tr><td>F0028</td><td>Delta</td><td>South Michaelberg</td><td>South Markbury</td><td>2025-05-30</td><td>2025-07-12T22:12:32.944Z</td><td>null</td><td>null</td><td>null</td></tr><tr><td>F0056</td><td>Lufthansa</td><td>South Natalie</td><td>Schaefertown</td><td>2025-05-03</td><td>2025-07-12T22:12:32.944Z</td><td>null</td><td>null</td><td>null</td></tr><tr><td>F0086</td><td>Delta</td><td>Port Chelsea</td><td>Robertchester</td><td>2025-05-08</td><td>2025-07-12T22:12:32.944Z</td><td>null</td><td>null</td><td>null</td></tr><tr><td>F0098</td><td>Air Canada</td><td>Wallerburgh</td><td>Lake Karen</td><td>2025-05-01</td><td>2025-07-12T22:12:32.944Z</td><td>null</td><td>null</td><td>null</td></tr><tr><td>F0008</td><td>Lufthansa</td><td>Briannachester</td><td>Cervantesland</td><td>2025-05-26</td><td>2025-07-12T22:12:32.944Z</td><td>null</td><td>null</td><td>null</td></tr><tr><td>F0009</td><td>Delta</td><td>Alexandraborough</td><td>North Alexishaven</td><td>2025-06-10</td><td>2025-07-12T22:12:32.944Z</td><td>null</td><td>null</td><td>null</td></tr><tr><td>F0011</td><td>Lufthansa</td><td>Port Joannahaven</td><td>North Jasonton</td><td>2025-05-30</td><td>2025-07-12T22:12:32.944Z</td><td>null</td><td>null</td><td>null</td></tr><tr><td>F0025</td><td>Qatar Airways</td><td>Chelseaberg</td><td>North Michaelshire</td><td>2025-06-01</td><td>2025-07-12T22:12:32.944Z</td><td>null</td><td>null</td><td>null</td></tr><tr><td>F0041</td><td>Air Canada</td><td>Lake Stanleyside</td><td>Port Scott</td><td>2025-06-14</td><td>2025-07-12T22:12:32.944Z</td><td>null</td><td>null</td><td>null</td></tr><tr><td>F0054</td><td>Air Canada</td><td>Seanmouth</td><td>North Kathyton</td><td>2025-05-09</td><td>2025-07-12T22:12:32.944Z</td><td>null</td><td>null</td><td>null</td></tr><tr><td>F0065</td><td>Emirates</td><td>East Paulland</td><td>Barnesberg</td><td>2025-04-29</td><td>2025-07-12T22:12:32.944Z</td><td>null</td><td>null</td><td>null</td></tr><tr><td>F0072</td><td>Emirates</td><td>Heiditown</td><td>Port Sabrinaburgh</td><td>2025-05-22</td><td>2025-07-12T22:12:32.944Z</td><td>null</td><td>null</td><td>null</td></tr><tr><td>F0074</td><td>Air Canada</td><td>Duffyville</td><td>Port Vanessa</td><td>2025-05-28</td><td>2025-07-12T22:12:32.944Z</td><td>null</td><td>null</td><td>null</td></tr><tr><td>F0088</td><td>Qatar Airways</td><td>North Miguel</td><td>Lake Allisonfurt</td><td>2025-05-28</td><td>2025-07-12T22:12:32.944Z</td><td>null</td><td>null</td><td>null</td></tr><tr><td>F0107</td><td>Air Canada</td><td>Mitchelltown</td><td>Johnsonbury</td><td>2025-07-01</td><td>2025-07-12T22:12:32.944Z</td><td>null</td><td>null</td><td>null</td></tr><tr><td>F0103</td><td>Qatar Airways</td><td>Jameschester</td><td>Ashleyberg</td><td>2025-07-15</td><td>2025-07-12T22:12:32.944Z</td><td>null</td><td>null</td><td>null</td></tr><tr><td>F0102</td><td>Delta</td><td>Schroederbury</td><td>Sethfort</td><td>2025-06-25</td><td>2025-07-12T22:12:32.944Z</td><td>null</td><td>null</td><td>null</td></tr><tr><td>F0109</td><td>Air Canada</td><td>Williamsland</td><td>South Carolberg</td><td>2025-06-14</td><td>2025-07-12T22:12:32.944Z</td><td>null</td><td>null</td><td>null</td></tr><tr><td>F0108</td><td>Lufthansa</td><td>New Jennifer</td><td>Lake Tracie</td><td>2025-06-28</td><td>2025-07-12T22:12:32.944Z</td><td>null</td><td>null</td><td>null</td></tr><tr><td>F0101</td><td>Qatar Airways</td><td>Lake Joshuamouth</td><td>Johnshire</td><td>2025-07-14</td><td>2025-07-12T22:12:32.944Z</td><td>null</td><td>null</td><td>null</td></tr><tr><td>F0104</td><td>Qatar Airways</td><td>Huangstad</td><td>Catherinehaven</td><td>2025-06-29</td><td>2025-07-12T22:12:32.944Z</td><td>null</td><td>null</td><td>null</td></tr><tr><td>F0105</td><td>Air Canada</td><td>Aprilton</td><td>Victorville</td><td>2025-07-05</td><td>2025-07-12T22:12:32.944Z</td><td>null</td><td>null</td><td>null</td></tr><tr><td>F0106</td><td>Lufthansa</td><td>East Austinmouth</td><td>New Toddburgh</td><td>2025-06-22</td><td>2025-07-12T22:12:32.944Z</td><td>null</td><td>null</td><td>null</td></tr><tr><td>F0110</td><td>Emirates</td><td>Churchport</td><td>Wrightton</td><td>2025-07-15</td><td>2025-07-12T22:12:32.944Z</td><td>null</td><td>null</td><td>null</td></tr></tbody></table></div>"
      ]
     },
     "metadata": {
      "application/vnd.databricks.v1+output": {
       "addedWidgets": {},
       "aggData": [],
       "aggError": "",
       "aggOverflow": false,
       "aggSchema": [],
       "aggSeriesLimitReached": false,
       "aggType": "",
       "arguments": {},
       "columnCustomDisplayInfos": {},
       "data": [
        [
         "F0013",
         "Air Canada",
         "East Brian",
         "Wayneton",
         "2025-05-21",
         "2025-07-12T22:12:32.944Z",
         null,
         null,
         null
        ],
        [
         "F0014",
         "Air Canada",
         "Toddland",
         "Gonzalezport",
         "2025-05-28",
         "2025-07-12T22:12:32.944Z",
         null,
         null,
         null
        ],
        [
         "F0033",
         "Air Canada",
         "Sandersshire",
         "Lake Joseside",
         "2025-06-21",
         "2025-07-12T22:12:32.944Z",
         null,
         null,
         null
        ],
        [
         "F0052",
         "Qatar Airways",
         "Lake Richard",
         "Brookston",
         "2025-05-28",
         "2025-07-12T22:12:32.944Z",
         null,
         null,
         null
        ],
        [
         "F0069",
         "Qatar Airways",
         "Johnsonburgh",
         "Woodmouth",
         "2025-06-14",
         "2025-07-12T22:12:32.944Z",
         null,
         null,
         null
        ],
        [
         "F0083",
         "Lufthansa",
         "Jasonborough",
         "Port Audreyville",
         "2025-05-30",
         "2025-07-12T22:12:32.944Z",
         null,
         null,
         null
        ],
        [
         "F0005",
         "Qatar Airways",
         "Bennettside",
         "New Mistyhaven",
         "2025-06-13",
         "2025-07-12T22:12:32.944Z",
         null,
         null,
         null
        ],
        [
         "F0007",
         "Delta",
         "Berryport",
         "Miguelburgh",
         "2025-05-24",
         "2025-07-12T22:12:32.944Z",
         null,
         null,
         null
        ],
        [
         "F0015",
         "Delta",
         "West Ginaton",
         "Youngmouth",
         "2025-05-21",
         "2025-07-12T22:12:32.944Z",
         null,
         null,
         null
        ],
        [
         "F0017",
         "Delta",
         "Wallermouth",
         "New Rogerberg",
         "2025-05-04",
         "2025-07-12T22:12:32.944Z",
         null,
         null,
         null
        ],
        [
         "F0035",
         "Lufthansa",
         "Karenshire",
         "North Anthonymouth",
         "2025-05-21",
         "2025-07-12T22:12:32.944Z",
         null,
         null,
         null
        ],
        [
         "F0058",
         "Delta",
         "North Brittanyborough",
         "West Kellystad",
         "2025-06-10",
         "2025-07-12T22:12:32.944Z",
         null,
         null,
         null
        ],
        [
         "F0003",
         "Lufthansa",
         "East Patrickborough",
         "North Mary",
         "2025-05-11",
         "2025-07-12T22:12:32.944Z",
         null,
         null,
         null
        ],
        [
         "F0022",
         "Air Canada",
         "Reedchester",
         "Cruzton",
         "2025-04-27",
         "2025-07-12T22:12:32.944Z",
         null,
         null,
         null
        ],
        [
         "F0044",
         "Qatar Airways",
         "East Kaylaburgh",
         "Lake Carolynchester",
         "2025-06-01",
         "2025-07-12T22:12:32.944Z",
         null,
         null,
         null
        ],
        [
         "F0045",
         "Emirates",
         "North Michaelville",
         "Russellton",
         "2025-05-04",
         "2025-07-12T22:12:32.944Z",
         null,
         null,
         null
        ],
        [
         "F0081",
         "Air Canada",
         "North Barry",
         "Josephborough",
         "2025-04-24",
         "2025-07-12T22:12:32.944Z",
         null,
         null,
         null
        ],
        [
         "F0087",
         "Emirates",
         "Kellyland",
         "New Jonathanmouth",
         "2025-04-23",
         "2025-07-12T22:12:32.944Z",
         null,
         null,
         null
        ],
        [
         "F0004",
         "Delta",
         "Maddenshire",
         "Johnchester",
         "2025-05-16",
         "2025-07-12T22:12:32.944Z",
         null,
         null,
         null
        ],
        [
         "F0006",
         "Air Canada",
         "New Richardside",
         "South Jamesborough",
         "2025-05-16",
         "2025-07-12T22:12:32.944Z",
         null,
         null,
         null
        ],
        [
         "F0019",
         "Lufthansa",
         "Lake Scott",
         "Christineborough",
         "2025-05-18",
         "2025-07-12T22:12:32.944Z",
         null,
         null,
         null
        ],
        [
         "F0029",
         "Qatar Airways",
         "Shortberg",
         "Julieburgh",
         "2025-05-11",
         "2025-07-12T22:12:32.944Z",
         null,
         null,
         null
        ],
        [
         "F0031",
         "Emirates",
         "Billview",
         "Jonathonborough",
         "2025-06-14",
         "2025-07-12T22:12:32.944Z",
         null,
         null,
         null
        ],
        [
         "F0036",
         "Lufthansa",
         "Armstrongbury",
         "North Natashamouth",
         "2025-05-05",
         "2025-07-12T22:12:32.944Z",
         null,
         null,
         null
        ],
        [
         "F0043",
         "Lufthansa",
         "Kimberlyborough",
         "New Annfort",
         "2025-05-15",
         "2025-07-12T22:12:32.944Z",
         null,
         null,
         null
        ],
        [
         "F0055",
         "Air Canada",
         "Spencerborough",
         "Randyville",
         "2025-06-09",
         "2025-07-12T22:12:32.944Z",
         null,
         null,
         null
        ],
        [
         "F0061",
         "Lufthansa",
         "Dawnshire",
         "Stevenmouth",
         "2025-04-24",
         "2025-07-12T22:12:32.944Z",
         null,
         null,
         null
        ],
        [
         "F0091",
         "Lufthansa",
         "Lake Scott",
         "Williamshire",
         "2025-06-04",
         "2025-07-12T22:12:32.944Z",
         null,
         null,
         null
        ],
        [
         "F0093",
         "Air Canada",
         "Frenchside",
         "West Christopher",
         "2025-05-28",
         "2025-07-12T22:12:32.944Z",
         null,
         null,
         null
        ],
        [
         "F0016",
         "Qatar Airways",
         "Smithborough",
         "Randallview",
         "2025-05-02",
         "2025-07-12T22:12:32.944Z",
         null,
         null,
         null
        ],
        [
         "F0040",
         "Delta",
         "Ianport",
         "Lake Reginaldside",
         "2025-04-23",
         "2025-07-12T22:12:32.944Z",
         null,
         null,
         null
        ],
        [
         "F0071",
         "Delta",
         "Jefferyberg",
         "Wendyshire",
         "2025-06-17",
         "2025-07-12T22:12:32.944Z",
         null,
         null,
         null
        ],
        [
         "F0096",
         "Lufthansa",
         "Coreyfort",
         "West Joseph",
         "2025-06-06",
         "2025-07-12T22:12:32.944Z",
         null,
         null,
         null
        ],
        [
         "F0010",
         "Emirates",
         "Kruegerchester",
         "Martintown",
         "2025-05-20",
         "2025-07-12T22:12:32.944Z",
         null,
         null,
         null
        ],
        [
         "F0037",
         "Air Canada",
         "Yangville",
         "Jacksonview",
         "2025-04-29",
         "2025-07-12T22:12:32.944Z",
         null,
         null,
         null
        ],
        [
         "F0073",
         "Lufthansa",
         "South Jasonville",
         "Clarkeshire",
         "2025-06-09",
         "2025-07-12T22:12:32.944Z",
         null,
         null,
         null
        ],
        [
         "F0097",
         "Emirates",
         "Billyport",
         "Brentton",
         "2025-05-18",
         "2025-07-12T22:12:32.944Z",
         null,
         null,
         null
        ],
        [
         "F0023",
         "Lufthansa",
         "Port Jeremyfurt",
         "Lake Walterside",
         "2025-05-11",
         "2025-07-12T22:12:32.944Z",
         null,
         null,
         null
        ],
        [
         "F0024",
         "Lufthansa",
         "Leestad",
         "Port Debra",
         "2025-05-09",
         "2025-07-12T22:12:32.944Z",
         null,
         null,
         null
        ],
        [
         "F0032",
         "Emirates",
         "Bushhaven",
         "Patriciamouth",
         "2025-05-22",
         "2025-07-12T22:12:32.944Z",
         null,
         null,
         null
        ],
        [
         "F0053",
         "Qatar Airways",
         "West Dylanbury",
         "North Wendy",
         "2025-05-24",
         "2025-07-12T22:12:32.944Z",
         null,
         null,
         null
        ],
        [
         "F0057",
         "Air Canada",
         "Samanthashire",
         "Fisherstad",
         "2025-06-09",
         "2025-07-12T22:12:32.944Z",
         null,
         null,
         null
        ],
        [
         "F0094",
         "Emirates",
         "South Amyfurt",
         "Jimenezview",
         "2025-06-14",
         "2025-07-12T22:12:32.944Z",
         null,
         null,
         null
        ],
        [
         "F0012",
         "Air Canada",
         "New Hunter",
         "East Maria",
         "2025-04-23",
         "2025-07-12T22:12:32.944Z",
         null,
         null,
         null
        ],
        [
         "F0038",
         "Delta",
         "Port Nicole",
         "South Corey",
         "2025-05-22",
         "2025-07-12T22:12:32.944Z",
         null,
         null,
         null
        ],
        [
         "F0067",
         "Delta",
         "Campbellborough",
         "South Jason",
         "2025-05-13",
         "2025-07-12T22:12:32.944Z",
         null,
         null,
         null
        ],
        [
         "F0068",
         "Qatar Airways",
         "Lake Seanport",
         "Fieldsstad",
         "2025-06-17",
         "2025-07-12T22:12:32.944Z",
         null,
         null,
         null
        ],
        [
         "F0075",
         "Qatar Airways",
         "New Danielhaven",
         "Cunninghamfurt",
         "2025-04-27",
         "2025-07-12T22:12:32.944Z",
         null,
         null,
         null
        ],
        [
         "F0084",
         "Delta",
         "Franklinmouth",
         "Lake Joseph",
         "2025-05-30",
         "2025-07-12T22:12:32.944Z",
         null,
         null,
         null
        ],
        [
         "F0046",
         "Qatar Airways",
         "West David",
         "North Becky",
         "2025-04-30",
         "2025-07-12T22:12:32.944Z",
         null,
         null,
         null
        ],
        [
         "F0077",
         "Qatar Airways",
         "Samuelfort",
         "Port Ashley",
         "2025-06-12",
         "2025-07-12T22:12:32.944Z",
         null,
         null,
         null
        ],
        [
         "F0021",
         "Emirates",
         "South Sara",
         "North Annaport",
         "2025-05-29",
         "2025-07-12T22:12:32.944Z",
         null,
         null,
         null
        ],
        [
         "F0030",
         "Delta",
         "Angelamouth",
         "Sosaside",
         "2025-06-16",
         "2025-07-12T22:12:32.944Z",
         null,
         null,
         null
        ],
        [
         "F0039",
         "Air Canada",
         "Paultown",
         "Kellyton",
         "2025-05-19",
         "2025-07-12T22:12:32.944Z",
         null,
         null,
         null
        ],
        [
         "F0047",
         "Lufthansa",
         "New Cory",
         "Lorettashire",
         "2025-05-05",
         "2025-07-12T22:12:32.944Z",
         null,
         null,
         null
        ],
        [
         "F0090",
         "Delta",
         "East Rachelport",
         "Davisport",
         "2025-05-23",
         "2025-07-12T22:12:32.944Z",
         null,
         null,
         null
        ],
        [
         "F0026",
         "Air Canada",
         "New Deborahfort",
         "New Sabrina",
         "2025-05-10",
         "2025-07-12T22:12:32.944Z",
         null,
         null,
         null
        ],
        [
         "F0059",
         "Lufthansa",
         "South Jeffrey",
         "Jamesland",
         "2025-05-10",
         "2025-07-12T22:12:32.944Z",
         null,
         null,
         null
        ],
        [
         "F0089",
         "Qatar Airways",
         "Robinsonberg",
         "Adrianchester",
         "2025-05-21",
         "2025-07-12T22:12:32.944Z",
         null,
         null,
         null
        ],
        [
         "F0092",
         "Lufthansa",
         "Austinborough",
         "Bautistafort",
         "2025-05-29",
         "2025-07-12T22:12:32.944Z",
         null,
         null,
         null
        ],
        [
         "F0001",
         "Delta",
         "Kellyfort",
         "South Kathleen",
         "2025-05-04",
         "2025-07-12T22:12:32.944Z",
         null,
         null,
         null
        ],
        [
         "F0018",
         "Air Canada",
         "Schultzborough",
         "Danielton",
         "2025-06-01",
         "2025-07-12T22:12:32.944Z",
         null,
         null,
         null
        ],
        [
         "F0042",
         "Air Canada",
         "Port William",
         "Darrenmouth",
         "2025-05-11",
         "2025-07-12T22:12:32.944Z",
         null,
         null,
         null
        ],
        [
         "F0049",
         "Emirates",
         "New Elizabethmouth",
         "Lake Heathermouth",
         "2025-05-06",
         "2025-07-12T22:12:32.944Z",
         null,
         null,
         null
        ],
        [
         "F0050",
         "Air Canada",
         "East Gailtown",
         "Stevenville",
         "2025-04-28",
         "2025-07-12T22:12:32.944Z",
         null,
         null,
         null
        ],
        [
         "F0051",
         "Qatar Airways",
         "Lisafurt",
         "New Robert",
         "2025-05-07",
         "2025-07-12T22:12:32.944Z",
         null,
         null,
         null
        ],
        [
         "F0060",
         "Air Canada",
         "Port Angelicaborough",
         "East Daniel",
         "2025-05-21",
         "2025-07-12T22:12:32.944Z",
         null,
         null,
         null
        ],
        [
         "F0062",
         "Lufthansa",
         "East Samanthafurt",
         "Lake Troy",
         "2025-05-12",
         "2025-07-12T22:12:32.944Z",
         null,
         null,
         null
        ],
        [
         "F0064",
         "Delta",
         "East Joshuastad",
         "North Austinland",
         "2025-05-25",
         "2025-07-12T22:12:32.944Z",
         null,
         null,
         null
        ],
        [
         "F0066",
         "Qatar Airways",
         "Stephenberg",
         "Marcborough",
         "2025-06-04",
         "2025-07-12T22:12:32.944Z",
         null,
         null,
         null
        ],
        [
         "F0070",
         "Air Canada",
         "Glennhaven",
         "Port Darrenchester",
         "2025-05-04",
         "2025-07-12T22:12:32.944Z",
         null,
         null,
         null
        ],
        [
         "F0100",
         "Qatar Airways",
         "Port Anthony",
         "Thompsonfort",
         "2025-05-31",
         "2025-07-12T22:12:32.944Z",
         null,
         null,
         null
        ],
        [
         "F0020",
         "Lufthansa",
         "North Jack",
         "Loweville",
         "2025-06-02",
         "2025-07-12T22:12:32.944Z",
         null,
         null,
         null
        ],
        [
         "F0048",
         "Lufthansa",
         "Cooperview",
         "Michelleburgh",
         "2025-05-24",
         "2025-07-12T22:12:32.944Z",
         null,
         null,
         null
        ],
        [
         "F0078",
         "Qatar Airways",
         "Howardbury",
         "Burchburgh",
         "2025-05-09",
         "2025-07-12T22:12:32.944Z",
         null,
         null,
         null
        ],
        [
         "F0082",
         "Qatar Airways",
         "North Erikamouth",
         "Danielfort",
         "2025-05-19",
         "2025-07-12T22:12:32.944Z",
         null,
         null,
         null
        ],
        [
         "F0099",
         "Air Canada",
         "Lake Connor",
         "Matthewberg",
         "2025-04-28",
         "2025-07-12T22:12:32.944Z",
         null,
         null,
         null
        ],
        [
         "F0034",
         "Emirates",
         "Johnsonville",
         "Cooperland",
         "2025-05-18",
         "2025-07-12T22:12:32.944Z",
         null,
         null,
         null
        ],
        [
         "F0063",
         "Lufthansa",
         "Floresshire",
         "New Anita",
         "2025-06-03",
         "2025-07-12T22:12:32.944Z",
         null,
         null,
         null
        ],
        [
         "F0076",
         "Lufthansa",
         "Johnsonchester",
         "New Michael",
         "2025-05-14",
         "2025-07-12T22:12:32.944Z",
         null,
         null,
         null
        ],
        [
         "F0079",
         "Delta",
         "Jonesburgh",
         "Andradeville",
         "2025-06-17",
         "2025-07-12T22:12:32.944Z",
         null,
         null,
         null
        ],
        [
         "F0080",
         "Emirates",
         "Sonyaberg",
         "East Sarah",
         "2025-06-13",
         "2025-07-12T22:12:32.944Z",
         null,
         null,
         null
        ],
        [
         "F0085",
         "Lufthansa",
         "Hillton",
         "Castroborough",
         "2025-05-19",
         "2025-07-12T22:12:32.944Z",
         null,
         null,
         null
        ],
        [
         "F0095",
         "Qatar Airways",
         "North Dawnberg",
         "East Sarahmouth",
         "2025-05-26",
         "2025-07-12T22:12:32.944Z",
         null,
         null,
         null
        ],
        [
         "F0002",
         "Qatar Airways",
         "Lake Stephen",
         "New Vincent",
         "2025-04-29",
         "2025-07-12T22:12:32.944Z",
         null,
         null,
         null
        ],
        [
         "F0027",
         "Delta",
         "Acevedoville",
         "Ericchester",
         "2025-05-14",
         "2025-07-12T22:12:32.944Z",
         null,
         null,
         null
        ],
        [
         "F0028",
         "Delta",
         "South Michaelberg",
         "South Markbury",
         "2025-05-30",
         "2025-07-12T22:12:32.944Z",
         null,
         null,
         null
        ],
        [
         "F0056",
         "Lufthansa",
         "South Natalie",
         "Schaefertown",
         "2025-05-03",
         "2025-07-12T22:12:32.944Z",
         null,
         null,
         null
        ],
        [
         "F0086",
         "Delta",
         "Port Chelsea",
         "Robertchester",
         "2025-05-08",
         "2025-07-12T22:12:32.944Z",
         null,
         null,
         null
        ],
        [
         "F0098",
         "Air Canada",
         "Wallerburgh",
         "Lake Karen",
         "2025-05-01",
         "2025-07-12T22:12:32.944Z",
         null,
         null,
         null
        ],
        [
         "F0008",
         "Lufthansa",
         "Briannachester",
         "Cervantesland",
         "2025-05-26",
         "2025-07-12T22:12:32.944Z",
         null,
         null,
         null
        ],
        [
         "F0009",
         "Delta",
         "Alexandraborough",
         "North Alexishaven",
         "2025-06-10",
         "2025-07-12T22:12:32.944Z",
         null,
         null,
         null
        ],
        [
         "F0011",
         "Lufthansa",
         "Port Joannahaven",
         "North Jasonton",
         "2025-05-30",
         "2025-07-12T22:12:32.944Z",
         null,
         null,
         null
        ],
        [
         "F0025",
         "Qatar Airways",
         "Chelseaberg",
         "North Michaelshire",
         "2025-06-01",
         "2025-07-12T22:12:32.944Z",
         null,
         null,
         null
        ],
        [
         "F0041",
         "Air Canada",
         "Lake Stanleyside",
         "Port Scott",
         "2025-06-14",
         "2025-07-12T22:12:32.944Z",
         null,
         null,
         null
        ],
        [
         "F0054",
         "Air Canada",
         "Seanmouth",
         "North Kathyton",
         "2025-05-09",
         "2025-07-12T22:12:32.944Z",
         null,
         null,
         null
        ],
        [
         "F0065",
         "Emirates",
         "East Paulland",
         "Barnesberg",
         "2025-04-29",
         "2025-07-12T22:12:32.944Z",
         null,
         null,
         null
        ],
        [
         "F0072",
         "Emirates",
         "Heiditown",
         "Port Sabrinaburgh",
         "2025-05-22",
         "2025-07-12T22:12:32.944Z",
         null,
         null,
         null
        ],
        [
         "F0074",
         "Air Canada",
         "Duffyville",
         "Port Vanessa",
         "2025-05-28",
         "2025-07-12T22:12:32.944Z",
         null,
         null,
         null
        ],
        [
         "F0088",
         "Qatar Airways",
         "North Miguel",
         "Lake Allisonfurt",
         "2025-05-28",
         "2025-07-12T22:12:32.944Z",
         null,
         null,
         null
        ],
        [
         "F0107",
         "Air Canada",
         "Mitchelltown",
         "Johnsonbury",
         "2025-07-01",
         "2025-07-12T22:12:32.944Z",
         null,
         null,
         null
        ],
        [
         "F0103",
         "Qatar Airways",
         "Jameschester",
         "Ashleyberg",
         "2025-07-15",
         "2025-07-12T22:12:32.944Z",
         null,
         null,
         null
        ],
        [
         "F0102",
         "Delta",
         "Schroederbury",
         "Sethfort",
         "2025-06-25",
         "2025-07-12T22:12:32.944Z",
         null,
         null,
         null
        ],
        [
         "F0109",
         "Air Canada",
         "Williamsland",
         "South Carolberg",
         "2025-06-14",
         "2025-07-12T22:12:32.944Z",
         null,
         null,
         null
        ],
        [
         "F0108",
         "Lufthansa",
         "New Jennifer",
         "Lake Tracie",
         "2025-06-28",
         "2025-07-12T22:12:32.944Z",
         null,
         null,
         null
        ],
        [
         "F0101",
         "Qatar Airways",
         "Lake Joshuamouth",
         "Johnshire",
         "2025-07-14",
         "2025-07-12T22:12:32.944Z",
         null,
         null,
         null
        ],
        [
         "F0104",
         "Qatar Airways",
         "Huangstad",
         "Catherinehaven",
         "2025-06-29",
         "2025-07-12T22:12:32.944Z",
         null,
         null,
         null
        ],
        [
         "F0105",
         "Air Canada",
         "Aprilton",
         "Victorville",
         "2025-07-05",
         "2025-07-12T22:12:32.944Z",
         null,
         null,
         null
        ],
        [
         "F0106",
         "Lufthansa",
         "East Austinmouth",
         "New Toddburgh",
         "2025-06-22",
         "2025-07-12T22:12:32.944Z",
         null,
         null,
         null
        ],
        [
         "F0110",
         "Emirates",
         "Churchport",
         "Wrightton",
         "2025-07-15",
         "2025-07-12T22:12:32.944Z",
         null,
         null,
         null
        ]
       ],
       "datasetInfos": [],
       "dbfsResultPath": null,
       "isJsonSchema": true,
       "metadata": {},
       "overflow": false,
       "plotOptions": {
        "customPlotOptions": {},
        "displayType": "table",
        "pivotAggregation": null,
        "pivotColumns": null,
        "xColumns": null,
        "yColumns": null
       },
       "removedWidgets": [],
       "schema": [
        {
         "metadata": "{}",
         "name": "flight_id",
         "type": "\"string\""
        },
        {
         "metadata": "{}",
         "name": "airline",
         "type": "\"string\""
        },
        {
         "metadata": "{}",
         "name": "origin",
         "type": "\"string\""
        },
        {
         "metadata": "{}",
         "name": "destination",
         "type": "\"string\""
        },
        {
         "metadata": "{}",
         "name": "flight_date",
         "type": "\"date\""
        },
        {
         "metadata": "{}",
         "name": "modifiedDate",
         "type": "\"timestamp\""
        },
        {
         "metadata": "{}",
         "name": "DimflightKey",
         "type": "\"integer\""
        },
        {
         "metadata": "{}",
         "name": "create_date",
         "type": "\"timestamp\""
        },
        {
         "metadata": "{}",
         "name": "update_date",
         "type": "\"timestamp\""
        }
       ],
       "type": "table"
      }
     },
     "output_type": "display_data"
    }
   ],
   "source": [
    "\n",
    "join_condition = ' AND '.join([f\"src.{i} = trg.{i}\" for i in key_cols_list])\n",
    "\n",
    "# COMMAND ----------\n",
    "\n",
    "df_src.createOrReplaceTempView(\"src\")\n",
    "df_trg.createOrReplaceTempView(\"trg\")\n",
    "\n",
    "df_join = spark.sql(f\"\"\"\n",
    "            SELECT src.*, \n",
    "                   trg.{surrogate_key},\n",
    "                   trg.create_date,\n",
    "                   trg.update_date\n",
    "            FROM src\n",
    "            LEFT JOIN trg\n",
    "            ON {join_condition}\n",
    "            \"\"\")\n",
    "df_join.display()"
   ]
  },
  {
   "cell_type": "code",
   "execution_count": 0,
   "metadata": {
    "application/vnd.databricks.v1+cell": {
     "cellMetadata": {
      "byteLimit": 2048000,
      "rowLimit": 10000
     },
     "inputWidgets": {},
     "nuid": "cbb6b6a8-203c-4349-a87f-815fd367fa0d",
     "showTitle": false,
     "tableResultSettingsMap": {},
     "title": ""
    }
   },
   "outputs": [
    {
     "output_type": "display_data",
     "data": {
      "text/html": [
       "<style scoped>\n",
       "  .table-result-container {\n",
       "    max-height: 300px;\n",
       "    overflow: auto;\n",
       "  }\n",
       "  table, th, td {\n",
       "    border: 1px solid black;\n",
       "    border-collapse: collapse;\n",
       "  }\n",
       "  th, td {\n",
       "    padding: 5px;\n",
       "  }\n",
       "  th {\n",
       "    text-align: left;\n",
       "  }\n",
       "</style><div class='table-result-container'><table class='table-result'><thead style='background-color: white'><tr><th>flight_id</th><th>airline</th><th>origin</th><th>destination</th><th>flight_date</th><th>modifiedDate</th><th>DimflightKey</th><th>create_date</th><th>update_date</th></tr></thead><tbody></tbody></table></div>"
      ]
     },
     "metadata": {
      "application/vnd.databricks.v1+output": {
       "addedWidgets": {},
       "aggData": [],
       "aggError": "",
       "aggOverflow": false,
       "aggSchema": [],
       "aggSeriesLimitReached": false,
       "aggType": "",
       "arguments": {},
       "columnCustomDisplayInfos": {},
       "data": [],
       "datasetInfos": [],
       "dbfsResultPath": null,
       "isJsonSchema": true,
       "metadata": {},
       "overflow": false,
       "plotOptions": {
        "customPlotOptions": {},
        "displayType": "table",
        "pivotAggregation": null,
        "pivotColumns": null,
        "xColumns": null,
        "yColumns": null
       },
       "removedWidgets": [],
       "schema": [
        {
         "metadata": "{}",
         "name": "flight_id",
         "type": "\"string\""
        },
        {
         "metadata": "{}",
         "name": "airline",
         "type": "\"string\""
        },
        {
         "metadata": "{}",
         "name": "origin",
         "type": "\"string\""
        },
        {
         "metadata": "{}",
         "name": "destination",
         "type": "\"string\""
        },
        {
         "metadata": "{}",
         "name": "flight_date",
         "type": "\"date\""
        },
        {
         "metadata": "{}",
         "name": "modifiedDate",
         "type": "\"timestamp\""
        },
        {
         "metadata": "{}",
         "name": "DimflightKey",
         "type": "\"integer\""
        },
        {
         "metadata": "{}",
         "name": "create_date",
         "type": "\"timestamp\""
        },
        {
         "metadata": "{}",
         "name": "update_date",
         "type": "\"timestamp\""
        }
       ],
       "type": "table"
      }
     },
     "output_type": "display_data"
    }
   ],
   "source": [
    "from pyspark.sql.functions import *\n",
    "# OLD RECORDS\n",
    "df_old = df_join.filter(col(f'{surrogate_key}').isNotNull())\n",
    "\n",
    "# NEW RECOERDS\n",
    "df_new = df_join.filter(col(f'{surrogate_key}').isNull())\n",
    "\n",
    "# COMMAND ----------\n",
    "\n",
    "df_old.display()\n"
   ]
  },
  {
   "cell_type": "code",
   "execution_count": 0,
   "metadata": {
    "application/vnd.databricks.v1+cell": {
     "cellMetadata": {
      "byteLimit": 2048000,
      "rowLimit": 10000
     },
     "inputWidgets": {},
     "nuid": "e5738e2c-fccd-49ae-97e7-c37f9594bcfa",
     "showTitle": false,
     "tableResultSettingsMap": {},
     "title": ""
    }
   },
   "outputs": [],
   "source": [
    "df_old_enr = df_old.withColumn('update_date', current_timestamp())"
   ]
  },
  {
   "cell_type": "code",
   "execution_count": 0,
   "metadata": {
    "application/vnd.databricks.v1+cell": {
     "cellMetadata": {
      "byteLimit": 2048000,
      "rowLimit": 10000
     },
     "inputWidgets": {},
     "nuid": "9cb3fc06-50ae-4cde-9d84-0bf8fe6170d8",
     "showTitle": false,
     "tableResultSettingsMap": {},
     "title": ""
    }
   },
   "outputs": [
    {
     "output_type": "display_data",
     "data": {
      "text/html": [
       "<style scoped>\n",
       "  .table-result-container {\n",
       "    max-height: 300px;\n",
       "    overflow: auto;\n",
       "  }\n",
       "  table, th, td {\n",
       "    border: 1px solid black;\n",
       "    border-collapse: collapse;\n",
       "  }\n",
       "  th, td {\n",
       "    padding: 5px;\n",
       "  }\n",
       "  th {\n",
       "    text-align: left;\n",
       "  }\n",
       "</style><div class='table-result-container'><table class='table-result'><thead style='background-color: white'><tr><th>flight_id</th><th>airline</th><th>origin</th><th>destination</th><th>flight_date</th><th>modifiedDate</th><th>DimflightKey</th><th>create_date</th><th>update_date</th></tr></thead><tbody><tr><td>F0013</td><td>Air Canada</td><td>East Brian</td><td>Wayneton</td><td>2025-05-21</td><td>2025-07-12T22:12:32.944Z</td><td>null</td><td>null</td><td>null</td></tr><tr><td>F0014</td><td>Air Canada</td><td>Toddland</td><td>Gonzalezport</td><td>2025-05-28</td><td>2025-07-12T22:12:32.944Z</td><td>null</td><td>null</td><td>null</td></tr><tr><td>F0033</td><td>Air Canada</td><td>Sandersshire</td><td>Lake Joseside</td><td>2025-06-21</td><td>2025-07-12T22:12:32.944Z</td><td>null</td><td>null</td><td>null</td></tr><tr><td>F0052</td><td>Qatar Airways</td><td>Lake Richard</td><td>Brookston</td><td>2025-05-28</td><td>2025-07-12T22:12:32.944Z</td><td>null</td><td>null</td><td>null</td></tr><tr><td>F0069</td><td>Qatar Airways</td><td>Johnsonburgh</td><td>Woodmouth</td><td>2025-06-14</td><td>2025-07-12T22:12:32.944Z</td><td>null</td><td>null</td><td>null</td></tr><tr><td>F0083</td><td>Lufthansa</td><td>Jasonborough</td><td>Port Audreyville</td><td>2025-05-30</td><td>2025-07-12T22:12:32.944Z</td><td>null</td><td>null</td><td>null</td></tr><tr><td>F0005</td><td>Qatar Airways</td><td>Bennettside</td><td>New Mistyhaven</td><td>2025-06-13</td><td>2025-07-12T22:12:32.944Z</td><td>null</td><td>null</td><td>null</td></tr><tr><td>F0007</td><td>Delta</td><td>Berryport</td><td>Miguelburgh</td><td>2025-05-24</td><td>2025-07-12T22:12:32.944Z</td><td>null</td><td>null</td><td>null</td></tr><tr><td>F0015</td><td>Delta</td><td>West Ginaton</td><td>Youngmouth</td><td>2025-05-21</td><td>2025-07-12T22:12:32.944Z</td><td>null</td><td>null</td><td>null</td></tr><tr><td>F0017</td><td>Delta</td><td>Wallermouth</td><td>New Rogerberg</td><td>2025-05-04</td><td>2025-07-12T22:12:32.944Z</td><td>null</td><td>null</td><td>null</td></tr><tr><td>F0035</td><td>Lufthansa</td><td>Karenshire</td><td>North Anthonymouth</td><td>2025-05-21</td><td>2025-07-12T22:12:32.944Z</td><td>null</td><td>null</td><td>null</td></tr><tr><td>F0058</td><td>Delta</td><td>North Brittanyborough</td><td>West Kellystad</td><td>2025-06-10</td><td>2025-07-12T22:12:32.944Z</td><td>null</td><td>null</td><td>null</td></tr><tr><td>F0003</td><td>Lufthansa</td><td>East Patrickborough</td><td>North Mary</td><td>2025-05-11</td><td>2025-07-12T22:12:32.944Z</td><td>null</td><td>null</td><td>null</td></tr><tr><td>F0022</td><td>Air Canada</td><td>Reedchester</td><td>Cruzton</td><td>2025-04-27</td><td>2025-07-12T22:12:32.944Z</td><td>null</td><td>null</td><td>null</td></tr><tr><td>F0044</td><td>Qatar Airways</td><td>East Kaylaburgh</td><td>Lake Carolynchester</td><td>2025-06-01</td><td>2025-07-12T22:12:32.944Z</td><td>null</td><td>null</td><td>null</td></tr><tr><td>F0045</td><td>Emirates</td><td>North Michaelville</td><td>Russellton</td><td>2025-05-04</td><td>2025-07-12T22:12:32.944Z</td><td>null</td><td>null</td><td>null</td></tr><tr><td>F0081</td><td>Air Canada</td><td>North Barry</td><td>Josephborough</td><td>2025-04-24</td><td>2025-07-12T22:12:32.944Z</td><td>null</td><td>null</td><td>null</td></tr><tr><td>F0087</td><td>Emirates</td><td>Kellyland</td><td>New Jonathanmouth</td><td>2025-04-23</td><td>2025-07-12T22:12:32.944Z</td><td>null</td><td>null</td><td>null</td></tr><tr><td>F0004</td><td>Delta</td><td>Maddenshire</td><td>Johnchester</td><td>2025-05-16</td><td>2025-07-12T22:12:32.944Z</td><td>null</td><td>null</td><td>null</td></tr><tr><td>F0006</td><td>Air Canada</td><td>New Richardside</td><td>South Jamesborough</td><td>2025-05-16</td><td>2025-07-12T22:12:32.944Z</td><td>null</td><td>null</td><td>null</td></tr><tr><td>F0019</td><td>Lufthansa</td><td>Lake Scott</td><td>Christineborough</td><td>2025-05-18</td><td>2025-07-12T22:12:32.944Z</td><td>null</td><td>null</td><td>null</td></tr><tr><td>F0029</td><td>Qatar Airways</td><td>Shortberg</td><td>Julieburgh</td><td>2025-05-11</td><td>2025-07-12T22:12:32.944Z</td><td>null</td><td>null</td><td>null</td></tr><tr><td>F0031</td><td>Emirates</td><td>Billview</td><td>Jonathonborough</td><td>2025-06-14</td><td>2025-07-12T22:12:32.944Z</td><td>null</td><td>null</td><td>null</td></tr><tr><td>F0036</td><td>Lufthansa</td><td>Armstrongbury</td><td>North Natashamouth</td><td>2025-05-05</td><td>2025-07-12T22:12:32.944Z</td><td>null</td><td>null</td><td>null</td></tr><tr><td>F0043</td><td>Lufthansa</td><td>Kimberlyborough</td><td>New Annfort</td><td>2025-05-15</td><td>2025-07-12T22:12:32.944Z</td><td>null</td><td>null</td><td>null</td></tr><tr><td>F0055</td><td>Air Canada</td><td>Spencerborough</td><td>Randyville</td><td>2025-06-09</td><td>2025-07-12T22:12:32.944Z</td><td>null</td><td>null</td><td>null</td></tr><tr><td>F0061</td><td>Lufthansa</td><td>Dawnshire</td><td>Stevenmouth</td><td>2025-04-24</td><td>2025-07-12T22:12:32.944Z</td><td>null</td><td>null</td><td>null</td></tr><tr><td>F0091</td><td>Lufthansa</td><td>Lake Scott</td><td>Williamshire</td><td>2025-06-04</td><td>2025-07-12T22:12:32.944Z</td><td>null</td><td>null</td><td>null</td></tr><tr><td>F0093</td><td>Air Canada</td><td>Frenchside</td><td>West Christopher</td><td>2025-05-28</td><td>2025-07-12T22:12:32.944Z</td><td>null</td><td>null</td><td>null</td></tr><tr><td>F0016</td><td>Qatar Airways</td><td>Smithborough</td><td>Randallview</td><td>2025-05-02</td><td>2025-07-12T22:12:32.944Z</td><td>null</td><td>null</td><td>null</td></tr><tr><td>F0040</td><td>Delta</td><td>Ianport</td><td>Lake Reginaldside</td><td>2025-04-23</td><td>2025-07-12T22:12:32.944Z</td><td>null</td><td>null</td><td>null</td></tr><tr><td>F0071</td><td>Delta</td><td>Jefferyberg</td><td>Wendyshire</td><td>2025-06-17</td><td>2025-07-12T22:12:32.944Z</td><td>null</td><td>null</td><td>null</td></tr><tr><td>F0096</td><td>Lufthansa</td><td>Coreyfort</td><td>West Joseph</td><td>2025-06-06</td><td>2025-07-12T22:12:32.944Z</td><td>null</td><td>null</td><td>null</td></tr><tr><td>F0010</td><td>Emirates</td><td>Kruegerchester</td><td>Martintown</td><td>2025-05-20</td><td>2025-07-12T22:12:32.944Z</td><td>null</td><td>null</td><td>null</td></tr><tr><td>F0037</td><td>Air Canada</td><td>Yangville</td><td>Jacksonview</td><td>2025-04-29</td><td>2025-07-12T22:12:32.944Z</td><td>null</td><td>null</td><td>null</td></tr><tr><td>F0073</td><td>Lufthansa</td><td>South Jasonville</td><td>Clarkeshire</td><td>2025-06-09</td><td>2025-07-12T22:12:32.944Z</td><td>null</td><td>null</td><td>null</td></tr><tr><td>F0097</td><td>Emirates</td><td>Billyport</td><td>Brentton</td><td>2025-05-18</td><td>2025-07-12T22:12:32.944Z</td><td>null</td><td>null</td><td>null</td></tr><tr><td>F0023</td><td>Lufthansa</td><td>Port Jeremyfurt</td><td>Lake Walterside</td><td>2025-05-11</td><td>2025-07-12T22:12:32.944Z</td><td>null</td><td>null</td><td>null</td></tr><tr><td>F0024</td><td>Lufthansa</td><td>Leestad</td><td>Port Debra</td><td>2025-05-09</td><td>2025-07-12T22:12:32.944Z</td><td>null</td><td>null</td><td>null</td></tr><tr><td>F0032</td><td>Emirates</td><td>Bushhaven</td><td>Patriciamouth</td><td>2025-05-22</td><td>2025-07-12T22:12:32.944Z</td><td>null</td><td>null</td><td>null</td></tr><tr><td>F0053</td><td>Qatar Airways</td><td>West Dylanbury</td><td>North Wendy</td><td>2025-05-24</td><td>2025-07-12T22:12:32.944Z</td><td>null</td><td>null</td><td>null</td></tr><tr><td>F0057</td><td>Air Canada</td><td>Samanthashire</td><td>Fisherstad</td><td>2025-06-09</td><td>2025-07-12T22:12:32.944Z</td><td>null</td><td>null</td><td>null</td></tr><tr><td>F0094</td><td>Emirates</td><td>South Amyfurt</td><td>Jimenezview</td><td>2025-06-14</td><td>2025-07-12T22:12:32.944Z</td><td>null</td><td>null</td><td>null</td></tr><tr><td>F0012</td><td>Air Canada</td><td>New Hunter</td><td>East Maria</td><td>2025-04-23</td><td>2025-07-12T22:12:32.944Z</td><td>null</td><td>null</td><td>null</td></tr><tr><td>F0038</td><td>Delta</td><td>Port Nicole</td><td>South Corey</td><td>2025-05-22</td><td>2025-07-12T22:12:32.944Z</td><td>null</td><td>null</td><td>null</td></tr><tr><td>F0067</td><td>Delta</td><td>Campbellborough</td><td>South Jason</td><td>2025-05-13</td><td>2025-07-12T22:12:32.944Z</td><td>null</td><td>null</td><td>null</td></tr><tr><td>F0068</td><td>Qatar Airways</td><td>Lake Seanport</td><td>Fieldsstad</td><td>2025-06-17</td><td>2025-07-12T22:12:32.944Z</td><td>null</td><td>null</td><td>null</td></tr><tr><td>F0075</td><td>Qatar Airways</td><td>New Danielhaven</td><td>Cunninghamfurt</td><td>2025-04-27</td><td>2025-07-12T22:12:32.944Z</td><td>null</td><td>null</td><td>null</td></tr><tr><td>F0084</td><td>Delta</td><td>Franklinmouth</td><td>Lake Joseph</td><td>2025-05-30</td><td>2025-07-12T22:12:32.944Z</td><td>null</td><td>null</td><td>null</td></tr><tr><td>F0046</td><td>Qatar Airways</td><td>West David</td><td>North Becky</td><td>2025-04-30</td><td>2025-07-12T22:12:32.944Z</td><td>null</td><td>null</td><td>null</td></tr><tr><td>F0077</td><td>Qatar Airways</td><td>Samuelfort</td><td>Port Ashley</td><td>2025-06-12</td><td>2025-07-12T22:12:32.944Z</td><td>null</td><td>null</td><td>null</td></tr><tr><td>F0021</td><td>Emirates</td><td>South Sara</td><td>North Annaport</td><td>2025-05-29</td><td>2025-07-12T22:12:32.944Z</td><td>null</td><td>null</td><td>null</td></tr><tr><td>F0030</td><td>Delta</td><td>Angelamouth</td><td>Sosaside</td><td>2025-06-16</td><td>2025-07-12T22:12:32.944Z</td><td>null</td><td>null</td><td>null</td></tr><tr><td>F0039</td><td>Air Canada</td><td>Paultown</td><td>Kellyton</td><td>2025-05-19</td><td>2025-07-12T22:12:32.944Z</td><td>null</td><td>null</td><td>null</td></tr><tr><td>F0047</td><td>Lufthansa</td><td>New Cory</td><td>Lorettashire</td><td>2025-05-05</td><td>2025-07-12T22:12:32.944Z</td><td>null</td><td>null</td><td>null</td></tr><tr><td>F0090</td><td>Delta</td><td>East Rachelport</td><td>Davisport</td><td>2025-05-23</td><td>2025-07-12T22:12:32.944Z</td><td>null</td><td>null</td><td>null</td></tr><tr><td>F0026</td><td>Air Canada</td><td>New Deborahfort</td><td>New Sabrina</td><td>2025-05-10</td><td>2025-07-12T22:12:32.944Z</td><td>null</td><td>null</td><td>null</td></tr><tr><td>F0059</td><td>Lufthansa</td><td>South Jeffrey</td><td>Jamesland</td><td>2025-05-10</td><td>2025-07-12T22:12:32.944Z</td><td>null</td><td>null</td><td>null</td></tr><tr><td>F0089</td><td>Qatar Airways</td><td>Robinsonberg</td><td>Adrianchester</td><td>2025-05-21</td><td>2025-07-12T22:12:32.944Z</td><td>null</td><td>null</td><td>null</td></tr><tr><td>F0092</td><td>Lufthansa</td><td>Austinborough</td><td>Bautistafort</td><td>2025-05-29</td><td>2025-07-12T22:12:32.944Z</td><td>null</td><td>null</td><td>null</td></tr><tr><td>F0001</td><td>Delta</td><td>Kellyfort</td><td>South Kathleen</td><td>2025-05-04</td><td>2025-07-12T22:12:32.944Z</td><td>null</td><td>null</td><td>null</td></tr><tr><td>F0018</td><td>Air Canada</td><td>Schultzborough</td><td>Danielton</td><td>2025-06-01</td><td>2025-07-12T22:12:32.944Z</td><td>null</td><td>null</td><td>null</td></tr><tr><td>F0042</td><td>Air Canada</td><td>Port William</td><td>Darrenmouth</td><td>2025-05-11</td><td>2025-07-12T22:12:32.944Z</td><td>null</td><td>null</td><td>null</td></tr><tr><td>F0049</td><td>Emirates</td><td>New Elizabethmouth</td><td>Lake Heathermouth</td><td>2025-05-06</td><td>2025-07-12T22:12:32.944Z</td><td>null</td><td>null</td><td>null</td></tr><tr><td>F0050</td><td>Air Canada</td><td>East Gailtown</td><td>Stevenville</td><td>2025-04-28</td><td>2025-07-12T22:12:32.944Z</td><td>null</td><td>null</td><td>null</td></tr><tr><td>F0051</td><td>Qatar Airways</td><td>Lisafurt</td><td>New Robert</td><td>2025-05-07</td><td>2025-07-12T22:12:32.944Z</td><td>null</td><td>null</td><td>null</td></tr><tr><td>F0060</td><td>Air Canada</td><td>Port Angelicaborough</td><td>East Daniel</td><td>2025-05-21</td><td>2025-07-12T22:12:32.944Z</td><td>null</td><td>null</td><td>null</td></tr><tr><td>F0062</td><td>Lufthansa</td><td>East Samanthafurt</td><td>Lake Troy</td><td>2025-05-12</td><td>2025-07-12T22:12:32.944Z</td><td>null</td><td>null</td><td>null</td></tr><tr><td>F0064</td><td>Delta</td><td>East Joshuastad</td><td>North Austinland</td><td>2025-05-25</td><td>2025-07-12T22:12:32.944Z</td><td>null</td><td>null</td><td>null</td></tr><tr><td>F0066</td><td>Qatar Airways</td><td>Stephenberg</td><td>Marcborough</td><td>2025-06-04</td><td>2025-07-12T22:12:32.944Z</td><td>null</td><td>null</td><td>null</td></tr><tr><td>F0070</td><td>Air Canada</td><td>Glennhaven</td><td>Port Darrenchester</td><td>2025-05-04</td><td>2025-07-12T22:12:32.944Z</td><td>null</td><td>null</td><td>null</td></tr><tr><td>F0100</td><td>Qatar Airways</td><td>Port Anthony</td><td>Thompsonfort</td><td>2025-05-31</td><td>2025-07-12T22:12:32.944Z</td><td>null</td><td>null</td><td>null</td></tr><tr><td>F0020</td><td>Lufthansa</td><td>North Jack</td><td>Loweville</td><td>2025-06-02</td><td>2025-07-12T22:12:32.944Z</td><td>null</td><td>null</td><td>null</td></tr><tr><td>F0048</td><td>Lufthansa</td><td>Cooperview</td><td>Michelleburgh</td><td>2025-05-24</td><td>2025-07-12T22:12:32.944Z</td><td>null</td><td>null</td><td>null</td></tr><tr><td>F0078</td><td>Qatar Airways</td><td>Howardbury</td><td>Burchburgh</td><td>2025-05-09</td><td>2025-07-12T22:12:32.944Z</td><td>null</td><td>null</td><td>null</td></tr><tr><td>F0082</td><td>Qatar Airways</td><td>North Erikamouth</td><td>Danielfort</td><td>2025-05-19</td><td>2025-07-12T22:12:32.944Z</td><td>null</td><td>null</td><td>null</td></tr><tr><td>F0099</td><td>Air Canada</td><td>Lake Connor</td><td>Matthewberg</td><td>2025-04-28</td><td>2025-07-12T22:12:32.944Z</td><td>null</td><td>null</td><td>null</td></tr><tr><td>F0034</td><td>Emirates</td><td>Johnsonville</td><td>Cooperland</td><td>2025-05-18</td><td>2025-07-12T22:12:32.944Z</td><td>null</td><td>null</td><td>null</td></tr><tr><td>F0063</td><td>Lufthansa</td><td>Floresshire</td><td>New Anita</td><td>2025-06-03</td><td>2025-07-12T22:12:32.944Z</td><td>null</td><td>null</td><td>null</td></tr><tr><td>F0076</td><td>Lufthansa</td><td>Johnsonchester</td><td>New Michael</td><td>2025-05-14</td><td>2025-07-12T22:12:32.944Z</td><td>null</td><td>null</td><td>null</td></tr><tr><td>F0079</td><td>Delta</td><td>Jonesburgh</td><td>Andradeville</td><td>2025-06-17</td><td>2025-07-12T22:12:32.944Z</td><td>null</td><td>null</td><td>null</td></tr><tr><td>F0080</td><td>Emirates</td><td>Sonyaberg</td><td>East Sarah</td><td>2025-06-13</td><td>2025-07-12T22:12:32.944Z</td><td>null</td><td>null</td><td>null</td></tr><tr><td>F0085</td><td>Lufthansa</td><td>Hillton</td><td>Castroborough</td><td>2025-05-19</td><td>2025-07-12T22:12:32.944Z</td><td>null</td><td>null</td><td>null</td></tr><tr><td>F0095</td><td>Qatar Airways</td><td>North Dawnberg</td><td>East Sarahmouth</td><td>2025-05-26</td><td>2025-07-12T22:12:32.944Z</td><td>null</td><td>null</td><td>null</td></tr><tr><td>F0002</td><td>Qatar Airways</td><td>Lake Stephen</td><td>New Vincent</td><td>2025-04-29</td><td>2025-07-12T22:12:32.944Z</td><td>null</td><td>null</td><td>null</td></tr><tr><td>F0027</td><td>Delta</td><td>Acevedoville</td><td>Ericchester</td><td>2025-05-14</td><td>2025-07-12T22:12:32.944Z</td><td>null</td><td>null</td><td>null</td></tr><tr><td>F0028</td><td>Delta</td><td>South Michaelberg</td><td>South Markbury</td><td>2025-05-30</td><td>2025-07-12T22:12:32.944Z</td><td>null</td><td>null</td><td>null</td></tr><tr><td>F0056</td><td>Lufthansa</td><td>South Natalie</td><td>Schaefertown</td><td>2025-05-03</td><td>2025-07-12T22:12:32.944Z</td><td>null</td><td>null</td><td>null</td></tr><tr><td>F0086</td><td>Delta</td><td>Port Chelsea</td><td>Robertchester</td><td>2025-05-08</td><td>2025-07-12T22:12:32.944Z</td><td>null</td><td>null</td><td>null</td></tr><tr><td>F0098</td><td>Air Canada</td><td>Wallerburgh</td><td>Lake Karen</td><td>2025-05-01</td><td>2025-07-12T22:12:32.944Z</td><td>null</td><td>null</td><td>null</td></tr><tr><td>F0008</td><td>Lufthansa</td><td>Briannachester</td><td>Cervantesland</td><td>2025-05-26</td><td>2025-07-12T22:12:32.944Z</td><td>null</td><td>null</td><td>null</td></tr><tr><td>F0009</td><td>Delta</td><td>Alexandraborough</td><td>North Alexishaven</td><td>2025-06-10</td><td>2025-07-12T22:12:32.944Z</td><td>null</td><td>null</td><td>null</td></tr><tr><td>F0011</td><td>Lufthansa</td><td>Port Joannahaven</td><td>North Jasonton</td><td>2025-05-30</td><td>2025-07-12T22:12:32.944Z</td><td>null</td><td>null</td><td>null</td></tr><tr><td>F0025</td><td>Qatar Airways</td><td>Chelseaberg</td><td>North Michaelshire</td><td>2025-06-01</td><td>2025-07-12T22:12:32.944Z</td><td>null</td><td>null</td><td>null</td></tr><tr><td>F0041</td><td>Air Canada</td><td>Lake Stanleyside</td><td>Port Scott</td><td>2025-06-14</td><td>2025-07-12T22:12:32.944Z</td><td>null</td><td>null</td><td>null</td></tr><tr><td>F0054</td><td>Air Canada</td><td>Seanmouth</td><td>North Kathyton</td><td>2025-05-09</td><td>2025-07-12T22:12:32.944Z</td><td>null</td><td>null</td><td>null</td></tr><tr><td>F0065</td><td>Emirates</td><td>East Paulland</td><td>Barnesberg</td><td>2025-04-29</td><td>2025-07-12T22:12:32.944Z</td><td>null</td><td>null</td><td>null</td></tr><tr><td>F0072</td><td>Emirates</td><td>Heiditown</td><td>Port Sabrinaburgh</td><td>2025-05-22</td><td>2025-07-12T22:12:32.944Z</td><td>null</td><td>null</td><td>null</td></tr><tr><td>F0074</td><td>Air Canada</td><td>Duffyville</td><td>Port Vanessa</td><td>2025-05-28</td><td>2025-07-12T22:12:32.944Z</td><td>null</td><td>null</td><td>null</td></tr><tr><td>F0088</td><td>Qatar Airways</td><td>North Miguel</td><td>Lake Allisonfurt</td><td>2025-05-28</td><td>2025-07-12T22:12:32.944Z</td><td>null</td><td>null</td><td>null</td></tr><tr><td>F0107</td><td>Air Canada</td><td>Mitchelltown</td><td>Johnsonbury</td><td>2025-07-01</td><td>2025-07-12T22:12:32.944Z</td><td>null</td><td>null</td><td>null</td></tr><tr><td>F0103</td><td>Qatar Airways</td><td>Jameschester</td><td>Ashleyberg</td><td>2025-07-15</td><td>2025-07-12T22:12:32.944Z</td><td>null</td><td>null</td><td>null</td></tr><tr><td>F0102</td><td>Delta</td><td>Schroederbury</td><td>Sethfort</td><td>2025-06-25</td><td>2025-07-12T22:12:32.944Z</td><td>null</td><td>null</td><td>null</td></tr><tr><td>F0109</td><td>Air Canada</td><td>Williamsland</td><td>South Carolberg</td><td>2025-06-14</td><td>2025-07-12T22:12:32.944Z</td><td>null</td><td>null</td><td>null</td></tr><tr><td>F0108</td><td>Lufthansa</td><td>New Jennifer</td><td>Lake Tracie</td><td>2025-06-28</td><td>2025-07-12T22:12:32.944Z</td><td>null</td><td>null</td><td>null</td></tr><tr><td>F0101</td><td>Qatar Airways</td><td>Lake Joshuamouth</td><td>Johnshire</td><td>2025-07-14</td><td>2025-07-12T22:12:32.944Z</td><td>null</td><td>null</td><td>null</td></tr><tr><td>F0104</td><td>Qatar Airways</td><td>Huangstad</td><td>Catherinehaven</td><td>2025-06-29</td><td>2025-07-12T22:12:32.944Z</td><td>null</td><td>null</td><td>null</td></tr><tr><td>F0105</td><td>Air Canada</td><td>Aprilton</td><td>Victorville</td><td>2025-07-05</td><td>2025-07-12T22:12:32.944Z</td><td>null</td><td>null</td><td>null</td></tr><tr><td>F0106</td><td>Lufthansa</td><td>East Austinmouth</td><td>New Toddburgh</td><td>2025-06-22</td><td>2025-07-12T22:12:32.944Z</td><td>null</td><td>null</td><td>null</td></tr><tr><td>F0110</td><td>Emirates</td><td>Churchport</td><td>Wrightton</td><td>2025-07-15</td><td>2025-07-12T22:12:32.944Z</td><td>null</td><td>null</td><td>null</td></tr></tbody></table></div>"
      ]
     },
     "metadata": {
      "application/vnd.databricks.v1+output": {
       "addedWidgets": {},
       "aggData": [],
       "aggError": "",
       "aggOverflow": false,
       "aggSchema": [],
       "aggSeriesLimitReached": false,
       "aggType": "",
       "arguments": {},
       "columnCustomDisplayInfos": {},
       "data": [
        [
         "F0013",
         "Air Canada",
         "East Brian",
         "Wayneton",
         "2025-05-21",
         "2025-07-12T22:12:32.944Z",
         null,
         null,
         null
        ],
        [
         "F0014",
         "Air Canada",
         "Toddland",
         "Gonzalezport",
         "2025-05-28",
         "2025-07-12T22:12:32.944Z",
         null,
         null,
         null
        ],
        [
         "F0033",
         "Air Canada",
         "Sandersshire",
         "Lake Joseside",
         "2025-06-21",
         "2025-07-12T22:12:32.944Z",
         null,
         null,
         null
        ],
        [
         "F0052",
         "Qatar Airways",
         "Lake Richard",
         "Brookston",
         "2025-05-28",
         "2025-07-12T22:12:32.944Z",
         null,
         null,
         null
        ],
        [
         "F0069",
         "Qatar Airways",
         "Johnsonburgh",
         "Woodmouth",
         "2025-06-14",
         "2025-07-12T22:12:32.944Z",
         null,
         null,
         null
        ],
        [
         "F0083",
         "Lufthansa",
         "Jasonborough",
         "Port Audreyville",
         "2025-05-30",
         "2025-07-12T22:12:32.944Z",
         null,
         null,
         null
        ],
        [
         "F0005",
         "Qatar Airways",
         "Bennettside",
         "New Mistyhaven",
         "2025-06-13",
         "2025-07-12T22:12:32.944Z",
         null,
         null,
         null
        ],
        [
         "F0007",
         "Delta",
         "Berryport",
         "Miguelburgh",
         "2025-05-24",
         "2025-07-12T22:12:32.944Z",
         null,
         null,
         null
        ],
        [
         "F0015",
         "Delta",
         "West Ginaton",
         "Youngmouth",
         "2025-05-21",
         "2025-07-12T22:12:32.944Z",
         null,
         null,
         null
        ],
        [
         "F0017",
         "Delta",
         "Wallermouth",
         "New Rogerberg",
         "2025-05-04",
         "2025-07-12T22:12:32.944Z",
         null,
         null,
         null
        ],
        [
         "F0035",
         "Lufthansa",
         "Karenshire",
         "North Anthonymouth",
         "2025-05-21",
         "2025-07-12T22:12:32.944Z",
         null,
         null,
         null
        ],
        [
         "F0058",
         "Delta",
         "North Brittanyborough",
         "West Kellystad",
         "2025-06-10",
         "2025-07-12T22:12:32.944Z",
         null,
         null,
         null
        ],
        [
         "F0003",
         "Lufthansa",
         "East Patrickborough",
         "North Mary",
         "2025-05-11",
         "2025-07-12T22:12:32.944Z",
         null,
         null,
         null
        ],
        [
         "F0022",
         "Air Canada",
         "Reedchester",
         "Cruzton",
         "2025-04-27",
         "2025-07-12T22:12:32.944Z",
         null,
         null,
         null
        ],
        [
         "F0044",
         "Qatar Airways",
         "East Kaylaburgh",
         "Lake Carolynchester",
         "2025-06-01",
         "2025-07-12T22:12:32.944Z",
         null,
         null,
         null
        ],
        [
         "F0045",
         "Emirates",
         "North Michaelville",
         "Russellton",
         "2025-05-04",
         "2025-07-12T22:12:32.944Z",
         null,
         null,
         null
        ],
        [
         "F0081",
         "Air Canada",
         "North Barry",
         "Josephborough",
         "2025-04-24",
         "2025-07-12T22:12:32.944Z",
         null,
         null,
         null
        ],
        [
         "F0087",
         "Emirates",
         "Kellyland",
         "New Jonathanmouth",
         "2025-04-23",
         "2025-07-12T22:12:32.944Z",
         null,
         null,
         null
        ],
        [
         "F0004",
         "Delta",
         "Maddenshire",
         "Johnchester",
         "2025-05-16",
         "2025-07-12T22:12:32.944Z",
         null,
         null,
         null
        ],
        [
         "F0006",
         "Air Canada",
         "New Richardside",
         "South Jamesborough",
         "2025-05-16",
         "2025-07-12T22:12:32.944Z",
         null,
         null,
         null
        ],
        [
         "F0019",
         "Lufthansa",
         "Lake Scott",
         "Christineborough",
         "2025-05-18",
         "2025-07-12T22:12:32.944Z",
         null,
         null,
         null
        ],
        [
         "F0029",
         "Qatar Airways",
         "Shortberg",
         "Julieburgh",
         "2025-05-11",
         "2025-07-12T22:12:32.944Z",
         null,
         null,
         null
        ],
        [
         "F0031",
         "Emirates",
         "Billview",
         "Jonathonborough",
         "2025-06-14",
         "2025-07-12T22:12:32.944Z",
         null,
         null,
         null
        ],
        [
         "F0036",
         "Lufthansa",
         "Armstrongbury",
         "North Natashamouth",
         "2025-05-05",
         "2025-07-12T22:12:32.944Z",
         null,
         null,
         null
        ],
        [
         "F0043",
         "Lufthansa",
         "Kimberlyborough",
         "New Annfort",
         "2025-05-15",
         "2025-07-12T22:12:32.944Z",
         null,
         null,
         null
        ],
        [
         "F0055",
         "Air Canada",
         "Spencerborough",
         "Randyville",
         "2025-06-09",
         "2025-07-12T22:12:32.944Z",
         null,
         null,
         null
        ],
        [
         "F0061",
         "Lufthansa",
         "Dawnshire",
         "Stevenmouth",
         "2025-04-24",
         "2025-07-12T22:12:32.944Z",
         null,
         null,
         null
        ],
        [
         "F0091",
         "Lufthansa",
         "Lake Scott",
         "Williamshire",
         "2025-06-04",
         "2025-07-12T22:12:32.944Z",
         null,
         null,
         null
        ],
        [
         "F0093",
         "Air Canada",
         "Frenchside",
         "West Christopher",
         "2025-05-28",
         "2025-07-12T22:12:32.944Z",
         null,
         null,
         null
        ],
        [
         "F0016",
         "Qatar Airways",
         "Smithborough",
         "Randallview",
         "2025-05-02",
         "2025-07-12T22:12:32.944Z",
         null,
         null,
         null
        ],
        [
         "F0040",
         "Delta",
         "Ianport",
         "Lake Reginaldside",
         "2025-04-23",
         "2025-07-12T22:12:32.944Z",
         null,
         null,
         null
        ],
        [
         "F0071",
         "Delta",
         "Jefferyberg",
         "Wendyshire",
         "2025-06-17",
         "2025-07-12T22:12:32.944Z",
         null,
         null,
         null
        ],
        [
         "F0096",
         "Lufthansa",
         "Coreyfort",
         "West Joseph",
         "2025-06-06",
         "2025-07-12T22:12:32.944Z",
         null,
         null,
         null
        ],
        [
         "F0010",
         "Emirates",
         "Kruegerchester",
         "Martintown",
         "2025-05-20",
         "2025-07-12T22:12:32.944Z",
         null,
         null,
         null
        ],
        [
         "F0037",
         "Air Canada",
         "Yangville",
         "Jacksonview",
         "2025-04-29",
         "2025-07-12T22:12:32.944Z",
         null,
         null,
         null
        ],
        [
         "F0073",
         "Lufthansa",
         "South Jasonville",
         "Clarkeshire",
         "2025-06-09",
         "2025-07-12T22:12:32.944Z",
         null,
         null,
         null
        ],
        [
         "F0097",
         "Emirates",
         "Billyport",
         "Brentton",
         "2025-05-18",
         "2025-07-12T22:12:32.944Z",
         null,
         null,
         null
        ],
        [
         "F0023",
         "Lufthansa",
         "Port Jeremyfurt",
         "Lake Walterside",
         "2025-05-11",
         "2025-07-12T22:12:32.944Z",
         null,
         null,
         null
        ],
        [
         "F0024",
         "Lufthansa",
         "Leestad",
         "Port Debra",
         "2025-05-09",
         "2025-07-12T22:12:32.944Z",
         null,
         null,
         null
        ],
        [
         "F0032",
         "Emirates",
         "Bushhaven",
         "Patriciamouth",
         "2025-05-22",
         "2025-07-12T22:12:32.944Z",
         null,
         null,
         null
        ],
        [
         "F0053",
         "Qatar Airways",
         "West Dylanbury",
         "North Wendy",
         "2025-05-24",
         "2025-07-12T22:12:32.944Z",
         null,
         null,
         null
        ],
        [
         "F0057",
         "Air Canada",
         "Samanthashire",
         "Fisherstad",
         "2025-06-09",
         "2025-07-12T22:12:32.944Z",
         null,
         null,
         null
        ],
        [
         "F0094",
         "Emirates",
         "South Amyfurt",
         "Jimenezview",
         "2025-06-14",
         "2025-07-12T22:12:32.944Z",
         null,
         null,
         null
        ],
        [
         "F0012",
         "Air Canada",
         "New Hunter",
         "East Maria",
         "2025-04-23",
         "2025-07-12T22:12:32.944Z",
         null,
         null,
         null
        ],
        [
         "F0038",
         "Delta",
         "Port Nicole",
         "South Corey",
         "2025-05-22",
         "2025-07-12T22:12:32.944Z",
         null,
         null,
         null
        ],
        [
         "F0067",
         "Delta",
         "Campbellborough",
         "South Jason",
         "2025-05-13",
         "2025-07-12T22:12:32.944Z",
         null,
         null,
         null
        ],
        [
         "F0068",
         "Qatar Airways",
         "Lake Seanport",
         "Fieldsstad",
         "2025-06-17",
         "2025-07-12T22:12:32.944Z",
         null,
         null,
         null
        ],
        [
         "F0075",
         "Qatar Airways",
         "New Danielhaven",
         "Cunninghamfurt",
         "2025-04-27",
         "2025-07-12T22:12:32.944Z",
         null,
         null,
         null
        ],
        [
         "F0084",
         "Delta",
         "Franklinmouth",
         "Lake Joseph",
         "2025-05-30",
         "2025-07-12T22:12:32.944Z",
         null,
         null,
         null
        ],
        [
         "F0046",
         "Qatar Airways",
         "West David",
         "North Becky",
         "2025-04-30",
         "2025-07-12T22:12:32.944Z",
         null,
         null,
         null
        ],
        [
         "F0077",
         "Qatar Airways",
         "Samuelfort",
         "Port Ashley",
         "2025-06-12",
         "2025-07-12T22:12:32.944Z",
         null,
         null,
         null
        ],
        [
         "F0021",
         "Emirates",
         "South Sara",
         "North Annaport",
         "2025-05-29",
         "2025-07-12T22:12:32.944Z",
         null,
         null,
         null
        ],
        [
         "F0030",
         "Delta",
         "Angelamouth",
         "Sosaside",
         "2025-06-16",
         "2025-07-12T22:12:32.944Z",
         null,
         null,
         null
        ],
        [
         "F0039",
         "Air Canada",
         "Paultown",
         "Kellyton",
         "2025-05-19",
         "2025-07-12T22:12:32.944Z",
         null,
         null,
         null
        ],
        [
         "F0047",
         "Lufthansa",
         "New Cory",
         "Lorettashire",
         "2025-05-05",
         "2025-07-12T22:12:32.944Z",
         null,
         null,
         null
        ],
        [
         "F0090",
         "Delta",
         "East Rachelport",
         "Davisport",
         "2025-05-23",
         "2025-07-12T22:12:32.944Z",
         null,
         null,
         null
        ],
        [
         "F0026",
         "Air Canada",
         "New Deborahfort",
         "New Sabrina",
         "2025-05-10",
         "2025-07-12T22:12:32.944Z",
         null,
         null,
         null
        ],
        [
         "F0059",
         "Lufthansa",
         "South Jeffrey",
         "Jamesland",
         "2025-05-10",
         "2025-07-12T22:12:32.944Z",
         null,
         null,
         null
        ],
        [
         "F0089",
         "Qatar Airways",
         "Robinsonberg",
         "Adrianchester",
         "2025-05-21",
         "2025-07-12T22:12:32.944Z",
         null,
         null,
         null
        ],
        [
         "F0092",
         "Lufthansa",
         "Austinborough",
         "Bautistafort",
         "2025-05-29",
         "2025-07-12T22:12:32.944Z",
         null,
         null,
         null
        ],
        [
         "F0001",
         "Delta",
         "Kellyfort",
         "South Kathleen",
         "2025-05-04",
         "2025-07-12T22:12:32.944Z",
         null,
         null,
         null
        ],
        [
         "F0018",
         "Air Canada",
         "Schultzborough",
         "Danielton",
         "2025-06-01",
         "2025-07-12T22:12:32.944Z",
         null,
         null,
         null
        ],
        [
         "F0042",
         "Air Canada",
         "Port William",
         "Darrenmouth",
         "2025-05-11",
         "2025-07-12T22:12:32.944Z",
         null,
         null,
         null
        ],
        [
         "F0049",
         "Emirates",
         "New Elizabethmouth",
         "Lake Heathermouth",
         "2025-05-06",
         "2025-07-12T22:12:32.944Z",
         null,
         null,
         null
        ],
        [
         "F0050",
         "Air Canada",
         "East Gailtown",
         "Stevenville",
         "2025-04-28",
         "2025-07-12T22:12:32.944Z",
         null,
         null,
         null
        ],
        [
         "F0051",
         "Qatar Airways",
         "Lisafurt",
         "New Robert",
         "2025-05-07",
         "2025-07-12T22:12:32.944Z",
         null,
         null,
         null
        ],
        [
         "F0060",
         "Air Canada",
         "Port Angelicaborough",
         "East Daniel",
         "2025-05-21",
         "2025-07-12T22:12:32.944Z",
         null,
         null,
         null
        ],
        [
         "F0062",
         "Lufthansa",
         "East Samanthafurt",
         "Lake Troy",
         "2025-05-12",
         "2025-07-12T22:12:32.944Z",
         null,
         null,
         null
        ],
        [
         "F0064",
         "Delta",
         "East Joshuastad",
         "North Austinland",
         "2025-05-25",
         "2025-07-12T22:12:32.944Z",
         null,
         null,
         null
        ],
        [
         "F0066",
         "Qatar Airways",
         "Stephenberg",
         "Marcborough",
         "2025-06-04",
         "2025-07-12T22:12:32.944Z",
         null,
         null,
         null
        ],
        [
         "F0070",
         "Air Canada",
         "Glennhaven",
         "Port Darrenchester",
         "2025-05-04",
         "2025-07-12T22:12:32.944Z",
         null,
         null,
         null
        ],
        [
         "F0100",
         "Qatar Airways",
         "Port Anthony",
         "Thompsonfort",
         "2025-05-31",
         "2025-07-12T22:12:32.944Z",
         null,
         null,
         null
        ],
        [
         "F0020",
         "Lufthansa",
         "North Jack",
         "Loweville",
         "2025-06-02",
         "2025-07-12T22:12:32.944Z",
         null,
         null,
         null
        ],
        [
         "F0048",
         "Lufthansa",
         "Cooperview",
         "Michelleburgh",
         "2025-05-24",
         "2025-07-12T22:12:32.944Z",
         null,
         null,
         null
        ],
        [
         "F0078",
         "Qatar Airways",
         "Howardbury",
         "Burchburgh",
         "2025-05-09",
         "2025-07-12T22:12:32.944Z",
         null,
         null,
         null
        ],
        [
         "F0082",
         "Qatar Airways",
         "North Erikamouth",
         "Danielfort",
         "2025-05-19",
         "2025-07-12T22:12:32.944Z",
         null,
         null,
         null
        ],
        [
         "F0099",
         "Air Canada",
         "Lake Connor",
         "Matthewberg",
         "2025-04-28",
         "2025-07-12T22:12:32.944Z",
         null,
         null,
         null
        ],
        [
         "F0034",
         "Emirates",
         "Johnsonville",
         "Cooperland",
         "2025-05-18",
         "2025-07-12T22:12:32.944Z",
         null,
         null,
         null
        ],
        [
         "F0063",
         "Lufthansa",
         "Floresshire",
         "New Anita",
         "2025-06-03",
         "2025-07-12T22:12:32.944Z",
         null,
         null,
         null
        ],
        [
         "F0076",
         "Lufthansa",
         "Johnsonchester",
         "New Michael",
         "2025-05-14",
         "2025-07-12T22:12:32.944Z",
         null,
         null,
         null
        ],
        [
         "F0079",
         "Delta",
         "Jonesburgh",
         "Andradeville",
         "2025-06-17",
         "2025-07-12T22:12:32.944Z",
         null,
         null,
         null
        ],
        [
         "F0080",
         "Emirates",
         "Sonyaberg",
         "East Sarah",
         "2025-06-13",
         "2025-07-12T22:12:32.944Z",
         null,
         null,
         null
        ],
        [
         "F0085",
         "Lufthansa",
         "Hillton",
         "Castroborough",
         "2025-05-19",
         "2025-07-12T22:12:32.944Z",
         null,
         null,
         null
        ],
        [
         "F0095",
         "Qatar Airways",
         "North Dawnberg",
         "East Sarahmouth",
         "2025-05-26",
         "2025-07-12T22:12:32.944Z",
         null,
         null,
         null
        ],
        [
         "F0002",
         "Qatar Airways",
         "Lake Stephen",
         "New Vincent",
         "2025-04-29",
         "2025-07-12T22:12:32.944Z",
         null,
         null,
         null
        ],
        [
         "F0027",
         "Delta",
         "Acevedoville",
         "Ericchester",
         "2025-05-14",
         "2025-07-12T22:12:32.944Z",
         null,
         null,
         null
        ],
        [
         "F0028",
         "Delta",
         "South Michaelberg",
         "South Markbury",
         "2025-05-30",
         "2025-07-12T22:12:32.944Z",
         null,
         null,
         null
        ],
        [
         "F0056",
         "Lufthansa",
         "South Natalie",
         "Schaefertown",
         "2025-05-03",
         "2025-07-12T22:12:32.944Z",
         null,
         null,
         null
        ],
        [
         "F0086",
         "Delta",
         "Port Chelsea",
         "Robertchester",
         "2025-05-08",
         "2025-07-12T22:12:32.944Z",
         null,
         null,
         null
        ],
        [
         "F0098",
         "Air Canada",
         "Wallerburgh",
         "Lake Karen",
         "2025-05-01",
         "2025-07-12T22:12:32.944Z",
         null,
         null,
         null
        ],
        [
         "F0008",
         "Lufthansa",
         "Briannachester",
         "Cervantesland",
         "2025-05-26",
         "2025-07-12T22:12:32.944Z",
         null,
         null,
         null
        ],
        [
         "F0009",
         "Delta",
         "Alexandraborough",
         "North Alexishaven",
         "2025-06-10",
         "2025-07-12T22:12:32.944Z",
         null,
         null,
         null
        ],
        [
         "F0011",
         "Lufthansa",
         "Port Joannahaven",
         "North Jasonton",
         "2025-05-30",
         "2025-07-12T22:12:32.944Z",
         null,
         null,
         null
        ],
        [
         "F0025",
         "Qatar Airways",
         "Chelseaberg",
         "North Michaelshire",
         "2025-06-01",
         "2025-07-12T22:12:32.944Z",
         null,
         null,
         null
        ],
        [
         "F0041",
         "Air Canada",
         "Lake Stanleyside",
         "Port Scott",
         "2025-06-14",
         "2025-07-12T22:12:32.944Z",
         null,
         null,
         null
        ],
        [
         "F0054",
         "Air Canada",
         "Seanmouth",
         "North Kathyton",
         "2025-05-09",
         "2025-07-12T22:12:32.944Z",
         null,
         null,
         null
        ],
        [
         "F0065",
         "Emirates",
         "East Paulland",
         "Barnesberg",
         "2025-04-29",
         "2025-07-12T22:12:32.944Z",
         null,
         null,
         null
        ],
        [
         "F0072",
         "Emirates",
         "Heiditown",
         "Port Sabrinaburgh",
         "2025-05-22",
         "2025-07-12T22:12:32.944Z",
         null,
         null,
         null
        ],
        [
         "F0074",
         "Air Canada",
         "Duffyville",
         "Port Vanessa",
         "2025-05-28",
         "2025-07-12T22:12:32.944Z",
         null,
         null,
         null
        ],
        [
         "F0088",
         "Qatar Airways",
         "North Miguel",
         "Lake Allisonfurt",
         "2025-05-28",
         "2025-07-12T22:12:32.944Z",
         null,
         null,
         null
        ],
        [
         "F0107",
         "Air Canada",
         "Mitchelltown",
         "Johnsonbury",
         "2025-07-01",
         "2025-07-12T22:12:32.944Z",
         null,
         null,
         null
        ],
        [
         "F0103",
         "Qatar Airways",
         "Jameschester",
         "Ashleyberg",
         "2025-07-15",
         "2025-07-12T22:12:32.944Z",
         null,
         null,
         null
        ],
        [
         "F0102",
         "Delta",
         "Schroederbury",
         "Sethfort",
         "2025-06-25",
         "2025-07-12T22:12:32.944Z",
         null,
         null,
         null
        ],
        [
         "F0109",
         "Air Canada",
         "Williamsland",
         "South Carolberg",
         "2025-06-14",
         "2025-07-12T22:12:32.944Z",
         null,
         null,
         null
        ],
        [
         "F0108",
         "Lufthansa",
         "New Jennifer",
         "Lake Tracie",
         "2025-06-28",
         "2025-07-12T22:12:32.944Z",
         null,
         null,
         null
        ],
        [
         "F0101",
         "Qatar Airways",
         "Lake Joshuamouth",
         "Johnshire",
         "2025-07-14",
         "2025-07-12T22:12:32.944Z",
         null,
         null,
         null
        ],
        [
         "F0104",
         "Qatar Airways",
         "Huangstad",
         "Catherinehaven",
         "2025-06-29",
         "2025-07-12T22:12:32.944Z",
         null,
         null,
         null
        ],
        [
         "F0105",
         "Air Canada",
         "Aprilton",
         "Victorville",
         "2025-07-05",
         "2025-07-12T22:12:32.944Z",
         null,
         null,
         null
        ],
        [
         "F0106",
         "Lufthansa",
         "East Austinmouth",
         "New Toddburgh",
         "2025-06-22",
         "2025-07-12T22:12:32.944Z",
         null,
         null,
         null
        ],
        [
         "F0110",
         "Emirates",
         "Churchport",
         "Wrightton",
         "2025-07-15",
         "2025-07-12T22:12:32.944Z",
         null,
         null,
         null
        ]
       ],
       "datasetInfos": [],
       "dbfsResultPath": null,
       "isJsonSchema": true,
       "metadata": {},
       "overflow": false,
       "plotOptions": {
        "customPlotOptions": {},
        "displayType": "table",
        "pivotAggregation": null,
        "pivotColumns": null,
        "xColumns": null,
        "yColumns": null
       },
       "removedWidgets": [],
       "schema": [
        {
         "metadata": "{}",
         "name": "flight_id",
         "type": "\"string\""
        },
        {
         "metadata": "{}",
         "name": "airline",
         "type": "\"string\""
        },
        {
         "metadata": "{}",
         "name": "origin",
         "type": "\"string\""
        },
        {
         "metadata": "{}",
         "name": "destination",
         "type": "\"string\""
        },
        {
         "metadata": "{}",
         "name": "flight_date",
         "type": "\"date\""
        },
        {
         "metadata": "{}",
         "name": "modifiedDate",
         "type": "\"timestamp\""
        },
        {
         "metadata": "{}",
         "name": "DimflightKey",
         "type": "\"integer\""
        },
        {
         "metadata": "{}",
         "name": "create_date",
         "type": "\"timestamp\""
        },
        {
         "metadata": "{}",
         "name": "update_date",
         "type": "\"timestamp\""
        }
       ],
       "type": "table"
      }
     },
     "output_type": "display_data"
    }
   ],
   "source": [
    "\n",
    "df_new.display()"
   ]
  },
  {
   "cell_type": "code",
   "execution_count": 0,
   "metadata": {
    "application/vnd.databricks.v1+cell": {
     "cellMetadata": {
      "byteLimit": 2048000,
      "rowLimit": 10000
     },
     "inputWidgets": {},
     "nuid": "1437f6b6-6014-4caa-837e-2c7dc66f6e43",
     "showTitle": false,
     "tableResultSettingsMap": {},
     "title": ""
    }
   },
   "outputs": [],
   "source": [
    "if spark.catalog.tableExists(f\"{catalog}.{target_schema}.{target_object}\"): \n",
    "    max_surrogate_key = spark.sql(f\"\"\"\n",
    "                            SELECT max({surrogate_key}) FROM {catalog}.{target_schema}.{target_object}\n",
    "                        \"\"\").collect()[0][0]\n",
    "    df_new_enr = df_new.withColumn(f'{surrogate_key}', lit(max_surrogate_key)+lit(1)+monotonically_increasing_id())\\\n",
    "                    .withColumn('create_date', current_timestamp())\\\n",
    "                    .withColumn('update_date', current_timestamp())    \n",
    "\n",
    "else:\n",
    "    max_surrogate_key = 0\n",
    "    df_new_enr = df_new.withColumn(f'{surrogate_key}', lit(max_surrogate_key)+lit(1)+monotonically_increasing_id())\\\n",
    "                    .withColumn('create_date', current_timestamp())\\\n",
    "                    .withColumn('update_date', current_timestamp())"
   ]
  },
  {
   "cell_type": "code",
   "execution_count": 0,
   "metadata": {
    "application/vnd.databricks.v1+cell": {
     "cellMetadata": {
      "byteLimit": 2048000,
      "rowLimit": 10000
     },
     "inputWidgets": {},
     "nuid": "40afd8a0-2094-4720-b275-715324137e42",
     "showTitle": false,
     "tableResultSettingsMap": {},
     "title": ""
    }
   },
   "outputs": [
    {
     "output_type": "display_data",
     "data": {
      "text/html": [
       "<style scoped>\n",
       "  .table-result-container {\n",
       "    max-height: 300px;\n",
       "    overflow: auto;\n",
       "  }\n",
       "  table, th, td {\n",
       "    border: 1px solid black;\n",
       "    border-collapse: collapse;\n",
       "  }\n",
       "  th, td {\n",
       "    padding: 5px;\n",
       "  }\n",
       "  th {\n",
       "    text-align: left;\n",
       "  }\n",
       "</style><div class='table-result-container'><table class='table-result'><thead style='background-color: white'><tr><th>flight_id</th><th>airline</th><th>origin</th><th>destination</th><th>flight_date</th><th>modifiedDate</th><th>DimflightKey</th><th>create_date</th><th>update_date</th></tr></thead><tbody></tbody></table></div>"
      ]
     },
     "metadata": {
      "application/vnd.databricks.v1+output": {
       "addedWidgets": {},
       "aggData": [],
       "aggError": "",
       "aggOverflow": false,
       "aggSchema": [],
       "aggSeriesLimitReached": false,
       "aggType": "",
       "arguments": {},
       "columnCustomDisplayInfos": {},
       "data": [],
       "datasetInfos": [],
       "dbfsResultPath": null,
       "isJsonSchema": true,
       "metadata": {},
       "overflow": false,
       "plotOptions": {
        "customPlotOptions": {},
        "displayType": "table",
        "pivotAggregation": null,
        "pivotColumns": null,
        "xColumns": null,
        "yColumns": null
       },
       "removedWidgets": [],
       "schema": [
        {
         "metadata": "{}",
         "name": "flight_id",
         "type": "\"string\""
        },
        {
         "metadata": "{}",
         "name": "airline",
         "type": "\"string\""
        },
        {
         "metadata": "{}",
         "name": "origin",
         "type": "\"string\""
        },
        {
         "metadata": "{}",
         "name": "destination",
         "type": "\"string\""
        },
        {
         "metadata": "{}",
         "name": "flight_date",
         "type": "\"date\""
        },
        {
         "metadata": "{}",
         "name": "modifiedDate",
         "type": "\"timestamp\""
        },
        {
         "metadata": "{}",
         "name": "DimflightKey",
         "type": "\"integer\""
        },
        {
         "metadata": "{}",
         "name": "create_date",
         "type": "\"timestamp\""
        },
        {
         "metadata": "{}",
         "name": "update_date",
         "type": "\"timestamp\""
        }
       ],
       "type": "table"
      }
     },
     "output_type": "display_data"
    },
    {
     "output_type": "display_data",
     "data": {
      "text/html": [
       "<style scoped>\n",
       "  .table-result-container {\n",
       "    max-height: 300px;\n",
       "    overflow: auto;\n",
       "  }\n",
       "  table, th, td {\n",
       "    border: 1px solid black;\n",
       "    border-collapse: collapse;\n",
       "  }\n",
       "  th, td {\n",
       "    padding: 5px;\n",
       "  }\n",
       "  th {\n",
       "    text-align: left;\n",
       "  }\n",
       "</style><div class='table-result-container'><table class='table-result'><thead style='background-color: white'><tr><th>flight_id</th><th>airline</th><th>origin</th><th>destination</th><th>flight_date</th><th>modifiedDate</th><th>DimflightKey</th><th>create_date</th><th>update_date</th></tr></thead><tbody><tr><td>F0013</td><td>Air Canada</td><td>East Brian</td><td>Wayneton</td><td>2025-05-21</td><td>2025-07-12T22:12:32.944Z</td><td>1</td><td>2025-07-14T13:36:24.230Z</td><td>2025-07-14T13:36:24.230Z</td></tr><tr><td>F0014</td><td>Air Canada</td><td>Toddland</td><td>Gonzalezport</td><td>2025-05-28</td><td>2025-07-12T22:12:32.944Z</td><td>2</td><td>2025-07-14T13:36:24.230Z</td><td>2025-07-14T13:36:24.230Z</td></tr><tr><td>F0033</td><td>Air Canada</td><td>Sandersshire</td><td>Lake Joseside</td><td>2025-06-21</td><td>2025-07-12T22:12:32.944Z</td><td>3</td><td>2025-07-14T13:36:24.230Z</td><td>2025-07-14T13:36:24.230Z</td></tr><tr><td>F0052</td><td>Qatar Airways</td><td>Lake Richard</td><td>Brookston</td><td>2025-05-28</td><td>2025-07-12T22:12:32.944Z</td><td>4</td><td>2025-07-14T13:36:24.230Z</td><td>2025-07-14T13:36:24.230Z</td></tr><tr><td>F0069</td><td>Qatar Airways</td><td>Johnsonburgh</td><td>Woodmouth</td><td>2025-06-14</td><td>2025-07-12T22:12:32.944Z</td><td>5</td><td>2025-07-14T13:36:24.230Z</td><td>2025-07-14T13:36:24.230Z</td></tr><tr><td>F0083</td><td>Lufthansa</td><td>Jasonborough</td><td>Port Audreyville</td><td>2025-05-30</td><td>2025-07-12T22:12:32.944Z</td><td>6</td><td>2025-07-14T13:36:24.230Z</td><td>2025-07-14T13:36:24.230Z</td></tr><tr><td>F0005</td><td>Qatar Airways</td><td>Bennettside</td><td>New Mistyhaven</td><td>2025-06-13</td><td>2025-07-12T22:12:32.944Z</td><td>7</td><td>2025-07-14T13:36:24.230Z</td><td>2025-07-14T13:36:24.230Z</td></tr><tr><td>F0007</td><td>Delta</td><td>Berryport</td><td>Miguelburgh</td><td>2025-05-24</td><td>2025-07-12T22:12:32.944Z</td><td>8</td><td>2025-07-14T13:36:24.230Z</td><td>2025-07-14T13:36:24.230Z</td></tr><tr><td>F0015</td><td>Delta</td><td>West Ginaton</td><td>Youngmouth</td><td>2025-05-21</td><td>2025-07-12T22:12:32.944Z</td><td>9</td><td>2025-07-14T13:36:24.230Z</td><td>2025-07-14T13:36:24.230Z</td></tr><tr><td>F0017</td><td>Delta</td><td>Wallermouth</td><td>New Rogerberg</td><td>2025-05-04</td><td>2025-07-12T22:12:32.944Z</td><td>10</td><td>2025-07-14T13:36:24.230Z</td><td>2025-07-14T13:36:24.230Z</td></tr><tr><td>F0035</td><td>Lufthansa</td><td>Karenshire</td><td>North Anthonymouth</td><td>2025-05-21</td><td>2025-07-12T22:12:32.944Z</td><td>11</td><td>2025-07-14T13:36:24.230Z</td><td>2025-07-14T13:36:24.230Z</td></tr><tr><td>F0058</td><td>Delta</td><td>North Brittanyborough</td><td>West Kellystad</td><td>2025-06-10</td><td>2025-07-12T22:12:32.944Z</td><td>12</td><td>2025-07-14T13:36:24.230Z</td><td>2025-07-14T13:36:24.230Z</td></tr><tr><td>F0003</td><td>Lufthansa</td><td>East Patrickborough</td><td>North Mary</td><td>2025-05-11</td><td>2025-07-12T22:12:32.944Z</td><td>13</td><td>2025-07-14T13:36:24.230Z</td><td>2025-07-14T13:36:24.230Z</td></tr><tr><td>F0022</td><td>Air Canada</td><td>Reedchester</td><td>Cruzton</td><td>2025-04-27</td><td>2025-07-12T22:12:32.944Z</td><td>14</td><td>2025-07-14T13:36:24.230Z</td><td>2025-07-14T13:36:24.230Z</td></tr><tr><td>F0044</td><td>Qatar Airways</td><td>East Kaylaburgh</td><td>Lake Carolynchester</td><td>2025-06-01</td><td>2025-07-12T22:12:32.944Z</td><td>15</td><td>2025-07-14T13:36:24.230Z</td><td>2025-07-14T13:36:24.230Z</td></tr><tr><td>F0045</td><td>Emirates</td><td>North Michaelville</td><td>Russellton</td><td>2025-05-04</td><td>2025-07-12T22:12:32.944Z</td><td>16</td><td>2025-07-14T13:36:24.230Z</td><td>2025-07-14T13:36:24.230Z</td></tr><tr><td>F0081</td><td>Air Canada</td><td>North Barry</td><td>Josephborough</td><td>2025-04-24</td><td>2025-07-12T22:12:32.944Z</td><td>17</td><td>2025-07-14T13:36:24.230Z</td><td>2025-07-14T13:36:24.230Z</td></tr><tr><td>F0087</td><td>Emirates</td><td>Kellyland</td><td>New Jonathanmouth</td><td>2025-04-23</td><td>2025-07-12T22:12:32.944Z</td><td>18</td><td>2025-07-14T13:36:24.230Z</td><td>2025-07-14T13:36:24.230Z</td></tr><tr><td>F0004</td><td>Delta</td><td>Maddenshire</td><td>Johnchester</td><td>2025-05-16</td><td>2025-07-12T22:12:32.944Z</td><td>19</td><td>2025-07-14T13:36:24.230Z</td><td>2025-07-14T13:36:24.230Z</td></tr><tr><td>F0006</td><td>Air Canada</td><td>New Richardside</td><td>South Jamesborough</td><td>2025-05-16</td><td>2025-07-12T22:12:32.944Z</td><td>20</td><td>2025-07-14T13:36:24.230Z</td><td>2025-07-14T13:36:24.230Z</td></tr><tr><td>F0019</td><td>Lufthansa</td><td>Lake Scott</td><td>Christineborough</td><td>2025-05-18</td><td>2025-07-12T22:12:32.944Z</td><td>21</td><td>2025-07-14T13:36:24.230Z</td><td>2025-07-14T13:36:24.230Z</td></tr><tr><td>F0029</td><td>Qatar Airways</td><td>Shortberg</td><td>Julieburgh</td><td>2025-05-11</td><td>2025-07-12T22:12:32.944Z</td><td>22</td><td>2025-07-14T13:36:24.230Z</td><td>2025-07-14T13:36:24.230Z</td></tr><tr><td>F0031</td><td>Emirates</td><td>Billview</td><td>Jonathonborough</td><td>2025-06-14</td><td>2025-07-12T22:12:32.944Z</td><td>23</td><td>2025-07-14T13:36:24.230Z</td><td>2025-07-14T13:36:24.230Z</td></tr><tr><td>F0036</td><td>Lufthansa</td><td>Armstrongbury</td><td>North Natashamouth</td><td>2025-05-05</td><td>2025-07-12T22:12:32.944Z</td><td>24</td><td>2025-07-14T13:36:24.230Z</td><td>2025-07-14T13:36:24.230Z</td></tr><tr><td>F0043</td><td>Lufthansa</td><td>Kimberlyborough</td><td>New Annfort</td><td>2025-05-15</td><td>2025-07-12T22:12:32.944Z</td><td>25</td><td>2025-07-14T13:36:24.230Z</td><td>2025-07-14T13:36:24.230Z</td></tr><tr><td>F0055</td><td>Air Canada</td><td>Spencerborough</td><td>Randyville</td><td>2025-06-09</td><td>2025-07-12T22:12:32.944Z</td><td>26</td><td>2025-07-14T13:36:24.230Z</td><td>2025-07-14T13:36:24.230Z</td></tr><tr><td>F0061</td><td>Lufthansa</td><td>Dawnshire</td><td>Stevenmouth</td><td>2025-04-24</td><td>2025-07-12T22:12:32.944Z</td><td>27</td><td>2025-07-14T13:36:24.230Z</td><td>2025-07-14T13:36:24.230Z</td></tr><tr><td>F0091</td><td>Lufthansa</td><td>Lake Scott</td><td>Williamshire</td><td>2025-06-04</td><td>2025-07-12T22:12:32.944Z</td><td>28</td><td>2025-07-14T13:36:24.230Z</td><td>2025-07-14T13:36:24.230Z</td></tr><tr><td>F0093</td><td>Air Canada</td><td>Frenchside</td><td>West Christopher</td><td>2025-05-28</td><td>2025-07-12T22:12:32.944Z</td><td>29</td><td>2025-07-14T13:36:24.230Z</td><td>2025-07-14T13:36:24.230Z</td></tr><tr><td>F0016</td><td>Qatar Airways</td><td>Smithborough</td><td>Randallview</td><td>2025-05-02</td><td>2025-07-12T22:12:32.944Z</td><td>30</td><td>2025-07-14T13:36:24.230Z</td><td>2025-07-14T13:36:24.230Z</td></tr><tr><td>F0040</td><td>Delta</td><td>Ianport</td><td>Lake Reginaldside</td><td>2025-04-23</td><td>2025-07-12T22:12:32.944Z</td><td>31</td><td>2025-07-14T13:36:24.230Z</td><td>2025-07-14T13:36:24.230Z</td></tr><tr><td>F0071</td><td>Delta</td><td>Jefferyberg</td><td>Wendyshire</td><td>2025-06-17</td><td>2025-07-12T22:12:32.944Z</td><td>32</td><td>2025-07-14T13:36:24.230Z</td><td>2025-07-14T13:36:24.230Z</td></tr><tr><td>F0096</td><td>Lufthansa</td><td>Coreyfort</td><td>West Joseph</td><td>2025-06-06</td><td>2025-07-12T22:12:32.944Z</td><td>33</td><td>2025-07-14T13:36:24.230Z</td><td>2025-07-14T13:36:24.230Z</td></tr><tr><td>F0010</td><td>Emirates</td><td>Kruegerchester</td><td>Martintown</td><td>2025-05-20</td><td>2025-07-12T22:12:32.944Z</td><td>34</td><td>2025-07-14T13:36:24.230Z</td><td>2025-07-14T13:36:24.230Z</td></tr><tr><td>F0037</td><td>Air Canada</td><td>Yangville</td><td>Jacksonview</td><td>2025-04-29</td><td>2025-07-12T22:12:32.944Z</td><td>35</td><td>2025-07-14T13:36:24.230Z</td><td>2025-07-14T13:36:24.230Z</td></tr><tr><td>F0073</td><td>Lufthansa</td><td>South Jasonville</td><td>Clarkeshire</td><td>2025-06-09</td><td>2025-07-12T22:12:32.944Z</td><td>36</td><td>2025-07-14T13:36:24.230Z</td><td>2025-07-14T13:36:24.230Z</td></tr><tr><td>F0097</td><td>Emirates</td><td>Billyport</td><td>Brentton</td><td>2025-05-18</td><td>2025-07-12T22:12:32.944Z</td><td>37</td><td>2025-07-14T13:36:24.230Z</td><td>2025-07-14T13:36:24.230Z</td></tr><tr><td>F0023</td><td>Lufthansa</td><td>Port Jeremyfurt</td><td>Lake Walterside</td><td>2025-05-11</td><td>2025-07-12T22:12:32.944Z</td><td>38</td><td>2025-07-14T13:36:24.230Z</td><td>2025-07-14T13:36:24.230Z</td></tr><tr><td>F0024</td><td>Lufthansa</td><td>Leestad</td><td>Port Debra</td><td>2025-05-09</td><td>2025-07-12T22:12:32.944Z</td><td>39</td><td>2025-07-14T13:36:24.230Z</td><td>2025-07-14T13:36:24.230Z</td></tr><tr><td>F0032</td><td>Emirates</td><td>Bushhaven</td><td>Patriciamouth</td><td>2025-05-22</td><td>2025-07-12T22:12:32.944Z</td><td>40</td><td>2025-07-14T13:36:24.230Z</td><td>2025-07-14T13:36:24.230Z</td></tr><tr><td>F0053</td><td>Qatar Airways</td><td>West Dylanbury</td><td>North Wendy</td><td>2025-05-24</td><td>2025-07-12T22:12:32.944Z</td><td>41</td><td>2025-07-14T13:36:24.230Z</td><td>2025-07-14T13:36:24.230Z</td></tr><tr><td>F0057</td><td>Air Canada</td><td>Samanthashire</td><td>Fisherstad</td><td>2025-06-09</td><td>2025-07-12T22:12:32.944Z</td><td>42</td><td>2025-07-14T13:36:24.230Z</td><td>2025-07-14T13:36:24.230Z</td></tr><tr><td>F0094</td><td>Emirates</td><td>South Amyfurt</td><td>Jimenezview</td><td>2025-06-14</td><td>2025-07-12T22:12:32.944Z</td><td>43</td><td>2025-07-14T13:36:24.230Z</td><td>2025-07-14T13:36:24.230Z</td></tr><tr><td>F0012</td><td>Air Canada</td><td>New Hunter</td><td>East Maria</td><td>2025-04-23</td><td>2025-07-12T22:12:32.944Z</td><td>44</td><td>2025-07-14T13:36:24.230Z</td><td>2025-07-14T13:36:24.230Z</td></tr><tr><td>F0038</td><td>Delta</td><td>Port Nicole</td><td>South Corey</td><td>2025-05-22</td><td>2025-07-12T22:12:32.944Z</td><td>45</td><td>2025-07-14T13:36:24.230Z</td><td>2025-07-14T13:36:24.230Z</td></tr><tr><td>F0067</td><td>Delta</td><td>Campbellborough</td><td>South Jason</td><td>2025-05-13</td><td>2025-07-12T22:12:32.944Z</td><td>46</td><td>2025-07-14T13:36:24.230Z</td><td>2025-07-14T13:36:24.230Z</td></tr><tr><td>F0068</td><td>Qatar Airways</td><td>Lake Seanport</td><td>Fieldsstad</td><td>2025-06-17</td><td>2025-07-12T22:12:32.944Z</td><td>47</td><td>2025-07-14T13:36:24.230Z</td><td>2025-07-14T13:36:24.230Z</td></tr><tr><td>F0075</td><td>Qatar Airways</td><td>New Danielhaven</td><td>Cunninghamfurt</td><td>2025-04-27</td><td>2025-07-12T22:12:32.944Z</td><td>48</td><td>2025-07-14T13:36:24.230Z</td><td>2025-07-14T13:36:24.230Z</td></tr><tr><td>F0084</td><td>Delta</td><td>Franklinmouth</td><td>Lake Joseph</td><td>2025-05-30</td><td>2025-07-12T22:12:32.944Z</td><td>49</td><td>2025-07-14T13:36:24.230Z</td><td>2025-07-14T13:36:24.230Z</td></tr><tr><td>F0046</td><td>Qatar Airways</td><td>West David</td><td>North Becky</td><td>2025-04-30</td><td>2025-07-12T22:12:32.944Z</td><td>50</td><td>2025-07-14T13:36:24.230Z</td><td>2025-07-14T13:36:24.230Z</td></tr><tr><td>F0077</td><td>Qatar Airways</td><td>Samuelfort</td><td>Port Ashley</td><td>2025-06-12</td><td>2025-07-12T22:12:32.944Z</td><td>51</td><td>2025-07-14T13:36:24.230Z</td><td>2025-07-14T13:36:24.230Z</td></tr><tr><td>F0021</td><td>Emirates</td><td>South Sara</td><td>North Annaport</td><td>2025-05-29</td><td>2025-07-12T22:12:32.944Z</td><td>52</td><td>2025-07-14T13:36:24.230Z</td><td>2025-07-14T13:36:24.230Z</td></tr><tr><td>F0030</td><td>Delta</td><td>Angelamouth</td><td>Sosaside</td><td>2025-06-16</td><td>2025-07-12T22:12:32.944Z</td><td>53</td><td>2025-07-14T13:36:24.230Z</td><td>2025-07-14T13:36:24.230Z</td></tr><tr><td>F0039</td><td>Air Canada</td><td>Paultown</td><td>Kellyton</td><td>2025-05-19</td><td>2025-07-12T22:12:32.944Z</td><td>54</td><td>2025-07-14T13:36:24.230Z</td><td>2025-07-14T13:36:24.230Z</td></tr><tr><td>F0047</td><td>Lufthansa</td><td>New Cory</td><td>Lorettashire</td><td>2025-05-05</td><td>2025-07-12T22:12:32.944Z</td><td>55</td><td>2025-07-14T13:36:24.230Z</td><td>2025-07-14T13:36:24.230Z</td></tr><tr><td>F0090</td><td>Delta</td><td>East Rachelport</td><td>Davisport</td><td>2025-05-23</td><td>2025-07-12T22:12:32.944Z</td><td>56</td><td>2025-07-14T13:36:24.230Z</td><td>2025-07-14T13:36:24.230Z</td></tr><tr><td>F0026</td><td>Air Canada</td><td>New Deborahfort</td><td>New Sabrina</td><td>2025-05-10</td><td>2025-07-12T22:12:32.944Z</td><td>57</td><td>2025-07-14T13:36:24.230Z</td><td>2025-07-14T13:36:24.230Z</td></tr><tr><td>F0059</td><td>Lufthansa</td><td>South Jeffrey</td><td>Jamesland</td><td>2025-05-10</td><td>2025-07-12T22:12:32.944Z</td><td>58</td><td>2025-07-14T13:36:24.230Z</td><td>2025-07-14T13:36:24.230Z</td></tr><tr><td>F0089</td><td>Qatar Airways</td><td>Robinsonberg</td><td>Adrianchester</td><td>2025-05-21</td><td>2025-07-12T22:12:32.944Z</td><td>59</td><td>2025-07-14T13:36:24.230Z</td><td>2025-07-14T13:36:24.230Z</td></tr><tr><td>F0092</td><td>Lufthansa</td><td>Austinborough</td><td>Bautistafort</td><td>2025-05-29</td><td>2025-07-12T22:12:32.944Z</td><td>60</td><td>2025-07-14T13:36:24.230Z</td><td>2025-07-14T13:36:24.230Z</td></tr><tr><td>F0001</td><td>Delta</td><td>Kellyfort</td><td>South Kathleen</td><td>2025-05-04</td><td>2025-07-12T22:12:32.944Z</td><td>61</td><td>2025-07-14T13:36:24.230Z</td><td>2025-07-14T13:36:24.230Z</td></tr><tr><td>F0018</td><td>Air Canada</td><td>Schultzborough</td><td>Danielton</td><td>2025-06-01</td><td>2025-07-12T22:12:32.944Z</td><td>62</td><td>2025-07-14T13:36:24.230Z</td><td>2025-07-14T13:36:24.230Z</td></tr><tr><td>F0042</td><td>Air Canada</td><td>Port William</td><td>Darrenmouth</td><td>2025-05-11</td><td>2025-07-12T22:12:32.944Z</td><td>63</td><td>2025-07-14T13:36:24.230Z</td><td>2025-07-14T13:36:24.230Z</td></tr><tr><td>F0049</td><td>Emirates</td><td>New Elizabethmouth</td><td>Lake Heathermouth</td><td>2025-05-06</td><td>2025-07-12T22:12:32.944Z</td><td>64</td><td>2025-07-14T13:36:24.230Z</td><td>2025-07-14T13:36:24.230Z</td></tr><tr><td>F0050</td><td>Air Canada</td><td>East Gailtown</td><td>Stevenville</td><td>2025-04-28</td><td>2025-07-12T22:12:32.944Z</td><td>65</td><td>2025-07-14T13:36:24.230Z</td><td>2025-07-14T13:36:24.230Z</td></tr><tr><td>F0051</td><td>Qatar Airways</td><td>Lisafurt</td><td>New Robert</td><td>2025-05-07</td><td>2025-07-12T22:12:32.944Z</td><td>66</td><td>2025-07-14T13:36:24.230Z</td><td>2025-07-14T13:36:24.230Z</td></tr><tr><td>F0060</td><td>Air Canada</td><td>Port Angelicaborough</td><td>East Daniel</td><td>2025-05-21</td><td>2025-07-12T22:12:32.944Z</td><td>67</td><td>2025-07-14T13:36:24.230Z</td><td>2025-07-14T13:36:24.230Z</td></tr><tr><td>F0062</td><td>Lufthansa</td><td>East Samanthafurt</td><td>Lake Troy</td><td>2025-05-12</td><td>2025-07-12T22:12:32.944Z</td><td>68</td><td>2025-07-14T13:36:24.230Z</td><td>2025-07-14T13:36:24.230Z</td></tr><tr><td>F0064</td><td>Delta</td><td>East Joshuastad</td><td>North Austinland</td><td>2025-05-25</td><td>2025-07-12T22:12:32.944Z</td><td>69</td><td>2025-07-14T13:36:24.230Z</td><td>2025-07-14T13:36:24.230Z</td></tr><tr><td>F0066</td><td>Qatar Airways</td><td>Stephenberg</td><td>Marcborough</td><td>2025-06-04</td><td>2025-07-12T22:12:32.944Z</td><td>70</td><td>2025-07-14T13:36:24.230Z</td><td>2025-07-14T13:36:24.230Z</td></tr><tr><td>F0070</td><td>Air Canada</td><td>Glennhaven</td><td>Port Darrenchester</td><td>2025-05-04</td><td>2025-07-12T22:12:32.944Z</td><td>71</td><td>2025-07-14T13:36:24.230Z</td><td>2025-07-14T13:36:24.230Z</td></tr><tr><td>F0100</td><td>Qatar Airways</td><td>Port Anthony</td><td>Thompsonfort</td><td>2025-05-31</td><td>2025-07-12T22:12:32.944Z</td><td>72</td><td>2025-07-14T13:36:24.230Z</td><td>2025-07-14T13:36:24.230Z</td></tr><tr><td>F0020</td><td>Lufthansa</td><td>North Jack</td><td>Loweville</td><td>2025-06-02</td><td>2025-07-12T22:12:32.944Z</td><td>73</td><td>2025-07-14T13:36:24.230Z</td><td>2025-07-14T13:36:24.230Z</td></tr><tr><td>F0048</td><td>Lufthansa</td><td>Cooperview</td><td>Michelleburgh</td><td>2025-05-24</td><td>2025-07-12T22:12:32.944Z</td><td>74</td><td>2025-07-14T13:36:24.230Z</td><td>2025-07-14T13:36:24.230Z</td></tr><tr><td>F0078</td><td>Qatar Airways</td><td>Howardbury</td><td>Burchburgh</td><td>2025-05-09</td><td>2025-07-12T22:12:32.944Z</td><td>75</td><td>2025-07-14T13:36:24.230Z</td><td>2025-07-14T13:36:24.230Z</td></tr><tr><td>F0082</td><td>Qatar Airways</td><td>North Erikamouth</td><td>Danielfort</td><td>2025-05-19</td><td>2025-07-12T22:12:32.944Z</td><td>76</td><td>2025-07-14T13:36:24.230Z</td><td>2025-07-14T13:36:24.230Z</td></tr><tr><td>F0099</td><td>Air Canada</td><td>Lake Connor</td><td>Matthewberg</td><td>2025-04-28</td><td>2025-07-12T22:12:32.944Z</td><td>77</td><td>2025-07-14T13:36:24.230Z</td><td>2025-07-14T13:36:24.230Z</td></tr><tr><td>F0034</td><td>Emirates</td><td>Johnsonville</td><td>Cooperland</td><td>2025-05-18</td><td>2025-07-12T22:12:32.944Z</td><td>78</td><td>2025-07-14T13:36:24.230Z</td><td>2025-07-14T13:36:24.230Z</td></tr><tr><td>F0063</td><td>Lufthansa</td><td>Floresshire</td><td>New Anita</td><td>2025-06-03</td><td>2025-07-12T22:12:32.944Z</td><td>79</td><td>2025-07-14T13:36:24.230Z</td><td>2025-07-14T13:36:24.230Z</td></tr><tr><td>F0076</td><td>Lufthansa</td><td>Johnsonchester</td><td>New Michael</td><td>2025-05-14</td><td>2025-07-12T22:12:32.944Z</td><td>80</td><td>2025-07-14T13:36:24.230Z</td><td>2025-07-14T13:36:24.230Z</td></tr><tr><td>F0079</td><td>Delta</td><td>Jonesburgh</td><td>Andradeville</td><td>2025-06-17</td><td>2025-07-12T22:12:32.944Z</td><td>81</td><td>2025-07-14T13:36:24.230Z</td><td>2025-07-14T13:36:24.230Z</td></tr><tr><td>F0080</td><td>Emirates</td><td>Sonyaberg</td><td>East Sarah</td><td>2025-06-13</td><td>2025-07-12T22:12:32.944Z</td><td>82</td><td>2025-07-14T13:36:24.230Z</td><td>2025-07-14T13:36:24.230Z</td></tr><tr><td>F0085</td><td>Lufthansa</td><td>Hillton</td><td>Castroborough</td><td>2025-05-19</td><td>2025-07-12T22:12:32.944Z</td><td>83</td><td>2025-07-14T13:36:24.230Z</td><td>2025-07-14T13:36:24.230Z</td></tr><tr><td>F0095</td><td>Qatar Airways</td><td>North Dawnberg</td><td>East Sarahmouth</td><td>2025-05-26</td><td>2025-07-12T22:12:32.944Z</td><td>84</td><td>2025-07-14T13:36:24.230Z</td><td>2025-07-14T13:36:24.230Z</td></tr><tr><td>F0002</td><td>Qatar Airways</td><td>Lake Stephen</td><td>New Vincent</td><td>2025-04-29</td><td>2025-07-12T22:12:32.944Z</td><td>85</td><td>2025-07-14T13:36:24.230Z</td><td>2025-07-14T13:36:24.230Z</td></tr><tr><td>F0027</td><td>Delta</td><td>Acevedoville</td><td>Ericchester</td><td>2025-05-14</td><td>2025-07-12T22:12:32.944Z</td><td>86</td><td>2025-07-14T13:36:24.230Z</td><td>2025-07-14T13:36:24.230Z</td></tr><tr><td>F0028</td><td>Delta</td><td>South Michaelberg</td><td>South Markbury</td><td>2025-05-30</td><td>2025-07-12T22:12:32.944Z</td><td>87</td><td>2025-07-14T13:36:24.230Z</td><td>2025-07-14T13:36:24.230Z</td></tr><tr><td>F0056</td><td>Lufthansa</td><td>South Natalie</td><td>Schaefertown</td><td>2025-05-03</td><td>2025-07-12T22:12:32.944Z</td><td>88</td><td>2025-07-14T13:36:24.230Z</td><td>2025-07-14T13:36:24.230Z</td></tr><tr><td>F0086</td><td>Delta</td><td>Port Chelsea</td><td>Robertchester</td><td>2025-05-08</td><td>2025-07-12T22:12:32.944Z</td><td>89</td><td>2025-07-14T13:36:24.230Z</td><td>2025-07-14T13:36:24.230Z</td></tr><tr><td>F0098</td><td>Air Canada</td><td>Wallerburgh</td><td>Lake Karen</td><td>2025-05-01</td><td>2025-07-12T22:12:32.944Z</td><td>90</td><td>2025-07-14T13:36:24.230Z</td><td>2025-07-14T13:36:24.230Z</td></tr><tr><td>F0008</td><td>Lufthansa</td><td>Briannachester</td><td>Cervantesland</td><td>2025-05-26</td><td>2025-07-12T22:12:32.944Z</td><td>91</td><td>2025-07-14T13:36:24.230Z</td><td>2025-07-14T13:36:24.230Z</td></tr><tr><td>F0009</td><td>Delta</td><td>Alexandraborough</td><td>North Alexishaven</td><td>2025-06-10</td><td>2025-07-12T22:12:32.944Z</td><td>92</td><td>2025-07-14T13:36:24.230Z</td><td>2025-07-14T13:36:24.230Z</td></tr><tr><td>F0011</td><td>Lufthansa</td><td>Port Joannahaven</td><td>North Jasonton</td><td>2025-05-30</td><td>2025-07-12T22:12:32.944Z</td><td>93</td><td>2025-07-14T13:36:24.230Z</td><td>2025-07-14T13:36:24.230Z</td></tr><tr><td>F0025</td><td>Qatar Airways</td><td>Chelseaberg</td><td>North Michaelshire</td><td>2025-06-01</td><td>2025-07-12T22:12:32.944Z</td><td>94</td><td>2025-07-14T13:36:24.230Z</td><td>2025-07-14T13:36:24.230Z</td></tr><tr><td>F0041</td><td>Air Canada</td><td>Lake Stanleyside</td><td>Port Scott</td><td>2025-06-14</td><td>2025-07-12T22:12:32.944Z</td><td>95</td><td>2025-07-14T13:36:24.230Z</td><td>2025-07-14T13:36:24.230Z</td></tr><tr><td>F0054</td><td>Air Canada</td><td>Seanmouth</td><td>North Kathyton</td><td>2025-05-09</td><td>2025-07-12T22:12:32.944Z</td><td>96</td><td>2025-07-14T13:36:24.230Z</td><td>2025-07-14T13:36:24.230Z</td></tr><tr><td>F0065</td><td>Emirates</td><td>East Paulland</td><td>Barnesberg</td><td>2025-04-29</td><td>2025-07-12T22:12:32.944Z</td><td>97</td><td>2025-07-14T13:36:24.230Z</td><td>2025-07-14T13:36:24.230Z</td></tr><tr><td>F0072</td><td>Emirates</td><td>Heiditown</td><td>Port Sabrinaburgh</td><td>2025-05-22</td><td>2025-07-12T22:12:32.944Z</td><td>98</td><td>2025-07-14T13:36:24.230Z</td><td>2025-07-14T13:36:24.230Z</td></tr><tr><td>F0074</td><td>Air Canada</td><td>Duffyville</td><td>Port Vanessa</td><td>2025-05-28</td><td>2025-07-12T22:12:32.944Z</td><td>99</td><td>2025-07-14T13:36:24.230Z</td><td>2025-07-14T13:36:24.230Z</td></tr><tr><td>F0088</td><td>Qatar Airways</td><td>North Miguel</td><td>Lake Allisonfurt</td><td>2025-05-28</td><td>2025-07-12T22:12:32.944Z</td><td>100</td><td>2025-07-14T13:36:24.230Z</td><td>2025-07-14T13:36:24.230Z</td></tr><tr><td>F0107</td><td>Air Canada</td><td>Mitchelltown</td><td>Johnsonbury</td><td>2025-07-01</td><td>2025-07-12T22:12:32.944Z</td><td>101</td><td>2025-07-14T13:36:24.230Z</td><td>2025-07-14T13:36:24.230Z</td></tr><tr><td>F0103</td><td>Qatar Airways</td><td>Jameschester</td><td>Ashleyberg</td><td>2025-07-15</td><td>2025-07-12T22:12:32.944Z</td><td>102</td><td>2025-07-14T13:36:24.230Z</td><td>2025-07-14T13:36:24.230Z</td></tr><tr><td>F0102</td><td>Delta</td><td>Schroederbury</td><td>Sethfort</td><td>2025-06-25</td><td>2025-07-12T22:12:32.944Z</td><td>103</td><td>2025-07-14T13:36:24.230Z</td><td>2025-07-14T13:36:24.230Z</td></tr><tr><td>F0109</td><td>Air Canada</td><td>Williamsland</td><td>South Carolberg</td><td>2025-06-14</td><td>2025-07-12T22:12:32.944Z</td><td>104</td><td>2025-07-14T13:36:24.230Z</td><td>2025-07-14T13:36:24.230Z</td></tr><tr><td>F0108</td><td>Lufthansa</td><td>New Jennifer</td><td>Lake Tracie</td><td>2025-06-28</td><td>2025-07-12T22:12:32.944Z</td><td>105</td><td>2025-07-14T13:36:24.230Z</td><td>2025-07-14T13:36:24.230Z</td></tr><tr><td>F0101</td><td>Qatar Airways</td><td>Lake Joshuamouth</td><td>Johnshire</td><td>2025-07-14</td><td>2025-07-12T22:12:32.944Z</td><td>106</td><td>2025-07-14T13:36:24.230Z</td><td>2025-07-14T13:36:24.230Z</td></tr><tr><td>F0104</td><td>Qatar Airways</td><td>Huangstad</td><td>Catherinehaven</td><td>2025-06-29</td><td>2025-07-12T22:12:32.944Z</td><td>107</td><td>2025-07-14T13:36:24.230Z</td><td>2025-07-14T13:36:24.230Z</td></tr><tr><td>F0105</td><td>Air Canada</td><td>Aprilton</td><td>Victorville</td><td>2025-07-05</td><td>2025-07-12T22:12:32.944Z</td><td>108</td><td>2025-07-14T13:36:24.230Z</td><td>2025-07-14T13:36:24.230Z</td></tr><tr><td>F0106</td><td>Lufthansa</td><td>East Austinmouth</td><td>New Toddburgh</td><td>2025-06-22</td><td>2025-07-12T22:12:32.944Z</td><td>109</td><td>2025-07-14T13:36:24.230Z</td><td>2025-07-14T13:36:24.230Z</td></tr><tr><td>F0110</td><td>Emirates</td><td>Churchport</td><td>Wrightton</td><td>2025-07-15</td><td>2025-07-12T22:12:32.944Z</td><td>110</td><td>2025-07-14T13:36:24.230Z</td><td>2025-07-14T13:36:24.230Z</td></tr></tbody></table></div>"
      ]
     },
     "metadata": {
      "application/vnd.databricks.v1+output": {
       "addedWidgets": {},
       "aggData": [],
       "aggError": "",
       "aggOverflow": false,
       "aggSchema": [],
       "aggSeriesLimitReached": false,
       "aggType": "",
       "arguments": {},
       "columnCustomDisplayInfos": {},
       "data": [
        [
         "F0013",
         "Air Canada",
         "East Brian",
         "Wayneton",
         "2025-05-21",
         "2025-07-12T22:12:32.944Z",
         1,
         "2025-07-14T13:36:24.230Z",
         "2025-07-14T13:36:24.230Z"
        ],
        [
         "F0014",
         "Air Canada",
         "Toddland",
         "Gonzalezport",
         "2025-05-28",
         "2025-07-12T22:12:32.944Z",
         2,
         "2025-07-14T13:36:24.230Z",
         "2025-07-14T13:36:24.230Z"
        ],
        [
         "F0033",
         "Air Canada",
         "Sandersshire",
         "Lake Joseside",
         "2025-06-21",
         "2025-07-12T22:12:32.944Z",
         3,
         "2025-07-14T13:36:24.230Z",
         "2025-07-14T13:36:24.230Z"
        ],
        [
         "F0052",
         "Qatar Airways",
         "Lake Richard",
         "Brookston",
         "2025-05-28",
         "2025-07-12T22:12:32.944Z",
         4,
         "2025-07-14T13:36:24.230Z",
         "2025-07-14T13:36:24.230Z"
        ],
        [
         "F0069",
         "Qatar Airways",
         "Johnsonburgh",
         "Woodmouth",
         "2025-06-14",
         "2025-07-12T22:12:32.944Z",
         5,
         "2025-07-14T13:36:24.230Z",
         "2025-07-14T13:36:24.230Z"
        ],
        [
         "F0083",
         "Lufthansa",
         "Jasonborough",
         "Port Audreyville",
         "2025-05-30",
         "2025-07-12T22:12:32.944Z",
         6,
         "2025-07-14T13:36:24.230Z",
         "2025-07-14T13:36:24.230Z"
        ],
        [
         "F0005",
         "Qatar Airways",
         "Bennettside",
         "New Mistyhaven",
         "2025-06-13",
         "2025-07-12T22:12:32.944Z",
         7,
         "2025-07-14T13:36:24.230Z",
         "2025-07-14T13:36:24.230Z"
        ],
        [
         "F0007",
         "Delta",
         "Berryport",
         "Miguelburgh",
         "2025-05-24",
         "2025-07-12T22:12:32.944Z",
         8,
         "2025-07-14T13:36:24.230Z",
         "2025-07-14T13:36:24.230Z"
        ],
        [
         "F0015",
         "Delta",
         "West Ginaton",
         "Youngmouth",
         "2025-05-21",
         "2025-07-12T22:12:32.944Z",
         9,
         "2025-07-14T13:36:24.230Z",
         "2025-07-14T13:36:24.230Z"
        ],
        [
         "F0017",
         "Delta",
         "Wallermouth",
         "New Rogerberg",
         "2025-05-04",
         "2025-07-12T22:12:32.944Z",
         10,
         "2025-07-14T13:36:24.230Z",
         "2025-07-14T13:36:24.230Z"
        ],
        [
         "F0035",
         "Lufthansa",
         "Karenshire",
         "North Anthonymouth",
         "2025-05-21",
         "2025-07-12T22:12:32.944Z",
         11,
         "2025-07-14T13:36:24.230Z",
         "2025-07-14T13:36:24.230Z"
        ],
        [
         "F0058",
         "Delta",
         "North Brittanyborough",
         "West Kellystad",
         "2025-06-10",
         "2025-07-12T22:12:32.944Z",
         12,
         "2025-07-14T13:36:24.230Z",
         "2025-07-14T13:36:24.230Z"
        ],
        [
         "F0003",
         "Lufthansa",
         "East Patrickborough",
         "North Mary",
         "2025-05-11",
         "2025-07-12T22:12:32.944Z",
         13,
         "2025-07-14T13:36:24.230Z",
         "2025-07-14T13:36:24.230Z"
        ],
        [
         "F0022",
         "Air Canada",
         "Reedchester",
         "Cruzton",
         "2025-04-27",
         "2025-07-12T22:12:32.944Z",
         14,
         "2025-07-14T13:36:24.230Z",
         "2025-07-14T13:36:24.230Z"
        ],
        [
         "F0044",
         "Qatar Airways",
         "East Kaylaburgh",
         "Lake Carolynchester",
         "2025-06-01",
         "2025-07-12T22:12:32.944Z",
         15,
         "2025-07-14T13:36:24.230Z",
         "2025-07-14T13:36:24.230Z"
        ],
        [
         "F0045",
         "Emirates",
         "North Michaelville",
         "Russellton",
         "2025-05-04",
         "2025-07-12T22:12:32.944Z",
         16,
         "2025-07-14T13:36:24.230Z",
         "2025-07-14T13:36:24.230Z"
        ],
        [
         "F0081",
         "Air Canada",
         "North Barry",
         "Josephborough",
         "2025-04-24",
         "2025-07-12T22:12:32.944Z",
         17,
         "2025-07-14T13:36:24.230Z",
         "2025-07-14T13:36:24.230Z"
        ],
        [
         "F0087",
         "Emirates",
         "Kellyland",
         "New Jonathanmouth",
         "2025-04-23",
         "2025-07-12T22:12:32.944Z",
         18,
         "2025-07-14T13:36:24.230Z",
         "2025-07-14T13:36:24.230Z"
        ],
        [
         "F0004",
         "Delta",
         "Maddenshire",
         "Johnchester",
         "2025-05-16",
         "2025-07-12T22:12:32.944Z",
         19,
         "2025-07-14T13:36:24.230Z",
         "2025-07-14T13:36:24.230Z"
        ],
        [
         "F0006",
         "Air Canada",
         "New Richardside",
         "South Jamesborough",
         "2025-05-16",
         "2025-07-12T22:12:32.944Z",
         20,
         "2025-07-14T13:36:24.230Z",
         "2025-07-14T13:36:24.230Z"
        ],
        [
         "F0019",
         "Lufthansa",
         "Lake Scott",
         "Christineborough",
         "2025-05-18",
         "2025-07-12T22:12:32.944Z",
         21,
         "2025-07-14T13:36:24.230Z",
         "2025-07-14T13:36:24.230Z"
        ],
        [
         "F0029",
         "Qatar Airways",
         "Shortberg",
         "Julieburgh",
         "2025-05-11",
         "2025-07-12T22:12:32.944Z",
         22,
         "2025-07-14T13:36:24.230Z",
         "2025-07-14T13:36:24.230Z"
        ],
        [
         "F0031",
         "Emirates",
         "Billview",
         "Jonathonborough",
         "2025-06-14",
         "2025-07-12T22:12:32.944Z",
         23,
         "2025-07-14T13:36:24.230Z",
         "2025-07-14T13:36:24.230Z"
        ],
        [
         "F0036",
         "Lufthansa",
         "Armstrongbury",
         "North Natashamouth",
         "2025-05-05",
         "2025-07-12T22:12:32.944Z",
         24,
         "2025-07-14T13:36:24.230Z",
         "2025-07-14T13:36:24.230Z"
        ],
        [
         "F0043",
         "Lufthansa",
         "Kimberlyborough",
         "New Annfort",
         "2025-05-15",
         "2025-07-12T22:12:32.944Z",
         25,
         "2025-07-14T13:36:24.230Z",
         "2025-07-14T13:36:24.230Z"
        ],
        [
         "F0055",
         "Air Canada",
         "Spencerborough",
         "Randyville",
         "2025-06-09",
         "2025-07-12T22:12:32.944Z",
         26,
         "2025-07-14T13:36:24.230Z",
         "2025-07-14T13:36:24.230Z"
        ],
        [
         "F0061",
         "Lufthansa",
         "Dawnshire",
         "Stevenmouth",
         "2025-04-24",
         "2025-07-12T22:12:32.944Z",
         27,
         "2025-07-14T13:36:24.230Z",
         "2025-07-14T13:36:24.230Z"
        ],
        [
         "F0091",
         "Lufthansa",
         "Lake Scott",
         "Williamshire",
         "2025-06-04",
         "2025-07-12T22:12:32.944Z",
         28,
         "2025-07-14T13:36:24.230Z",
         "2025-07-14T13:36:24.230Z"
        ],
        [
         "F0093",
         "Air Canada",
         "Frenchside",
         "West Christopher",
         "2025-05-28",
         "2025-07-12T22:12:32.944Z",
         29,
         "2025-07-14T13:36:24.230Z",
         "2025-07-14T13:36:24.230Z"
        ],
        [
         "F0016",
         "Qatar Airways",
         "Smithborough",
         "Randallview",
         "2025-05-02",
         "2025-07-12T22:12:32.944Z",
         30,
         "2025-07-14T13:36:24.230Z",
         "2025-07-14T13:36:24.230Z"
        ],
        [
         "F0040",
         "Delta",
         "Ianport",
         "Lake Reginaldside",
         "2025-04-23",
         "2025-07-12T22:12:32.944Z",
         31,
         "2025-07-14T13:36:24.230Z",
         "2025-07-14T13:36:24.230Z"
        ],
        [
         "F0071",
         "Delta",
         "Jefferyberg",
         "Wendyshire",
         "2025-06-17",
         "2025-07-12T22:12:32.944Z",
         32,
         "2025-07-14T13:36:24.230Z",
         "2025-07-14T13:36:24.230Z"
        ],
        [
         "F0096",
         "Lufthansa",
         "Coreyfort",
         "West Joseph",
         "2025-06-06",
         "2025-07-12T22:12:32.944Z",
         33,
         "2025-07-14T13:36:24.230Z",
         "2025-07-14T13:36:24.230Z"
        ],
        [
         "F0010",
         "Emirates",
         "Kruegerchester",
         "Martintown",
         "2025-05-20",
         "2025-07-12T22:12:32.944Z",
         34,
         "2025-07-14T13:36:24.230Z",
         "2025-07-14T13:36:24.230Z"
        ],
        [
         "F0037",
         "Air Canada",
         "Yangville",
         "Jacksonview",
         "2025-04-29",
         "2025-07-12T22:12:32.944Z",
         35,
         "2025-07-14T13:36:24.230Z",
         "2025-07-14T13:36:24.230Z"
        ],
        [
         "F0073",
         "Lufthansa",
         "South Jasonville",
         "Clarkeshire",
         "2025-06-09",
         "2025-07-12T22:12:32.944Z",
         36,
         "2025-07-14T13:36:24.230Z",
         "2025-07-14T13:36:24.230Z"
        ],
        [
         "F0097",
         "Emirates",
         "Billyport",
         "Brentton",
         "2025-05-18",
         "2025-07-12T22:12:32.944Z",
         37,
         "2025-07-14T13:36:24.230Z",
         "2025-07-14T13:36:24.230Z"
        ],
        [
         "F0023",
         "Lufthansa",
         "Port Jeremyfurt",
         "Lake Walterside",
         "2025-05-11",
         "2025-07-12T22:12:32.944Z",
         38,
         "2025-07-14T13:36:24.230Z",
         "2025-07-14T13:36:24.230Z"
        ],
        [
         "F0024",
         "Lufthansa",
         "Leestad",
         "Port Debra",
         "2025-05-09",
         "2025-07-12T22:12:32.944Z",
         39,
         "2025-07-14T13:36:24.230Z",
         "2025-07-14T13:36:24.230Z"
        ],
        [
         "F0032",
         "Emirates",
         "Bushhaven",
         "Patriciamouth",
         "2025-05-22",
         "2025-07-12T22:12:32.944Z",
         40,
         "2025-07-14T13:36:24.230Z",
         "2025-07-14T13:36:24.230Z"
        ],
        [
         "F0053",
         "Qatar Airways",
         "West Dylanbury",
         "North Wendy",
         "2025-05-24",
         "2025-07-12T22:12:32.944Z",
         41,
         "2025-07-14T13:36:24.230Z",
         "2025-07-14T13:36:24.230Z"
        ],
        [
         "F0057",
         "Air Canada",
         "Samanthashire",
         "Fisherstad",
         "2025-06-09",
         "2025-07-12T22:12:32.944Z",
         42,
         "2025-07-14T13:36:24.230Z",
         "2025-07-14T13:36:24.230Z"
        ],
        [
         "F0094",
         "Emirates",
         "South Amyfurt",
         "Jimenezview",
         "2025-06-14",
         "2025-07-12T22:12:32.944Z",
         43,
         "2025-07-14T13:36:24.230Z",
         "2025-07-14T13:36:24.230Z"
        ],
        [
         "F0012",
         "Air Canada",
         "New Hunter",
         "East Maria",
         "2025-04-23",
         "2025-07-12T22:12:32.944Z",
         44,
         "2025-07-14T13:36:24.230Z",
         "2025-07-14T13:36:24.230Z"
        ],
        [
         "F0038",
         "Delta",
         "Port Nicole",
         "South Corey",
         "2025-05-22",
         "2025-07-12T22:12:32.944Z",
         45,
         "2025-07-14T13:36:24.230Z",
         "2025-07-14T13:36:24.230Z"
        ],
        [
         "F0067",
         "Delta",
         "Campbellborough",
         "South Jason",
         "2025-05-13",
         "2025-07-12T22:12:32.944Z",
         46,
         "2025-07-14T13:36:24.230Z",
         "2025-07-14T13:36:24.230Z"
        ],
        [
         "F0068",
         "Qatar Airways",
         "Lake Seanport",
         "Fieldsstad",
         "2025-06-17",
         "2025-07-12T22:12:32.944Z",
         47,
         "2025-07-14T13:36:24.230Z",
         "2025-07-14T13:36:24.230Z"
        ],
        [
         "F0075",
         "Qatar Airways",
         "New Danielhaven",
         "Cunninghamfurt",
         "2025-04-27",
         "2025-07-12T22:12:32.944Z",
         48,
         "2025-07-14T13:36:24.230Z",
         "2025-07-14T13:36:24.230Z"
        ],
        [
         "F0084",
         "Delta",
         "Franklinmouth",
         "Lake Joseph",
         "2025-05-30",
         "2025-07-12T22:12:32.944Z",
         49,
         "2025-07-14T13:36:24.230Z",
         "2025-07-14T13:36:24.230Z"
        ],
        [
         "F0046",
         "Qatar Airways",
         "West David",
         "North Becky",
         "2025-04-30",
         "2025-07-12T22:12:32.944Z",
         50,
         "2025-07-14T13:36:24.230Z",
         "2025-07-14T13:36:24.230Z"
        ],
        [
         "F0077",
         "Qatar Airways",
         "Samuelfort",
         "Port Ashley",
         "2025-06-12",
         "2025-07-12T22:12:32.944Z",
         51,
         "2025-07-14T13:36:24.230Z",
         "2025-07-14T13:36:24.230Z"
        ],
        [
         "F0021",
         "Emirates",
         "South Sara",
         "North Annaport",
         "2025-05-29",
         "2025-07-12T22:12:32.944Z",
         52,
         "2025-07-14T13:36:24.230Z",
         "2025-07-14T13:36:24.230Z"
        ],
        [
         "F0030",
         "Delta",
         "Angelamouth",
         "Sosaside",
         "2025-06-16",
         "2025-07-12T22:12:32.944Z",
         53,
         "2025-07-14T13:36:24.230Z",
         "2025-07-14T13:36:24.230Z"
        ],
        [
         "F0039",
         "Air Canada",
         "Paultown",
         "Kellyton",
         "2025-05-19",
         "2025-07-12T22:12:32.944Z",
         54,
         "2025-07-14T13:36:24.230Z",
         "2025-07-14T13:36:24.230Z"
        ],
        [
         "F0047",
         "Lufthansa",
         "New Cory",
         "Lorettashire",
         "2025-05-05",
         "2025-07-12T22:12:32.944Z",
         55,
         "2025-07-14T13:36:24.230Z",
         "2025-07-14T13:36:24.230Z"
        ],
        [
         "F0090",
         "Delta",
         "East Rachelport",
         "Davisport",
         "2025-05-23",
         "2025-07-12T22:12:32.944Z",
         56,
         "2025-07-14T13:36:24.230Z",
         "2025-07-14T13:36:24.230Z"
        ],
        [
         "F0026",
         "Air Canada",
         "New Deborahfort",
         "New Sabrina",
         "2025-05-10",
         "2025-07-12T22:12:32.944Z",
         57,
         "2025-07-14T13:36:24.230Z",
         "2025-07-14T13:36:24.230Z"
        ],
        [
         "F0059",
         "Lufthansa",
         "South Jeffrey",
         "Jamesland",
         "2025-05-10",
         "2025-07-12T22:12:32.944Z",
         58,
         "2025-07-14T13:36:24.230Z",
         "2025-07-14T13:36:24.230Z"
        ],
        [
         "F0089",
         "Qatar Airways",
         "Robinsonberg",
         "Adrianchester",
         "2025-05-21",
         "2025-07-12T22:12:32.944Z",
         59,
         "2025-07-14T13:36:24.230Z",
         "2025-07-14T13:36:24.230Z"
        ],
        [
         "F0092",
         "Lufthansa",
         "Austinborough",
         "Bautistafort",
         "2025-05-29",
         "2025-07-12T22:12:32.944Z",
         60,
         "2025-07-14T13:36:24.230Z",
         "2025-07-14T13:36:24.230Z"
        ],
        [
         "F0001",
         "Delta",
         "Kellyfort",
         "South Kathleen",
         "2025-05-04",
         "2025-07-12T22:12:32.944Z",
         61,
         "2025-07-14T13:36:24.230Z",
         "2025-07-14T13:36:24.230Z"
        ],
        [
         "F0018",
         "Air Canada",
         "Schultzborough",
         "Danielton",
         "2025-06-01",
         "2025-07-12T22:12:32.944Z",
         62,
         "2025-07-14T13:36:24.230Z",
         "2025-07-14T13:36:24.230Z"
        ],
        [
         "F0042",
         "Air Canada",
         "Port William",
         "Darrenmouth",
         "2025-05-11",
         "2025-07-12T22:12:32.944Z",
         63,
         "2025-07-14T13:36:24.230Z",
         "2025-07-14T13:36:24.230Z"
        ],
        [
         "F0049",
         "Emirates",
         "New Elizabethmouth",
         "Lake Heathermouth",
         "2025-05-06",
         "2025-07-12T22:12:32.944Z",
         64,
         "2025-07-14T13:36:24.230Z",
         "2025-07-14T13:36:24.230Z"
        ],
        [
         "F0050",
         "Air Canada",
         "East Gailtown",
         "Stevenville",
         "2025-04-28",
         "2025-07-12T22:12:32.944Z",
         65,
         "2025-07-14T13:36:24.230Z",
         "2025-07-14T13:36:24.230Z"
        ],
        [
         "F0051",
         "Qatar Airways",
         "Lisafurt",
         "New Robert",
         "2025-05-07",
         "2025-07-12T22:12:32.944Z",
         66,
         "2025-07-14T13:36:24.230Z",
         "2025-07-14T13:36:24.230Z"
        ],
        [
         "F0060",
         "Air Canada",
         "Port Angelicaborough",
         "East Daniel",
         "2025-05-21",
         "2025-07-12T22:12:32.944Z",
         67,
         "2025-07-14T13:36:24.230Z",
         "2025-07-14T13:36:24.230Z"
        ],
        [
         "F0062",
         "Lufthansa",
         "East Samanthafurt",
         "Lake Troy",
         "2025-05-12",
         "2025-07-12T22:12:32.944Z",
         68,
         "2025-07-14T13:36:24.230Z",
         "2025-07-14T13:36:24.230Z"
        ],
        [
         "F0064",
         "Delta",
         "East Joshuastad",
         "North Austinland",
         "2025-05-25",
         "2025-07-12T22:12:32.944Z",
         69,
         "2025-07-14T13:36:24.230Z",
         "2025-07-14T13:36:24.230Z"
        ],
        [
         "F0066",
         "Qatar Airways",
         "Stephenberg",
         "Marcborough",
         "2025-06-04",
         "2025-07-12T22:12:32.944Z",
         70,
         "2025-07-14T13:36:24.230Z",
         "2025-07-14T13:36:24.230Z"
        ],
        [
         "F0070",
         "Air Canada",
         "Glennhaven",
         "Port Darrenchester",
         "2025-05-04",
         "2025-07-12T22:12:32.944Z",
         71,
         "2025-07-14T13:36:24.230Z",
         "2025-07-14T13:36:24.230Z"
        ],
        [
         "F0100",
         "Qatar Airways",
         "Port Anthony",
         "Thompsonfort",
         "2025-05-31",
         "2025-07-12T22:12:32.944Z",
         72,
         "2025-07-14T13:36:24.230Z",
         "2025-07-14T13:36:24.230Z"
        ],
        [
         "F0020",
         "Lufthansa",
         "North Jack",
         "Loweville",
         "2025-06-02",
         "2025-07-12T22:12:32.944Z",
         73,
         "2025-07-14T13:36:24.230Z",
         "2025-07-14T13:36:24.230Z"
        ],
        [
         "F0048",
         "Lufthansa",
         "Cooperview",
         "Michelleburgh",
         "2025-05-24",
         "2025-07-12T22:12:32.944Z",
         74,
         "2025-07-14T13:36:24.230Z",
         "2025-07-14T13:36:24.230Z"
        ],
        [
         "F0078",
         "Qatar Airways",
         "Howardbury",
         "Burchburgh",
         "2025-05-09",
         "2025-07-12T22:12:32.944Z",
         75,
         "2025-07-14T13:36:24.230Z",
         "2025-07-14T13:36:24.230Z"
        ],
        [
         "F0082",
         "Qatar Airways",
         "North Erikamouth",
         "Danielfort",
         "2025-05-19",
         "2025-07-12T22:12:32.944Z",
         76,
         "2025-07-14T13:36:24.230Z",
         "2025-07-14T13:36:24.230Z"
        ],
        [
         "F0099",
         "Air Canada",
         "Lake Connor",
         "Matthewberg",
         "2025-04-28",
         "2025-07-12T22:12:32.944Z",
         77,
         "2025-07-14T13:36:24.230Z",
         "2025-07-14T13:36:24.230Z"
        ],
        [
         "F0034",
         "Emirates",
         "Johnsonville",
         "Cooperland",
         "2025-05-18",
         "2025-07-12T22:12:32.944Z",
         78,
         "2025-07-14T13:36:24.230Z",
         "2025-07-14T13:36:24.230Z"
        ],
        [
         "F0063",
         "Lufthansa",
         "Floresshire",
         "New Anita",
         "2025-06-03",
         "2025-07-12T22:12:32.944Z",
         79,
         "2025-07-14T13:36:24.230Z",
         "2025-07-14T13:36:24.230Z"
        ],
        [
         "F0076",
         "Lufthansa",
         "Johnsonchester",
         "New Michael",
         "2025-05-14",
         "2025-07-12T22:12:32.944Z",
         80,
         "2025-07-14T13:36:24.230Z",
         "2025-07-14T13:36:24.230Z"
        ],
        [
         "F0079",
         "Delta",
         "Jonesburgh",
         "Andradeville",
         "2025-06-17",
         "2025-07-12T22:12:32.944Z",
         81,
         "2025-07-14T13:36:24.230Z",
         "2025-07-14T13:36:24.230Z"
        ],
        [
         "F0080",
         "Emirates",
         "Sonyaberg",
         "East Sarah",
         "2025-06-13",
         "2025-07-12T22:12:32.944Z",
         82,
         "2025-07-14T13:36:24.230Z",
         "2025-07-14T13:36:24.230Z"
        ],
        [
         "F0085",
         "Lufthansa",
         "Hillton",
         "Castroborough",
         "2025-05-19",
         "2025-07-12T22:12:32.944Z",
         83,
         "2025-07-14T13:36:24.230Z",
         "2025-07-14T13:36:24.230Z"
        ],
        [
         "F0095",
         "Qatar Airways",
         "North Dawnberg",
         "East Sarahmouth",
         "2025-05-26",
         "2025-07-12T22:12:32.944Z",
         84,
         "2025-07-14T13:36:24.230Z",
         "2025-07-14T13:36:24.230Z"
        ],
        [
         "F0002",
         "Qatar Airways",
         "Lake Stephen",
         "New Vincent",
         "2025-04-29",
         "2025-07-12T22:12:32.944Z",
         85,
         "2025-07-14T13:36:24.230Z",
         "2025-07-14T13:36:24.230Z"
        ],
        [
         "F0027",
         "Delta",
         "Acevedoville",
         "Ericchester",
         "2025-05-14",
         "2025-07-12T22:12:32.944Z",
         86,
         "2025-07-14T13:36:24.230Z",
         "2025-07-14T13:36:24.230Z"
        ],
        [
         "F0028",
         "Delta",
         "South Michaelberg",
         "South Markbury",
         "2025-05-30",
         "2025-07-12T22:12:32.944Z",
         87,
         "2025-07-14T13:36:24.230Z",
         "2025-07-14T13:36:24.230Z"
        ],
        [
         "F0056",
         "Lufthansa",
         "South Natalie",
         "Schaefertown",
         "2025-05-03",
         "2025-07-12T22:12:32.944Z",
         88,
         "2025-07-14T13:36:24.230Z",
         "2025-07-14T13:36:24.230Z"
        ],
        [
         "F0086",
         "Delta",
         "Port Chelsea",
         "Robertchester",
         "2025-05-08",
         "2025-07-12T22:12:32.944Z",
         89,
         "2025-07-14T13:36:24.230Z",
         "2025-07-14T13:36:24.230Z"
        ],
        [
         "F0098",
         "Air Canada",
         "Wallerburgh",
         "Lake Karen",
         "2025-05-01",
         "2025-07-12T22:12:32.944Z",
         90,
         "2025-07-14T13:36:24.230Z",
         "2025-07-14T13:36:24.230Z"
        ],
        [
         "F0008",
         "Lufthansa",
         "Briannachester",
         "Cervantesland",
         "2025-05-26",
         "2025-07-12T22:12:32.944Z",
         91,
         "2025-07-14T13:36:24.230Z",
         "2025-07-14T13:36:24.230Z"
        ],
        [
         "F0009",
         "Delta",
         "Alexandraborough",
         "North Alexishaven",
         "2025-06-10",
         "2025-07-12T22:12:32.944Z",
         92,
         "2025-07-14T13:36:24.230Z",
         "2025-07-14T13:36:24.230Z"
        ],
        [
         "F0011",
         "Lufthansa",
         "Port Joannahaven",
         "North Jasonton",
         "2025-05-30",
         "2025-07-12T22:12:32.944Z",
         93,
         "2025-07-14T13:36:24.230Z",
         "2025-07-14T13:36:24.230Z"
        ],
        [
         "F0025",
         "Qatar Airways",
         "Chelseaberg",
         "North Michaelshire",
         "2025-06-01",
         "2025-07-12T22:12:32.944Z",
         94,
         "2025-07-14T13:36:24.230Z",
         "2025-07-14T13:36:24.230Z"
        ],
        [
         "F0041",
         "Air Canada",
         "Lake Stanleyside",
         "Port Scott",
         "2025-06-14",
         "2025-07-12T22:12:32.944Z",
         95,
         "2025-07-14T13:36:24.230Z",
         "2025-07-14T13:36:24.230Z"
        ],
        [
         "F0054",
         "Air Canada",
         "Seanmouth",
         "North Kathyton",
         "2025-05-09",
         "2025-07-12T22:12:32.944Z",
         96,
         "2025-07-14T13:36:24.230Z",
         "2025-07-14T13:36:24.230Z"
        ],
        [
         "F0065",
         "Emirates",
         "East Paulland",
         "Barnesberg",
         "2025-04-29",
         "2025-07-12T22:12:32.944Z",
         97,
         "2025-07-14T13:36:24.230Z",
         "2025-07-14T13:36:24.230Z"
        ],
        [
         "F0072",
         "Emirates",
         "Heiditown",
         "Port Sabrinaburgh",
         "2025-05-22",
         "2025-07-12T22:12:32.944Z",
         98,
         "2025-07-14T13:36:24.230Z",
         "2025-07-14T13:36:24.230Z"
        ],
        [
         "F0074",
         "Air Canada",
         "Duffyville",
         "Port Vanessa",
         "2025-05-28",
         "2025-07-12T22:12:32.944Z",
         99,
         "2025-07-14T13:36:24.230Z",
         "2025-07-14T13:36:24.230Z"
        ],
        [
         "F0088",
         "Qatar Airways",
         "North Miguel",
         "Lake Allisonfurt",
         "2025-05-28",
         "2025-07-12T22:12:32.944Z",
         100,
         "2025-07-14T13:36:24.230Z",
         "2025-07-14T13:36:24.230Z"
        ],
        [
         "F0107",
         "Air Canada",
         "Mitchelltown",
         "Johnsonbury",
         "2025-07-01",
         "2025-07-12T22:12:32.944Z",
         101,
         "2025-07-14T13:36:24.230Z",
         "2025-07-14T13:36:24.230Z"
        ],
        [
         "F0103",
         "Qatar Airways",
         "Jameschester",
         "Ashleyberg",
         "2025-07-15",
         "2025-07-12T22:12:32.944Z",
         102,
         "2025-07-14T13:36:24.230Z",
         "2025-07-14T13:36:24.230Z"
        ],
        [
         "F0102",
         "Delta",
         "Schroederbury",
         "Sethfort",
         "2025-06-25",
         "2025-07-12T22:12:32.944Z",
         103,
         "2025-07-14T13:36:24.230Z",
         "2025-07-14T13:36:24.230Z"
        ],
        [
         "F0109",
         "Air Canada",
         "Williamsland",
         "South Carolberg",
         "2025-06-14",
         "2025-07-12T22:12:32.944Z",
         104,
         "2025-07-14T13:36:24.230Z",
         "2025-07-14T13:36:24.230Z"
        ],
        [
         "F0108",
         "Lufthansa",
         "New Jennifer",
         "Lake Tracie",
         "2025-06-28",
         "2025-07-12T22:12:32.944Z",
         105,
         "2025-07-14T13:36:24.230Z",
         "2025-07-14T13:36:24.230Z"
        ],
        [
         "F0101",
         "Qatar Airways",
         "Lake Joshuamouth",
         "Johnshire",
         "2025-07-14",
         "2025-07-12T22:12:32.944Z",
         106,
         "2025-07-14T13:36:24.230Z",
         "2025-07-14T13:36:24.230Z"
        ],
        [
         "F0104",
         "Qatar Airways",
         "Huangstad",
         "Catherinehaven",
         "2025-06-29",
         "2025-07-12T22:12:32.944Z",
         107,
         "2025-07-14T13:36:24.230Z",
         "2025-07-14T13:36:24.230Z"
        ],
        [
         "F0105",
         "Air Canada",
         "Aprilton",
         "Victorville",
         "2025-07-05",
         "2025-07-12T22:12:32.944Z",
         108,
         "2025-07-14T13:36:24.230Z",
         "2025-07-14T13:36:24.230Z"
        ],
        [
         "F0106",
         "Lufthansa",
         "East Austinmouth",
         "New Toddburgh",
         "2025-06-22",
         "2025-07-12T22:12:32.944Z",
         109,
         "2025-07-14T13:36:24.230Z",
         "2025-07-14T13:36:24.230Z"
        ],
        [
         "F0110",
         "Emirates",
         "Churchport",
         "Wrightton",
         "2025-07-15",
         "2025-07-12T22:12:32.944Z",
         110,
         "2025-07-14T13:36:24.230Z",
         "2025-07-14T13:36:24.230Z"
        ]
       ],
       "datasetInfos": [],
       "dbfsResultPath": null,
       "isJsonSchema": true,
       "metadata": {},
       "overflow": false,
       "plotOptions": {
        "customPlotOptions": {},
        "displayType": "table",
        "pivotAggregation": null,
        "pivotColumns": null,
        "xColumns": null,
        "yColumns": null
       },
       "removedWidgets": [],
       "schema": [
        {
         "metadata": "{}",
         "name": "flight_id",
         "type": "\"string\""
        },
        {
         "metadata": "{}",
         "name": "airline",
         "type": "\"string\""
        },
        {
         "metadata": "{}",
         "name": "origin",
         "type": "\"string\""
        },
        {
         "metadata": "{}",
         "name": "destination",
         "type": "\"string\""
        },
        {
         "metadata": "{}",
         "name": "flight_date",
         "type": "\"date\""
        },
        {
         "metadata": "{}",
         "name": "modifiedDate",
         "type": "\"timestamp\""
        },
        {
         "metadata": "{}",
         "name": "DimflightKey",
         "type": "\"long\""
        },
        {
         "metadata": "{}",
         "name": "create_date",
         "type": "\"timestamp\""
        },
        {
         "metadata": "{}",
         "name": "update_date",
         "type": "\"timestamp\""
        }
       ],
       "type": "table"
      }
     },
     "output_type": "display_data"
    }
   ],
   "source": [
    "df_old_enr.display()\n",
    "\n",
    "df_union = df_old_enr.unionByName(df_new_enr)\n",
    "\n",
    "df_union.display()"
   ]
  },
  {
   "cell_type": "code",
   "execution_count": 0,
   "metadata": {
    "application/vnd.databricks.v1+cell": {
     "cellMetadata": {
      "byteLimit": 2048000,
      "rowLimit": 10000
     },
     "inputWidgets": {},
     "nuid": "163e143a-d75f-4d57-a52a-d76f5e3bc875",
     "showTitle": false,
     "tableResultSettingsMap": {},
     "title": ""
    }
   },
   "outputs": [],
   "source": [
    "from delta.tables import DeltaTable \n",
    "\n",
    "# COMMAND ----------\n",
    "\n",
    "if spark.catalog.tableExists(f\"{catalog}.{target_schema}.{target_object}\"):\n",
    "\n",
    "    dlt_obj = DeltaTable.forName(spark, f\"{catalog}.{target_schema}.{target_object}\")\n",
    "    dlt_obj.alias(\"trg\").merge(df_union.alias(\"src\"), f\"trg.{surrogate_key} = src.{surrogate_key}\")\\\n",
    "                        .whenMatchedUpdateAll(condition = f\"src.{cdc_col} >= trg.{cdc_col}\")\\\n",
    "                        .whenNotMatchedInsertAll()\\\n",
    "                        .execute()\n",
    "\n",
    "else: \n",
    "\n",
    "    df_union.write.format(\"delta\")\\\n",
    "            .mode(\"append\")\\\n",
    "            .saveAsTable(f\"{catalog}.{target_schema}.{target_object}\")"
   ]
  },
  {
   "cell_type": "code",
   "execution_count": 0,
   "metadata": {
    "application/vnd.databricks.v1+cell": {
     "cellMetadata": {
      "byteLimit": 2048000,
      "rowLimit": 10000
     },
     "inputWidgets": {},
     "nuid": "58b44eab-6932-4e75-8c72-91e7a37d7120",
     "showTitle": false,
     "tableResultSettingsMap": {},
     "title": ""
    }
   },
   "outputs": [],
   "source": []
  }
 ],
 "metadata": {
  "application/vnd.databricks.v1+notebook": {
   "computePreferences": null,
   "dashboards": [],
   "environmentMetadata": {
    "base_environment": "",
    "environment_version": "2"
   },
   "inputWidgetPreferences": null,
   "language": "python",
   "notebookMetadata": {
    "pythonIndentUnit": 4
   },
   "notebookName": "GOLD_DIMS",
   "widgets": {
    "backdated_refresh": {
     "currentValue": "",
     "nuid": "7eb4d508-f0a8-4f28-81ff-dc60b6099e0e",
     "typedWidgetInfo": {
      "autoCreated": false,
      "defaultValue": "",
      "label": null,
      "name": "backdated_refresh",
      "options": {
       "widgetDisplayType": "Text",
       "validationRegex": null
      },
      "parameterDataType": "String"
     },
     "widgetInfo": {
      "widgetType": "text",
      "defaultValue": "",
      "label": null,
      "name": "backdated_refresh",
      "options": {
       "widgetType": "text",
       "autoCreated": false,
       "validationRegex": null
      }
     }
    },
    "catalog": {
     "currentValue": "",
     "nuid": "9b2768e6-85a1-4d14-8e09-b7893e52be0c",
     "typedWidgetInfo": {
      "autoCreated": false,
      "defaultValue": "",
      "label": null,
      "name": "catalog",
      "options": {
       "widgetDisplayType": "Text",
       "validationRegex": null
      },
      "parameterDataType": "String"
     },
     "widgetInfo": {
      "widgetType": "text",
      "defaultValue": "",
      "label": null,
      "name": "catalog",
      "options": {
       "widgetType": "text",
       "autoCreated": false,
       "validationRegex": null
      }
     }
    },
    "cdc_col": {
     "currentValue": "",
     "nuid": "4df17e90-d2b1-4db2-8c27-4c0e3f1214e4",
     "typedWidgetInfo": {
      "autoCreated": false,
      "defaultValue": "",
      "label": null,
      "name": "cdc_col",
      "options": {
       "widgetDisplayType": "Text",
       "validationRegex": null
      },
      "parameterDataType": "String"
     },
     "widgetInfo": {
      "widgetType": "text",
      "defaultValue": "",
      "label": null,
      "name": "cdc_col",
      "options": {
       "widgetType": "text",
       "autoCreated": false,
       "validationRegex": null
      }
     }
    },
    "key_cols": {
     "currentValue": "",
     "nuid": "8a2de87a-7836-4cc0-be55-04a8e20ec69f",
     "typedWidgetInfo": {
      "autoCreated": false,
      "defaultValue": "",
      "label": null,
      "name": "key_cols",
      "options": {
       "widgetDisplayType": "Text",
       "validationRegex": null
      },
      "parameterDataType": "String"
     },
     "widgetInfo": {
      "widgetType": "text",
      "defaultValue": "",
      "label": null,
      "name": "key_cols",
      "options": {
       "widgetType": "text",
       "autoCreated": null,
       "validationRegex": null
      }
     }
    },
    "source_object": {
     "currentValue": "",
     "nuid": "1c4be61a-ed26-4b68-9c8b-6e14196d03fe",
     "typedWidgetInfo": {
      "autoCreated": false,
      "defaultValue": "",
      "label": null,
      "name": "source_object",
      "options": {
       "widgetDisplayType": "Text",
       "validationRegex": null
      },
      "parameterDataType": "String"
     },
     "widgetInfo": {
      "widgetType": "text",
      "defaultValue": "",
      "label": null,
      "name": "source_object",
      "options": {
       "widgetType": "text",
       "autoCreated": false,
       "validationRegex": null
      }
     }
    },
    "source_schema": {
     "currentValue": "",
     "nuid": "09f24709-9455-4588-96eb-5cd2a706d036",
     "typedWidgetInfo": {
      "autoCreated": false,
      "defaultValue": "",
      "label": null,
      "name": "source_schema",
      "options": {
       "widgetDisplayType": "Text",
       "validationRegex": null
      },
      "parameterDataType": "String"
     },
     "widgetInfo": {
      "widgetType": "text",
      "defaultValue": "",
      "label": null,
      "name": "source_schema",
      "options": {
       "widgetType": "text",
       "autoCreated": false,
       "validationRegex": null
      }
     }
    },
    "surrogate_key": {
     "currentValue": "",
     "nuid": "bd65a7a7-e29a-4a1a-a178-bc243f95c6fa",
     "typedWidgetInfo": {
      "autoCreated": false,
      "defaultValue": "",
      "label": null,
      "name": "surrogate_key",
      "options": {
       "widgetDisplayType": "Text",
       "validationRegex": null
      },
      "parameterDataType": "String"
     },
     "widgetInfo": {
      "widgetType": "text",
      "defaultValue": "",
      "label": null,
      "name": "surrogate_key",
      "options": {
       "widgetType": "text",
       "autoCreated": false,
       "validationRegex": null
      }
     }
    },
    "target_object": {
     "currentValue": "",
     "nuid": "be9da539-9e6b-4538-af27-02f49717f6be",
     "typedWidgetInfo": {
      "autoCreated": false,
      "defaultValue": "",
      "label": null,
      "name": "target_object",
      "options": {
       "widgetDisplayType": "Text",
       "validationRegex": null
      },
      "parameterDataType": "String"
     },
     "widgetInfo": {
      "widgetType": "text",
      "defaultValue": "",
      "label": null,
      "name": "target_object",
      "options": {
       "widgetType": "text",
       "autoCreated": false,
       "validationRegex": null
      }
     }
    },
    "target_schema": {
     "currentValue": "",
     "nuid": "4cdda506-9fe7-477c-815e-11f095c36f17",
     "typedWidgetInfo": {
      "autoCreated": false,
      "defaultValue": "",
      "label": null,
      "name": "target_schema",
      "options": {
       "widgetDisplayType": "Text",
       "validationRegex": null
      },
      "parameterDataType": "String"
     },
     "widgetInfo": {
      "widgetType": "text",
      "defaultValue": "",
      "label": null,
      "name": "target_schema",
      "options": {
       "widgetType": "text",
       "autoCreated": false,
       "validationRegex": null
      }
     }
    }
   }
  },
  "language_info": {
   "name": "python"
  }
 },
 "nbformat": 4,
 "nbformat_minor": 0
}
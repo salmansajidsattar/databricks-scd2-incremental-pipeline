{
 "cells": [
  {
   "cell_type": "code",
   "execution_count": 0,
   "metadata": {
    "application/vnd.databricks.v1+cell": {
     "cellMetadata": {
      "byteLimit": 2048000,
      "rowLimit": 10000
     },
     "inputWidgets": {},
     "nuid": "488a4402-7ab4-48c2-ac42-b80c57907346",
     "showTitle": false,
     "tableResultSettingsMap": {},
     "title": ""
    }
   },
   "outputs": [],
   "source": [
    "src=[\n",
    "    {'catalog':'workspace',\n",
    "     'key_cols':\"['flight_id']\",\n",
    "     'cdc_col':\"modifiedDate\",\n",
    "     'source_object':\"silver_flights\",\n",
    "     'source_schema':\"silver\",\n",
    "     'target_schema':\"gold\",\n",
    "     'target_object':\"Dimflights\",\n",
    "     'surrogate_key':\"DimflightKey\" \n",
    "     },\n",
    "     {'catalog':'workspace',\n",
    "     'key_cols':\"['airport_id']\",\n",
    "     'cdc_col':\"modifiedDate\",\n",
    "     'source_object':\"silver_airports\",\n",
    "     'source_schema':\"silver\",\n",
    "     'target_schema':\"gold\",\n",
    "     'target_object':\"dimairport\",\n",
    "     'surrogate_key':\"DimairportKey\" \n",
    "     },\n",
    "     {'catalog':'workspace',\n",
    "     'key_cols':\"['booking_id']\",\n",
    "     'cdc_col':\"modifiedDate\",\n",
    "     'source_object':\"silver_bookings\",\n",
    "     'source_schema':\"silver\",\n",
    "     'target_schema':\"gold\",\n",
    "     'target_object':\"dimbooking\",\n",
    "     'surrogate_key':\"DimbookingKey\" \n",
    "     },\n",
    "     {'catalog':'workspace',\n",
    "     'key_cols':\"['booking_id']\",\n",
    "     'cdc_col':\"modifiedDate\",\n",
    "     'source_object':\"silver_bookings\",\n",
    "     'source_schema':\"silver\",\n",
    "     'target_schema':\"gold\",\n",
    "     'target_object':\"dimbooking\",\n",
    "     'surrogate_key':\"DimbookingKey\" \n",
    "     },\n",
    "     {'catalog':'workspace',\n",
    "     'key_cols':\"['dimpassenger_id']\",\n",
    "     'cdc_col':\"modifiedDate\",\n",
    "     'source_object':\"silver_dimpassengers\",\n",
    "     'source_schema':\"silver\",\n",
    "     'target_schema':\"gold\",\n",
    "     'target_object':\"dimdimpassenger\",\n",
    "     'surrogate_key':\"DimPassengersKey\" \n",
    "     }\n",
    "\n",
    "]"
   ]
  },
  {
   "cell_type": "code",
   "execution_count": 0,
   "metadata": {
    "application/vnd.databricks.v1+cell": {
     "cellMetadata": {
      "byteLimit": 2048000,
      "rowLimit": 10000
     },
     "inputWidgets": {},
     "nuid": "3bfa8f1d-dc34-49aa-b9f8-d2d5e5d5482d",
     "showTitle": false,
     "tableResultSettingsMap": {},
     "title": ""
    }
   },
   "outputs": [],
   "source": [
    "dbutils.jobs.taskValues.set(key=\"output_key\", value=src)"
   ]
  },
  {
   "cell_type": "code",
   "execution_count": 0,
   "metadata": {
    "application/vnd.databricks.v1+cell": {
     "cellMetadata": {},
     "inputWidgets": {},
     "nuid": "897f2571-43e5-4473-a85e-096b992b0836",
     "showTitle": false,
     "tableResultSettingsMap": {},
     "title": ""
    }
   },
   "outputs": [],
   "source": []
  }
 ],
 "metadata": {
  "application/vnd.databricks.v1+notebook": {
   "computePreferences": null,
   "dashboards": [],
   "environmentMetadata": {
    "base_environment": "",
    "environment_version": "2"
   },
   "inputWidgetPreferences": null,
   "language": "python",
   "notebookMetadata": {
    "pythonIndentUnit": 4
   },
   "notebookName": "Dims_Src",
   "widgets": {}
  },
  "language_info": {
   "name": "python"
  }
 },
 "nbformat": 4,
 "nbformat_minor": 0
}
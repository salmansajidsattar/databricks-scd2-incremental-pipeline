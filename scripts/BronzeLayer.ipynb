{
 "cells": [
  {
   "cell_type": "markdown",
   "metadata": {
    "application/vnd.databricks.v1+cell": {
     "cellMetadata": {
      "byteLimit": 2048000,
      "rowLimit": 10000
     },
     "inputWidgets": {},
     "nuid": "b306e19e-773c-4542-9e01-94f48c2ed10c",
     "showTitle": false,
     "tableResultSettingsMap": {},
     "title": ""
    }
   },
   "source": [
    "### **INCREMENTAL DATA INGESTION**"
   ]
  },
  {
   "cell_type": "code",
   "execution_count": 0,
   "metadata": {
    "application/vnd.databricks.v1+cell": {
     "cellMetadata": {
      "byteLimit": 2048000,
      "rowLimit": 10000
     },
     "inputWidgets": {},
     "nuid": "2f955562-89ed-4240-955d-96406b1af6e1",
     "showTitle": false,
     "tableResultSettingsMap": {},
     "title": ""
    }
   },
   "outputs": [],
   "source": [
    "dbutils.widgets.text(\"src\",\"\")"
   ]
  },
  {
   "cell_type": "code",
   "execution_count": 0,
   "metadata": {
    "application/vnd.databricks.v1+cell": {
     "cellMetadata": {
      "byteLimit": 2048000,
      "rowLimit": 10000
     },
     "inputWidgets": {},
     "nuid": "4ce534cc-de1f-484a-a434-dc8a7fac0d80",
     "showTitle": false,
     "tableResultSettingsMap": {},
     "title": ""
    }
   },
   "outputs": [],
   "source": [
    "src_value = dbutils.widgets.get(\"src\")"
   ]
  },
  {
   "cell_type": "code",
   "execution_count": 0,
   "metadata": {
    "application/vnd.databricks.v1+cell": {
     "cellMetadata": {
      "byteLimit": 2048000,
      "rowLimit": 10000
     },
     "inputWidgets": {},
     "nuid": "a07be3dc-0a34-4e3c-98b6-c231e1059af0",
     "showTitle": false,
     "tableResultSettingsMap": {},
     "title": ""
    }
   },
   "outputs": [],
   "source": [
    "df = spark.readStream.format(\"cloudFiles\")\\\n",
    "          .option(\"cloudFiles.format\",\"csv\")\\\n",
    "          .option(\"cloudFiles.schemaLocation\",f\"/Volumes/workspace/bronze/bronzevolume/{src_value}/checkpoint\")\\\n",
    "          .option(\"cloudFiles.schemaEvolutionMode\",\"rescue\")\\\n",
    "          .load(f\"/Volumes/workspace/raw/rawvolume/rawdata/{src_value}/\")"
   ]
  },
  {
   "cell_type": "code",
   "execution_count": 0,
   "metadata": {
    "application/vnd.databricks.v1+cell": {
     "cellMetadata": {
      "byteLimit": 2048000,
      "rowLimit": 10000
     },
     "inputWidgets": {},
     "nuid": "10df3e8a-aa0f-41b8-a429-e7ab8248e47b",
     "showTitle": false,
     "tableResultSettingsMap": {},
     "title": ""
    }
   },
   "outputs": [
    {
     "output_type": "execute_result",
     "data": {
      "text/plain": [
       "<pyspark.sql.connect.streaming.query.StreamingQuery at 0xfff5a87086d0>"
      ]
     },
     "execution_count": 6,
     "metadata": {},
     "output_type": "execute_result"
    }
   ],
   "source": [
    "df.writeStream.format(\"delta\")\\\n",
    "        .outputMode(\"append\")\\\n",
    "        .trigger(once=True)\\\n",
    "        .option(\"checkpointLocation\",f\"/Volumes/workspace/bronze/bronzevolume/{src_value}/checkpoint\")\\\n",
    "        .option(\"path\",f\"/Volumes/workspace/bronze/bronzevolume/{src_value}/data\")\\\n",
    "        .start()"
   ]
  },
  {
   "cell_type": "code",
   "execution_count": 0,
   "metadata": {
    "application/vnd.databricks.v1+cell": {
     "cellMetadata": {
      "byteLimit": 2048000,
      "implicitDf": true,
      "rowLimit": 10000
     },
     "inputWidgets": {},
     "nuid": "6534b353-fba4-4108-a4e6-5c49cb0ff7d3",
     "showTitle": false,
     "tableResultSettingsMap": {},
     "title": ""
    }
   },
   "outputs": [
    {
     "output_type": "display_data",
     "data": {
      "text/html": [
       "<style scoped>\n",
       "  .table-result-container {\n",
       "    max-height: 300px;\n",
       "    overflow: auto;\n",
       "  }\n",
       "  table, th, td {\n",
       "    border: 1px solid black;\n",
       "    border-collapse: collapse;\n",
       "  }\n",
       "  th, td {\n",
       "    padding: 5px;\n",
       "  }\n",
       "  th {\n",
       "    text-align: left;\n",
       "  }\n",
       "</style><div class='table-result-container'><table class='table-result'><thead style='background-color: white'><tr><th>passenger_id</th><th>name</th><th>gender</th><th>nationality</th><th>_rescued_data</th></tr></thead><tbody><tr><td>P0001</td><td>Kevin Ferguson</td><td>Male</td><td>Reunion</td><td>null</td></tr><tr><td>P0002</td><td>Kathleen Martinez DVM</td><td>Female</td><td>Burkina Faso</td><td>null</td></tr><tr><td>P0003</td><td>Cynthia Frazier</td><td>Male</td><td>Marshall Islands</td><td>null</td></tr><tr><td>P0004</td><td>Ryan Ramsey</td><td>Male</td><td>Niger</td><td>null</td></tr><tr><td>P0005</td><td>Mike Kim</td><td>Male</td><td>Taiwan</td><td>null</td></tr><tr><td>P0006</td><td>Diana Adams</td><td>Male</td><td>Mayotte</td><td>null</td></tr><tr><td>P0007</td><td>Sharon Moon</td><td>Male</td><td>Madagascar</td><td>null</td></tr><tr><td>P0008</td><td>Cheryl Glenn</td><td>Male</td><td>Maldives</td><td>null</td></tr><tr><td>P0009</td><td>Allen Lowery</td><td>Male</td><td>Rwanda</td><td>null</td></tr><tr><td>P0010</td><td>Maria Medina</td><td>Male</td><td>Denmark</td><td>null</td></tr><tr><td>P0011</td><td>Michael Anderson MD</td><td>Female</td><td>Czech Republic</td><td>null</td></tr><tr><td>P0012</td><td>Samantha Barnes</td><td>Female</td><td>British Virgin Islands</td><td>null</td></tr><tr><td>P0013</td><td>Christine Young</td><td>Male</td><td>Iran</td><td>null</td></tr><tr><td>P0014</td><td>Rebecca Sampson</td><td>Male</td><td>Suriname</td><td>null</td></tr><tr><td>P0015</td><td>Brittany Schultz</td><td>Female</td><td>Tokelau</td><td>null</td></tr><tr><td>P0016</td><td>Michael Terry</td><td>Female</td><td>El Salvador</td><td>null</td></tr><tr><td>P0017</td><td>Billy Williams</td><td>Male</td><td>Togo</td><td>null</td></tr><tr><td>P0018</td><td>Kyle Carter</td><td>Female</td><td>Lebanon</td><td>null</td></tr><tr><td>P0019</td><td>Brittney Morgan</td><td>Female</td><td>Congo</td><td>null</td></tr><tr><td>P0020</td><td>Xavier Rivera</td><td>Female</td><td>Timor-Leste</td><td>null</td></tr><tr><td>P0021</td><td>Nicholas Ritter</td><td>Female</td><td>Korea</td><td>null</td></tr><tr><td>P0022</td><td>Edward Rice</td><td>Female</td><td>Antigua and Barbuda</td><td>null</td></tr><tr><td>P0023</td><td>Wendy Jones</td><td>Female</td><td>Haiti</td><td>null</td></tr><tr><td>P0024</td><td>Jordan Moore</td><td>Female</td><td>Aruba</td><td>null</td></tr><tr><td>P0025</td><td>Christopher Kim</td><td>Male</td><td>Greece</td><td>null</td></tr><tr><td>P0026</td><td>Anita Jones</td><td>Female</td><td>Comoros</td><td>null</td></tr><tr><td>P0027</td><td>Spencer Grimes Jr.</td><td>Female</td><td>Portugal</td><td>null</td></tr><tr><td>P0028</td><td>Juan Sweeney</td><td>Female</td><td>Yemen</td><td>null</td></tr><tr><td>P0029</td><td>Tony Adams</td><td>Female</td><td>British Virgin Islands</td><td>null</td></tr><tr><td>P0030</td><td>Daniel Rush</td><td>Male</td><td>Tunisia</td><td>null</td></tr><tr><td>P0031</td><td>Jesus Clark</td><td>Female</td><td>Namibia</td><td>null</td></tr><tr><td>P0032</td><td>Brittany Aguirre</td><td>Male</td><td>Uzbekistan</td><td>null</td></tr><tr><td>P0033</td><td>Sandra Green</td><td>Male</td><td>Switzerland</td><td>null</td></tr><tr><td>P0034</td><td>Victoria Franklin</td><td>Female</td><td>Spain</td><td>null</td></tr><tr><td>P0035</td><td>Gina Lee</td><td>Male</td><td>Samoa</td><td>null</td></tr><tr><td>P0036</td><td>Abigail Brown</td><td>Male</td><td>France</td><td>null</td></tr><tr><td>P0037</td><td>Cheryl Reyes</td><td>Female</td><td>French Guiana</td><td>null</td></tr><tr><td>P0038</td><td>Heather Garcia</td><td>Male</td><td>Isle of Man</td><td>null</td></tr><tr><td>P0039</td><td>Krystal Mathews</td><td>Male</td><td>Cyprus</td><td>null</td></tr><tr><td>P0040</td><td>Troy Green</td><td>Female</td><td>Macao</td><td>null</td></tr><tr><td>P0041</td><td>Amanda Hughes</td><td>Male</td><td>Kenya</td><td>null</td></tr><tr><td>P0042</td><td>Nicholas Garcia</td><td>Female</td><td>Germany</td><td>null</td></tr><tr><td>P0043</td><td>Gloria Hill</td><td>Female</td><td>Guadeloupe</td><td>null</td></tr><tr><td>P0044</td><td>Lindsey Robinson</td><td>Male</td><td>Bermuda</td><td>null</td></tr><tr><td>P0045</td><td>Mary Mann</td><td>Female</td><td>Sri Lanka</td><td>null</td></tr><tr><td>P0046</td><td>Matthew Evans</td><td>Female</td><td>Guadeloupe</td><td>null</td></tr><tr><td>P0047</td><td>Virginia Vance</td><td>Female</td><td>British Indian Ocean Territory (Chagos Archipelago)</td><td>null</td></tr><tr><td>P0048</td><td>Jonathan Martinez</td><td>Male</td><td>Mayotte</td><td>null</td></tr><tr><td>P0049</td><td>Douglas Montoya</td><td>Female</td><td>Pakistan</td><td>null</td></tr><tr><td>P0050</td><td>Brandon Smith</td><td>Male</td><td>Senegal</td><td>null</td></tr><tr><td>P0051</td><td>Brett Rios</td><td>Female</td><td>Guyana</td><td>null</td></tr><tr><td>P0052</td><td>Jill Brennan</td><td>Female</td><td>Togo</td><td>null</td></tr><tr><td>P0053</td><td>Glenda Silva</td><td>Female</td><td>Guinea</td><td>null</td></tr><tr><td>P0054</td><td>Benjamin Mata</td><td>Male</td><td>Croatia</td><td>null</td></tr><tr><td>P0055</td><td>William Tanner</td><td>Female</td><td>Guadeloupe</td><td>null</td></tr><tr><td>P0056</td><td>Joseph James</td><td>Male</td><td>Turks and Caicos Islands</td><td>null</td></tr><tr><td>P0057</td><td>Alexandra Sanders</td><td>Female</td><td>Australia</td><td>null</td></tr><tr><td>P0058</td><td>William Meza</td><td>Male</td><td>Central African Republic</td><td>null</td></tr><tr><td>P0059</td><td>Alexander Wells</td><td>Male</td><td>Bosnia and Herzegovina</td><td>null</td></tr><tr><td>P0060</td><td>Megan Watts</td><td>Male</td><td>Bahrain</td><td>null</td></tr><tr><td>P0061</td><td>Kelsey Andrews</td><td>Female</td><td>Solomon Islands</td><td>null</td></tr><tr><td>P0062</td><td>Maria Gibbs</td><td>Female</td><td>Taiwan</td><td>null</td></tr><tr><td>P0063</td><td>Mark Martin</td><td>Male</td><td>Saint Helena</td><td>null</td></tr><tr><td>P0064</td><td>Pam Garcia</td><td>Male</td><td>Thailand</td><td>null</td></tr><tr><td>P0065</td><td>Daniel Ray</td><td>Female</td><td>Argentina</td><td>null</td></tr><tr><td>P0066</td><td>Brandi Maddox</td><td>Male</td><td>Senegal</td><td>null</td></tr><tr><td>P0067</td><td>Jimmy Smith</td><td>Female</td><td>China</td><td>null</td></tr><tr><td>P0068</td><td>Timothy Goodwin</td><td>Female</td><td>Kuwait</td><td>null</td></tr><tr><td>P0069</td><td>Taylor Stephenson</td><td>Female</td><td>Spain</td><td>null</td></tr><tr><td>P0070</td><td>Anthony Ingram</td><td>Male</td><td>Papua New Guinea</td><td>null</td></tr><tr><td>P0071</td><td>Jeanette Garrison</td><td>Male</td><td>Andorra</td><td>null</td></tr><tr><td>P0072</td><td>Seth Salazar</td><td>Female</td><td>Japan</td><td>null</td></tr><tr><td>P0073</td><td>Tina Harris</td><td>Male</td><td>Korea</td><td>null</td></tr><tr><td>P0074</td><td>Shelley Green</td><td>Male</td><td>Guyana</td><td>null</td></tr><tr><td>P0075</td><td>Patrick Lyons</td><td>Female</td><td>Mayotte</td><td>null</td></tr><tr><td>P0076</td><td>Edward Nelson</td><td>Male</td><td>Reunion</td><td>null</td></tr><tr><td>P0077</td><td>Audrey Rodriguez</td><td>Female</td><td>Saint Barthelemy</td><td>null</td></tr><tr><td>P0078</td><td>Darlene Perez</td><td>Female</td><td>Cyprus</td><td>null</td></tr><tr><td>P0079</td><td>Tracy Russo</td><td>Male</td><td>Iceland</td><td>null</td></tr><tr><td>P0080</td><td>Brandon Lynch</td><td>Female</td><td>Eritrea</td><td>null</td></tr><tr><td>P0081</td><td>Amy Kim MD</td><td>Female</td><td>New Caledonia</td><td>null</td></tr><tr><td>P0082</td><td>Sarah House</td><td>Female</td><td>Cook Islands</td><td>null</td></tr><tr><td>P0083</td><td>Natalie Jones</td><td>Male</td><td>Faroe Islands</td><td>null</td></tr><tr><td>P0084</td><td>Troy White</td><td>Female</td><td>Tokelau</td><td>null</td></tr><tr><td>P0085</td><td>Frederick Robertson</td><td>Female</td><td>Germany</td><td>null</td></tr><tr><td>P0086</td><td>Gloria Williams</td><td>Male</td><td>Somalia</td><td>null</td></tr><tr><td>P0087</td><td>Andrew Carr</td><td>Male</td><td>Andorra</td><td>null</td></tr><tr><td>P0088</td><td>Austin Murphy</td><td>Female</td><td>Lao People's Democratic Republic</td><td>null</td></tr><tr><td>P0089</td><td>Daniel Jones</td><td>Female</td><td>Costa Rica</td><td>null</td></tr><tr><td>P0090</td><td>Ryan Anderson</td><td>Male</td><td>Spain</td><td>null</td></tr><tr><td>P0091</td><td>Kenneth Dean</td><td>Female</td><td>Bhutan</td><td>null</td></tr><tr><td>P0092</td><td>Robert Mason</td><td>Male</td><td>Micronesia</td><td>null</td></tr><tr><td>P0093</td><td>Austin Ortega DVM</td><td>Female</td><td>Korea</td><td>null</td></tr><tr><td>P0094</td><td>Kristen Pierce</td><td>Male</td><td>Tonga</td><td>null</td></tr><tr><td>P0095</td><td>Kelsey Hill</td><td>Male</td><td>Cook Islands</td><td>null</td></tr><tr><td>P0096</td><td>Erika Hall</td><td>Male</td><td>Kenya</td><td>null</td></tr><tr><td>P0097</td><td>Kristen Bailey</td><td>Male</td><td>Bermuda</td><td>null</td></tr><tr><td>P0098</td><td>Andrea Mcknight</td><td>Male</td><td>Samoa</td><td>null</td></tr><tr><td>P0099</td><td>Ryan Curry</td><td>Female</td><td>Qatar</td><td>null</td></tr><tr><td>P0100</td><td>Benjamin Cowan</td><td>Male</td><td>Namibia</td><td>null</td></tr><tr><td>P0101</td><td>Dale Figueroa</td><td>Female</td><td>Albania</td><td>null</td></tr><tr><td>P0102</td><td>Michael Collins</td><td>Male</td><td>Turkey</td><td>null</td></tr><tr><td>P0103</td><td>Nicholas Chapman</td><td>Male</td><td>Jersey</td><td>null</td></tr><tr><td>P0104</td><td>Amy Rose</td><td>Female</td><td>British Virgin Islands</td><td>null</td></tr><tr><td>P0105</td><td>James Frederick</td><td>Female</td><td>Cote d'Ivoire</td><td>null</td></tr><tr><td>P0106</td><td>Ashley Freeman</td><td>Female</td><td>Belize</td><td>null</td></tr><tr><td>P0107</td><td>Brittany Young</td><td>Female</td><td>Taiwan</td><td>null</td></tr><tr><td>P0108</td><td>Pamela Byrd</td><td>Female</td><td>Morocco</td><td>null</td></tr><tr><td>P0109</td><td>Brian Mosley</td><td>Male</td><td>Brunei Darussalam</td><td>null</td></tr><tr><td>P0110</td><td>Eric Stephens</td><td>Female</td><td>Guyana</td><td>null</td></tr><tr><td>P0111</td><td>Cheyenne Estes</td><td>Male</td><td>Nepal</td><td>null</td></tr><tr><td>P0112</td><td>William Bailey</td><td>Male</td><td>Micronesia</td><td>null</td></tr><tr><td>P0113</td><td>Timothy Stone</td><td>Male</td><td>Sierra Leone</td><td>null</td></tr><tr><td>P0114</td><td>Charles Stanley</td><td>Female</td><td>Tonga</td><td>null</td></tr><tr><td>P0115</td><td>Diana Fisher</td><td>Male</td><td>Netherlands</td><td>null</td></tr><tr><td>P0116</td><td>Richard Mayer</td><td>Male</td><td>Cayman Islands</td><td>null</td></tr><tr><td>P0117</td><td>Scott Acosta</td><td>Female</td><td>Hong Kong</td><td>null</td></tr><tr><td>P0118</td><td>Anita Figueroa</td><td>Male</td><td>Mauritania</td><td>null</td></tr><tr><td>P0119</td><td>Paul Sanchez</td><td>Male</td><td>Bouvet Island (Bouvetoya)</td><td>null</td></tr><tr><td>P0120</td><td>Tiffany Williams</td><td>Female</td><td>New Caledonia</td><td>null</td></tr><tr><td>P0121</td><td>Bethany Foley</td><td>Male</td><td>Romania</td><td>null</td></tr><tr><td>P0122</td><td>Joshua White</td><td>Male</td><td>Bouvet Island (Bouvetoya)</td><td>null</td></tr><tr><td>P0123</td><td>Stephanie Rush</td><td>Female</td><td>Belgium</td><td>null</td></tr><tr><td>P0124</td><td>Alyssa Herrera</td><td>Female</td><td>Martinique</td><td>null</td></tr><tr><td>P0125</td><td>Katherine Aguilar</td><td>Male</td><td>Cambodia</td><td>null</td></tr><tr><td>P0126</td><td>Charles Wilson</td><td>Male</td><td>Palau</td><td>null</td></tr><tr><td>P0127</td><td>Chloe Conway</td><td>Male</td><td>Brunei Darussalam</td><td>null</td></tr><tr><td>P0128</td><td>Nicole Walters</td><td>Male</td><td>Dominica</td><td>null</td></tr><tr><td>P0129</td><td>Desiree Gonzales</td><td>Female</td><td>Saint Helena</td><td>null</td></tr><tr><td>P0130</td><td>Gregory Alexander</td><td>Female</td><td>Slovakia (Slovak Republic)</td><td>null</td></tr><tr><td>P0131</td><td>Dr. Kyle Salazar</td><td>Male</td><td>Brazil</td><td>null</td></tr><tr><td>P0132</td><td>Makayla Robbins</td><td>Male</td><td>Kazakhstan</td><td>null</td></tr><tr><td>P0133</td><td>Scott Morales</td><td>Male</td><td>Angola</td><td>null</td></tr><tr><td>P0134</td><td>Phyllis Lewis</td><td>Female</td><td>Northern Mariana Islands</td><td>null</td></tr><tr><td>P0135</td><td>David Hamilton</td><td>Female</td><td>Sri Lanka</td><td>null</td></tr><tr><td>P0136</td><td>Melinda Smith</td><td>Female</td><td>Swaziland</td><td>null</td></tr><tr><td>P0137</td><td>Vanessa Fuller</td><td>Female</td><td>Moldova</td><td>null</td></tr><tr><td>P0138</td><td>Christopher Wilkinson</td><td>Male</td><td>Canada</td><td>null</td></tr><tr><td>P0139</td><td>Brent Johnson</td><td>Female</td><td>Bahamas</td><td>null</td></tr><tr><td>P0140</td><td>Mark Taylor</td><td>Male</td><td>Kyrgyz Republic</td><td>null</td></tr><tr><td>P0141</td><td>Joshua Richardson</td><td>Female</td><td>Northern Mariana Islands</td><td>null</td></tr><tr><td>P0142</td><td>Dr. Nancy Jacobs PhD</td><td>Male</td><td>Belgium</td><td>null</td></tr><tr><td>P0143</td><td>Vincent Sanchez</td><td>Female</td><td>Tuvalu</td><td>null</td></tr><tr><td>P0144</td><td>Jennifer Gutierrez</td><td>Female</td><td>Bulgaria</td><td>null</td></tr><tr><td>P0145</td><td>Michael Simmons</td><td>Female</td><td>Cape Verde</td><td>null</td></tr><tr><td>P0146</td><td>Phillip Myers</td><td>Female</td><td>Slovenia</td><td>null</td></tr><tr><td>P0147</td><td>Joshua Mendoza</td><td>Male</td><td>Tokelau</td><td>null</td></tr><tr><td>P0148</td><td>James Camacho</td><td>Male</td><td>Switzerland</td><td>null</td></tr><tr><td>P0149</td><td>Samuel Sellers</td><td>Male</td><td>Puerto Rico</td><td>null</td></tr><tr><td>P0150</td><td>Charles Wade</td><td>Male</td><td>El Salvador</td><td>null</td></tr><tr><td>P0151</td><td>Katherine Young</td><td>Male</td><td>Nigeria</td><td>null</td></tr><tr><td>P0152</td><td>Kristin Cole</td><td>Male</td><td>Saint Lucia</td><td>null</td></tr><tr><td>P0153</td><td>Melissa Patterson</td><td>Female</td><td>Cambodia</td><td>null</td></tr><tr><td>P0154</td><td>Erin Perez</td><td>Female</td><td>Puerto Rico</td><td>null</td></tr><tr><td>P0155</td><td>Rebecca Trujillo</td><td>Female</td><td>Swaziland</td><td>null</td></tr><tr><td>P0156</td><td>Nicole Drake</td><td>Female</td><td>Jordan</td><td>null</td></tr><tr><td>P0157</td><td>Daniel Sawyer</td><td>Male</td><td>Mayotte</td><td>null</td></tr><tr><td>P0158</td><td>Richard Barrett</td><td>Male</td><td>Brunei Darussalam</td><td>null</td></tr><tr><td>P0159</td><td>Nicholas Williams</td><td>Male</td><td>Austria</td><td>null</td></tr><tr><td>P0160</td><td>Juan Pineda</td><td>Male</td><td>Burkina Faso</td><td>null</td></tr><tr><td>P0161</td><td>Edward Morris</td><td>Female</td><td>Syrian Arab Republic</td><td>null</td></tr><tr><td>P0162</td><td>Rebecca Hendricks</td><td>Male</td><td>Faroe Islands</td><td>null</td></tr><tr><td>P0163</td><td>Benjamin Aguilar</td><td>Female</td><td>Netherlands Antilles</td><td>null</td></tr><tr><td>P0164</td><td>Andrew Snyder</td><td>Male</td><td>Gabon</td><td>null</td></tr><tr><td>P0165</td><td>Jessica Hansen</td><td>Male</td><td>British Indian Ocean Territory (Chagos Archipelago)</td><td>null</td></tr><tr><td>P0166</td><td>Walter Thompson</td><td>Male</td><td>Malaysia</td><td>null</td></tr><tr><td>P0167</td><td>Michael Diaz</td><td>Female</td><td>Kiribati</td><td>null</td></tr><tr><td>P0168</td><td>Norman Jones</td><td>Female</td><td>Faroe Islands</td><td>null</td></tr><tr><td>P0169</td><td>Jessica Sampson</td><td>Female</td><td>Northern Mariana Islands</td><td>null</td></tr><tr><td>P0170</td><td>Julie Sullivan</td><td>Female</td><td>Ireland</td><td>null</td></tr><tr><td>P0171</td><td>Brittany Smith</td><td>Female</td><td>Australia</td><td>null</td></tr><tr><td>P0172</td><td>Noah Herrera</td><td>Female</td><td>Monaco</td><td>null</td></tr><tr><td>P0173</td><td>Mary Avila</td><td>Male</td><td>Rwanda</td><td>null</td></tr><tr><td>P0174</td><td>Michael Johnson</td><td>Female</td><td>Chad</td><td>null</td></tr><tr><td>P0175</td><td>Sheri Novak</td><td>Male</td><td>Turks and Caicos Islands</td><td>null</td></tr><tr><td>P0176</td><td>Martin Prince</td><td>Male</td><td>Central African Republic</td><td>null</td></tr><tr><td>P0177</td><td>Eric Tucker</td><td>Female</td><td>Zambia</td><td>null</td></tr><tr><td>P0178</td><td>Brenda Dennis</td><td>Male</td><td>Saint Lucia</td><td>null</td></tr><tr><td>P0179</td><td>Shelby Tucker</td><td>Male</td><td>Malaysia</td><td>null</td></tr><tr><td>P0180</td><td>Chelsea Copeland</td><td>Female</td><td>Bolivia</td><td>null</td></tr><tr><td>P0181</td><td>Ryan Jenkins</td><td>Female</td><td>Lao People's Democratic Republic</td><td>null</td></tr><tr><td>P0182</td><td>Eric Martin</td><td>Female</td><td>Mauritius</td><td>null</td></tr><tr><td>P0183</td><td>Benjamin Garcia</td><td>Female</td><td>Saint Pierre and Miquelon</td><td>null</td></tr><tr><td>P0184</td><td>Evan Scott</td><td>Female</td><td>South Africa</td><td>null</td></tr><tr><td>P0185</td><td>Karen Maynard</td><td>Male</td><td>Romania</td><td>null</td></tr><tr><td>P0186</td><td>Kathryn Foster</td><td>Male</td><td>Bahrain</td><td>null</td></tr><tr><td>P0187</td><td>Christopher Wade</td><td>Female</td><td>Lesotho</td><td>null</td></tr><tr><td>P0188</td><td>Yvette Morton</td><td>Female</td><td>Vanuatu</td><td>null</td></tr><tr><td>P0189</td><td>Joel Gomez</td><td>Female</td><td>Bulgaria</td><td>null</td></tr><tr><td>P0190</td><td>Joyce Parker</td><td>Male</td><td>Lebanon</td><td>null</td></tr><tr><td>P0191</td><td>Linda Moore</td><td>Male</td><td>Norfolk Island</td><td>null</td></tr><tr><td>P0192</td><td>Dr. Chris Dean</td><td>Female</td><td>Seychelles</td><td>null</td></tr><tr><td>P0193</td><td>Dr. Justin Rivera</td><td>Male</td><td>India</td><td>null</td></tr><tr><td>P0194</td><td>Tommy Baker</td><td>Male</td><td>Venezuela</td><td>null</td></tr><tr><td>P0195</td><td>Lisa Bautista</td><td>Male</td><td>Honduras</td><td>null</td></tr><tr><td>P0196</td><td>Jamie Simon</td><td>Female</td><td>Nicaragua</td><td>null</td></tr><tr><td>P0197</td><td>Alicia Parks</td><td>Male</td><td>Georgia</td><td>null</td></tr><tr><td>P0198</td><td>Timothy Carroll</td><td>Male</td><td>Korea</td><td>null</td></tr><tr><td>P0199</td><td>Marie Gonzales</td><td>Male</td><td>Kazakhstan</td><td>null</td></tr><tr><td>P0200</td><td>Jim Berry</td><td>Female</td><td>Trinidad and Tobago</td><td>null</td></tr><tr><td>P0201</td><td>Michele Perry</td><td>Male</td><td>Czech Republic</td><td>null</td></tr><tr><td>P0202</td><td>Javier Mccormick</td><td>Male</td><td>Bolivia</td><td>null</td></tr><tr><td>P0203</td><td>Michelle Alvarado</td><td>Male</td><td>Iraq</td><td>null</td></tr><tr><td>P0204</td><td>Jamie Harrell</td><td>Female</td><td>Norway</td><td>null</td></tr><tr><td>P0205</td><td>James Bender</td><td>Female</td><td>Saint Barthelemy</td><td>null</td></tr><tr><td>P0206</td><td>Amy Burns</td><td>Female</td><td>Malta</td><td>null</td></tr><tr><td>P0207</td><td>Angela Sparks</td><td>Male</td><td>Nicaragua</td><td>null</td></tr><tr><td>P0208</td><td>Cynthia Salas</td><td>Male</td><td>United States of America</td><td>null</td></tr><tr><td>P0209</td><td>Christine Norman</td><td>Female</td><td>Sudan</td><td>null</td></tr><tr><td>P0210</td><td>Robert Davis</td><td>Male</td><td>Puerto Rico</td><td>null</td></tr><tr><td>P0211</td><td>Gregory Williams</td><td>Female</td><td>Trinidad and Tobago</td><td>null</td></tr><tr><td>P0212</td><td>Suzanne Myers</td><td>Male</td><td>Algeria</td><td>null</td></tr><tr><td>P0213</td><td>Norman Daniel</td><td>Female</td><td>Korea</td><td>null</td></tr><tr><td>P0214</td><td>Vanessa Yang</td><td>Female</td><td>Bhutan</td><td>null</td></tr><tr><td>P0215</td><td>Alexander Smith</td><td>Female</td><td>Mali</td><td>null</td></tr><tr><td>P0216</td><td>Michele Hunter</td><td>Male</td><td>Cambodia</td><td>null</td></tr><tr><td>P0217</td><td>Emily Buchanan</td><td>Female</td><td>Uganda</td><td>null</td></tr><tr><td>P0218</td><td>David Rhodes</td><td>Female</td><td>Saint Vincent and the Grenadines</td><td>null</td></tr><tr><td>P0219</td><td>Mary Burke</td><td>Female</td><td>Heard Island and McDonald Islands</td><td>null</td></tr><tr><td>P0220</td><td>Robert Johnson</td><td>Female</td><td>Nigeria</td><td>null</td></tr><tr><td>P0049</td><td>Justin Thomas</td><td>Female</td><td>Tokelau</td><td>null</td></tr><tr><td>P0108</td><td>Brian Anderson</td><td>Female</td><td>Eritrea</td><td>null</td></tr><tr><td>P0113</td><td>Brian Richardson</td><td>Male</td><td>Dominican Republic</td><td>null</td></tr><tr><td>P0106</td><td>Joshua Shepherd Jr.</td><td>Female</td><td>Netherlands</td><td>null</td></tr><tr><td>P0149</td><td>Katherine Bowen DVM</td><td>Male</td><td>Mexico</td><td>null</td></tr><tr><td>P0154</td><td>Angel Thompson</td><td>Female</td><td>Gambia</td><td>null</td></tr><tr><td>P0196</td><td>Monica Dillon</td><td>Female</td><td>Belarus</td><td>null</td></tr><tr><td>P0155</td><td>Robert Singleton</td><td>Female</td><td>Northern Mariana Islands</td><td>null</td></tr><tr><td>P0032</td><td>Daniel Douglas</td><td>Male</td><td>Singapore</td><td>null</td></tr><tr><td>P0158</td><td>Jamie Mcneil</td><td>Male</td><td>Burundi</td><td>null</td></tr><tr><td>P0221</td><td>Amy Welch</td><td>Male</td><td>Croatia</td><td>null</td></tr><tr><td>P0222</td><td>Maria Taylor</td><td>Male</td><td>Lao People's Democratic Republic</td><td>null</td></tr><tr><td>P0223</td><td>Nicholas Gomez</td><td>Female</td><td>Cook Islands</td><td>null</td></tr><tr><td>P0224</td><td>Jason Jensen</td><td>Female</td><td>Rwanda</td><td>null</td></tr><tr><td>P0225</td><td>William Lopez</td><td>Male</td><td>Heard Island and McDonald Islands</td><td>null</td></tr></tbody></table></div>"
      ]
     },
     "metadata": {
      "application/vnd.databricks.v1+output": {
       "addedWidgets": {},
       "aggData": [],
       "aggError": "",
       "aggOverflow": false,
       "aggSchema": [],
       "aggSeriesLimitReached": false,
       "aggType": "",
       "arguments": {},
       "columnCustomDisplayInfos": {},
       "data": [
        [
         "P0001",
         "Kevin Ferguson",
         "Male",
         "Reunion",
         null
        ],
        [
         "P0002",
         "Kathleen Martinez DVM",
         "Female",
         "Burkina Faso",
         null
        ],
        [
         "P0003",
         "Cynthia Frazier",
         "Male",
         "Marshall Islands",
         null
        ],
        [
         "P0004",
         "Ryan Ramsey",
         "Male",
         "Niger",
         null
        ],
        [
         "P0005",
         "Mike Kim",
         "Male",
         "Taiwan",
         null
        ],
        [
         "P0006",
         "Diana Adams",
         "Male",
         "Mayotte",
         null
        ],
        [
         "P0007",
         "Sharon Moon",
         "Male",
         "Madagascar",
         null
        ],
        [
         "P0008",
         "Cheryl Glenn",
         "Male",
         "Maldives",
         null
        ],
        [
         "P0009",
         "Allen Lowery",
         "Male",
         "Rwanda",
         null
        ],
        [
         "P0010",
         "Maria Medina",
         "Male",
         "Denmark",
         null
        ],
        [
         "P0011",
         "Michael Anderson MD",
         "Female",
         "Czech Republic",
         null
        ],
        [
         "P0012",
         "Samantha Barnes",
         "Female",
         "British Virgin Islands",
         null
        ],
        [
         "P0013",
         "Christine Young",
         "Male",
         "Iran",
         null
        ],
        [
         "P0014",
         "Rebecca Sampson",
         "Male",
         "Suriname",
         null
        ],
        [
         "P0015",
         "Brittany Schultz",
         "Female",
         "Tokelau",
         null
        ],
        [
         "P0016",
         "Michael Terry",
         "Female",
         "El Salvador",
         null
        ],
        [
         "P0017",
         "Billy Williams",
         "Male",
         "Togo",
         null
        ],
        [
         "P0018",
         "Kyle Carter",
         "Female",
         "Lebanon",
         null
        ],
        [
         "P0019",
         "Brittney Morgan",
         "Female",
         "Congo",
         null
        ],
        [
         "P0020",
         "Xavier Rivera",
         "Female",
         "Timor-Leste",
         null
        ],
        [
         "P0021",
         "Nicholas Ritter",
         "Female",
         "Korea",
         null
        ],
        [
         "P0022",
         "Edward Rice",
         "Female",
         "Antigua and Barbuda",
         null
        ],
        [
         "P0023",
         "Wendy Jones",
         "Female",
         "Haiti",
         null
        ],
        [
         "P0024",
         "Jordan Moore",
         "Female",
         "Aruba",
         null
        ],
        [
         "P0025",
         "Christopher Kim",
         "Male",
         "Greece",
         null
        ],
        [
         "P0026",
         "Anita Jones",
         "Female",
         "Comoros",
         null
        ],
        [
         "P0027",
         "Spencer Grimes Jr.",
         "Female",
         "Portugal",
         null
        ],
        [
         "P0028",
         "Juan Sweeney",
         "Female",
         "Yemen",
         null
        ],
        [
         "P0029",
         "Tony Adams",
         "Female",
         "British Virgin Islands",
         null
        ],
        [
         "P0030",
         "Daniel Rush",
         "Male",
         "Tunisia",
         null
        ],
        [
         "P0031",
         "Jesus Clark",
         "Female",
         "Namibia",
         null
        ],
        [
         "P0032",
         "Brittany Aguirre",
         "Male",
         "Uzbekistan",
         null
        ],
        [
         "P0033",
         "Sandra Green",
         "Male",
         "Switzerland",
         null
        ],
        [
         "P0034",
         "Victoria Franklin",
         "Female",
         "Spain",
         null
        ],
        [
         "P0035",
         "Gina Lee",
         "Male",
         "Samoa",
         null
        ],
        [
         "P0036",
         "Abigail Brown",
         "Male",
         "France",
         null
        ],
        [
         "P0037",
         "Cheryl Reyes",
         "Female",
         "French Guiana",
         null
        ],
        [
         "P0038",
         "Heather Garcia",
         "Male",
         "Isle of Man",
         null
        ],
        [
         "P0039",
         "Krystal Mathews",
         "Male",
         "Cyprus",
         null
        ],
        [
         "P0040",
         "Troy Green",
         "Female",
         "Macao",
         null
        ],
        [
         "P0041",
         "Amanda Hughes",
         "Male",
         "Kenya",
         null
        ],
        [
         "P0042",
         "Nicholas Garcia",
         "Female",
         "Germany",
         null
        ],
        [
         "P0043",
         "Gloria Hill",
         "Female",
         "Guadeloupe",
         null
        ],
        [
         "P0044",
         "Lindsey Robinson",
         "Male",
         "Bermuda",
         null
        ],
        [
         "P0045",
         "Mary Mann",
         "Female",
         "Sri Lanka",
         null
        ],
        [
         "P0046",
         "Matthew Evans",
         "Female",
         "Guadeloupe",
         null
        ],
        [
         "P0047",
         "Virginia Vance",
         "Female",
         "British Indian Ocean Territory (Chagos Archipelago)",
         null
        ],
        [
         "P0048",
         "Jonathan Martinez",
         "Male",
         "Mayotte",
         null
        ],
        [
         "P0049",
         "Douglas Montoya",
         "Female",
         "Pakistan",
         null
        ],
        [
         "P0050",
         "Brandon Smith",
         "Male",
         "Senegal",
         null
        ],
        [
         "P0051",
         "Brett Rios",
         "Female",
         "Guyana",
         null
        ],
        [
         "P0052",
         "Jill Brennan",
         "Female",
         "Togo",
         null
        ],
        [
         "P0053",
         "Glenda Silva",
         "Female",
         "Guinea",
         null
        ],
        [
         "P0054",
         "Benjamin Mata",
         "Male",
         "Croatia",
         null
        ],
        [
         "P0055",
         "William Tanner",
         "Female",
         "Guadeloupe",
         null
        ],
        [
         "P0056",
         "Joseph James",
         "Male",
         "Turks and Caicos Islands",
         null
        ],
        [
         "P0057",
         "Alexandra Sanders",
         "Female",
         "Australia",
         null
        ],
        [
         "P0058",
         "William Meza",
         "Male",
         "Central African Republic",
         null
        ],
        [
         "P0059",
         "Alexander Wells",
         "Male",
         "Bosnia and Herzegovina",
         null
        ],
        [
         "P0060",
         "Megan Watts",
         "Male",
         "Bahrain",
         null
        ],
        [
         "P0061",
         "Kelsey Andrews",
         "Female",
         "Solomon Islands",
         null
        ],
        [
         "P0062",
         "Maria Gibbs",
         "Female",
         "Taiwan",
         null
        ],
        [
         "P0063",
         "Mark Martin",
         "Male",
         "Saint Helena",
         null
        ],
        [
         "P0064",
         "Pam Garcia",
         "Male",
         "Thailand",
         null
        ],
        [
         "P0065",
         "Daniel Ray",
         "Female",
         "Argentina",
         null
        ],
        [
         "P0066",
         "Brandi Maddox",
         "Male",
         "Senegal",
         null
        ],
        [
         "P0067",
         "Jimmy Smith",
         "Female",
         "China",
         null
        ],
        [
         "P0068",
         "Timothy Goodwin",
         "Female",
         "Kuwait",
         null
        ],
        [
         "P0069",
         "Taylor Stephenson",
         "Female",
         "Spain",
         null
        ],
        [
         "P0070",
         "Anthony Ingram",
         "Male",
         "Papua New Guinea",
         null
        ],
        [
         "P0071",
         "Jeanette Garrison",
         "Male",
         "Andorra",
         null
        ],
        [
         "P0072",
         "Seth Salazar",
         "Female",
         "Japan",
         null
        ],
        [
         "P0073",
         "Tina Harris",
         "Male",
         "Korea",
         null
        ],
        [
         "P0074",
         "Shelley Green",
         "Male",
         "Guyana",
         null
        ],
        [
         "P0075",
         "Patrick Lyons",
         "Female",
         "Mayotte",
         null
        ],
        [
         "P0076",
         "Edward Nelson",
         "Male",
         "Reunion",
         null
        ],
        [
         "P0077",
         "Audrey Rodriguez",
         "Female",
         "Saint Barthelemy",
         null
        ],
        [
         "P0078",
         "Darlene Perez",
         "Female",
         "Cyprus",
         null
        ],
        [
         "P0079",
         "Tracy Russo",
         "Male",
         "Iceland",
         null
        ],
        [
         "P0080",
         "Brandon Lynch",
         "Female",
         "Eritrea",
         null
        ],
        [
         "P0081",
         "Amy Kim MD",
         "Female",
         "New Caledonia",
         null
        ],
        [
         "P0082",
         "Sarah House",
         "Female",
         "Cook Islands",
         null
        ],
        [
         "P0083",
         "Natalie Jones",
         "Male",
         "Faroe Islands",
         null
        ],
        [
         "P0084",
         "Troy White",
         "Female",
         "Tokelau",
         null
        ],
        [
         "P0085",
         "Frederick Robertson",
         "Female",
         "Germany",
         null
        ],
        [
         "P0086",
         "Gloria Williams",
         "Male",
         "Somalia",
         null
        ],
        [
         "P0087",
         "Andrew Carr",
         "Male",
         "Andorra",
         null
        ],
        [
         "P0088",
         "Austin Murphy",
         "Female",
         "Lao People's Democratic Republic",
         null
        ],
        [
         "P0089",
         "Daniel Jones",
         "Female",
         "Costa Rica",
         null
        ],
        [
         "P0090",
         "Ryan Anderson",
         "Male",
         "Spain",
         null
        ],
        [
         "P0091",
         "Kenneth Dean",
         "Female",
         "Bhutan",
         null
        ],
        [
         "P0092",
         "Robert Mason",
         "Male",
         "Micronesia",
         null
        ],
        [
         "P0093",
         "Austin Ortega DVM",
         "Female",
         "Korea",
         null
        ],
        [
         "P0094",
         "Kristen Pierce",
         "Male",
         "Tonga",
         null
        ],
        [
         "P0095",
         "Kelsey Hill",
         "Male",
         "Cook Islands",
         null
        ],
        [
         "P0096",
         "Erika Hall",
         "Male",
         "Kenya",
         null
        ],
        [
         "P0097",
         "Kristen Bailey",
         "Male",
         "Bermuda",
         null
        ],
        [
         "P0098",
         "Andrea Mcknight",
         "Male",
         "Samoa",
         null
        ],
        [
         "P0099",
         "Ryan Curry",
         "Female",
         "Qatar",
         null
        ],
        [
         "P0100",
         "Benjamin Cowan",
         "Male",
         "Namibia",
         null
        ],
        [
         "P0101",
         "Dale Figueroa",
         "Female",
         "Albania",
         null
        ],
        [
         "P0102",
         "Michael Collins",
         "Male",
         "Turkey",
         null
        ],
        [
         "P0103",
         "Nicholas Chapman",
         "Male",
         "Jersey",
         null
        ],
        [
         "P0104",
         "Amy Rose",
         "Female",
         "British Virgin Islands",
         null
        ],
        [
         "P0105",
         "James Frederick",
         "Female",
         "Cote d'Ivoire",
         null
        ],
        [
         "P0106",
         "Ashley Freeman",
         "Female",
         "Belize",
         null
        ],
        [
         "P0107",
         "Brittany Young",
         "Female",
         "Taiwan",
         null
        ],
        [
         "P0108",
         "Pamela Byrd",
         "Female",
         "Morocco",
         null
        ],
        [
         "P0109",
         "Brian Mosley",
         "Male",
         "Brunei Darussalam",
         null
        ],
        [
         "P0110",
         "Eric Stephens",
         "Female",
         "Guyana",
         null
        ],
        [
         "P0111",
         "Cheyenne Estes",
         "Male",
         "Nepal",
         null
        ],
        [
         "P0112",
         "William Bailey",
         "Male",
         "Micronesia",
         null
        ],
        [
         "P0113",
         "Timothy Stone",
         "Male",
         "Sierra Leone",
         null
        ],
        [
         "P0114",
         "Charles Stanley",
         "Female",
         "Tonga",
         null
        ],
        [
         "P0115",
         "Diana Fisher",
         "Male",
         "Netherlands",
         null
        ],
        [
         "P0116",
         "Richard Mayer",
         "Male",
         "Cayman Islands",
         null
        ],
        [
         "P0117",
         "Scott Acosta",
         "Female",
         "Hong Kong",
         null
        ],
        [
         "P0118",
         "Anita Figueroa",
         "Male",
         "Mauritania",
         null
        ],
        [
         "P0119",
         "Paul Sanchez",
         "Male",
         "Bouvet Island (Bouvetoya)",
         null
        ],
        [
         "P0120",
         "Tiffany Williams",
         "Female",
         "New Caledonia",
         null
        ],
        [
         "P0121",
         "Bethany Foley",
         "Male",
         "Romania",
         null
        ],
        [
         "P0122",
         "Joshua White",
         "Male",
         "Bouvet Island (Bouvetoya)",
         null
        ],
        [
         "P0123",
         "Stephanie Rush",
         "Female",
         "Belgium",
         null
        ],
        [
         "P0124",
         "Alyssa Herrera",
         "Female",
         "Martinique",
         null
        ],
        [
         "P0125",
         "Katherine Aguilar",
         "Male",
         "Cambodia",
         null
        ],
        [
         "P0126",
         "Charles Wilson",
         "Male",
         "Palau",
         null
        ],
        [
         "P0127",
         "Chloe Conway",
         "Male",
         "Brunei Darussalam",
         null
        ],
        [
         "P0128",
         "Nicole Walters",
         "Male",
         "Dominica",
         null
        ],
        [
         "P0129",
         "Desiree Gonzales",
         "Female",
         "Saint Helena",
         null
        ],
        [
         "P0130",
         "Gregory Alexander",
         "Female",
         "Slovakia (Slovak Republic)",
         null
        ],
        [
         "P0131",
         "Dr. Kyle Salazar",
         "Male",
         "Brazil",
         null
        ],
        [
         "P0132",
         "Makayla Robbins",
         "Male",
         "Kazakhstan",
         null
        ],
        [
         "P0133",
         "Scott Morales",
         "Male",
         "Angola",
         null
        ],
        [
         "P0134",
         "Phyllis Lewis",
         "Female",
         "Northern Mariana Islands",
         null
        ],
        [
         "P0135",
         "David Hamilton",
         "Female",
         "Sri Lanka",
         null
        ],
        [
         "P0136",
         "Melinda Smith",
         "Female",
         "Swaziland",
         null
        ],
        [
         "P0137",
         "Vanessa Fuller",
         "Female",
         "Moldova",
         null
        ],
        [
         "P0138",
         "Christopher Wilkinson",
         "Male",
         "Canada",
         null
        ],
        [
         "P0139",
         "Brent Johnson",
         "Female",
         "Bahamas",
         null
        ],
        [
         "P0140",
         "Mark Taylor",
         "Male",
         "Kyrgyz Republic",
         null
        ],
        [
         "P0141",
         "Joshua Richardson",
         "Female",
         "Northern Mariana Islands",
         null
        ],
        [
         "P0142",
         "Dr. Nancy Jacobs PhD",
         "Male",
         "Belgium",
         null
        ],
        [
         "P0143",
         "Vincent Sanchez",
         "Female",
         "Tuvalu",
         null
        ],
        [
         "P0144",
         "Jennifer Gutierrez",
         "Female",
         "Bulgaria",
         null
        ],
        [
         "P0145",
         "Michael Simmons",
         "Female",
         "Cape Verde",
         null
        ],
        [
         "P0146",
         "Phillip Myers",
         "Female",
         "Slovenia",
         null
        ],
        [
         "P0147",
         "Joshua Mendoza",
         "Male",
         "Tokelau",
         null
        ],
        [
         "P0148",
         "James Camacho",
         "Male",
         "Switzerland",
         null
        ],
        [
         "P0149",
         "Samuel Sellers",
         "Male",
         "Puerto Rico",
         null
        ],
        [
         "P0150",
         "Charles Wade",
         "Male",
         "El Salvador",
         null
        ],
        [
         "P0151",
         "Katherine Young",
         "Male",
         "Nigeria",
         null
        ],
        [
         "P0152",
         "Kristin Cole",
         "Male",
         "Saint Lucia",
         null
        ],
        [
         "P0153",
         "Melissa Patterson",
         "Female",
         "Cambodia",
         null
        ],
        [
         "P0154",
         "Erin Perez",
         "Female",
         "Puerto Rico",
         null
        ],
        [
         "P0155",
         "Rebecca Trujillo",
         "Female",
         "Swaziland",
         null
        ],
        [
         "P0156",
         "Nicole Drake",
         "Female",
         "Jordan",
         null
        ],
        [
         "P0157",
         "Daniel Sawyer",
         "Male",
         "Mayotte",
         null
        ],
        [
         "P0158",
         "Richard Barrett",
         "Male",
         "Brunei Darussalam",
         null
        ],
        [
         "P0159",
         "Nicholas Williams",
         "Male",
         "Austria",
         null
        ],
        [
         "P0160",
         "Juan Pineda",
         "Male",
         "Burkina Faso",
         null
        ],
        [
         "P0161",
         "Edward Morris",
         "Female",
         "Syrian Arab Republic",
         null
        ],
        [
         "P0162",
         "Rebecca Hendricks",
         "Male",
         "Faroe Islands",
         null
        ],
        [
         "P0163",
         "Benjamin Aguilar",
         "Female",
         "Netherlands Antilles",
         null
        ],
        [
         "P0164",
         "Andrew Snyder",
         "Male",
         "Gabon",
         null
        ],
        [
         "P0165",
         "Jessica Hansen",
         "Male",
         "British Indian Ocean Territory (Chagos Archipelago)",
         null
        ],
        [
         "P0166",
         "Walter Thompson",
         "Male",
         "Malaysia",
         null
        ],
        [
         "P0167",
         "Michael Diaz",
         "Female",
         "Kiribati",
         null
        ],
        [
         "P0168",
         "Norman Jones",
         "Female",
         "Faroe Islands",
         null
        ],
        [
         "P0169",
         "Jessica Sampson",
         "Female",
         "Northern Mariana Islands",
         null
        ],
        [
         "P0170",
         "Julie Sullivan",
         "Female",
         "Ireland",
         null
        ],
        [
         "P0171",
         "Brittany Smith",
         "Female",
         "Australia",
         null
        ],
        [
         "P0172",
         "Noah Herrera",
         "Female",
         "Monaco",
         null
        ],
        [
         "P0173",
         "Mary Avila",
         "Male",
         "Rwanda",
         null
        ],
        [
         "P0174",
         "Michael Johnson",
         "Female",
         "Chad",
         null
        ],
        [
         "P0175",
         "Sheri Novak",
         "Male",
         "Turks and Caicos Islands",
         null
        ],
        [
         "P0176",
         "Martin Prince",
         "Male",
         "Central African Republic",
         null
        ],
        [
         "P0177",
         "Eric Tucker",
         "Female",
         "Zambia",
         null
        ],
        [
         "P0178",
         "Brenda Dennis",
         "Male",
         "Saint Lucia",
         null
        ],
        [
         "P0179",
         "Shelby Tucker",
         "Male",
         "Malaysia",
         null
        ],
        [
         "P0180",
         "Chelsea Copeland",
         "Female",
         "Bolivia",
         null
        ],
        [
         "P0181",
         "Ryan Jenkins",
         "Female",
         "Lao People's Democratic Republic",
         null
        ],
        [
         "P0182",
         "Eric Martin",
         "Female",
         "Mauritius",
         null
        ],
        [
         "P0183",
         "Benjamin Garcia",
         "Female",
         "Saint Pierre and Miquelon",
         null
        ],
        [
         "P0184",
         "Evan Scott",
         "Female",
         "South Africa",
         null
        ],
        [
         "P0185",
         "Karen Maynard",
         "Male",
         "Romania",
         null
        ],
        [
         "P0186",
         "Kathryn Foster",
         "Male",
         "Bahrain",
         null
        ],
        [
         "P0187",
         "Christopher Wade",
         "Female",
         "Lesotho",
         null
        ],
        [
         "P0188",
         "Yvette Morton",
         "Female",
         "Vanuatu",
         null
        ],
        [
         "P0189",
         "Joel Gomez",
         "Female",
         "Bulgaria",
         null
        ],
        [
         "P0190",
         "Joyce Parker",
         "Male",
         "Lebanon",
         null
        ],
        [
         "P0191",
         "Linda Moore",
         "Male",
         "Norfolk Island",
         null
        ],
        [
         "P0192",
         "Dr. Chris Dean",
         "Female",
         "Seychelles",
         null
        ],
        [
         "P0193",
         "Dr. Justin Rivera",
         "Male",
         "India",
         null
        ],
        [
         "P0194",
         "Tommy Baker",
         "Male",
         "Venezuela",
         null
        ],
        [
         "P0195",
         "Lisa Bautista",
         "Male",
         "Honduras",
         null
        ],
        [
         "P0196",
         "Jamie Simon",
         "Female",
         "Nicaragua",
         null
        ],
        [
         "P0197",
         "Alicia Parks",
         "Male",
         "Georgia",
         null
        ],
        [
         "P0198",
         "Timothy Carroll",
         "Male",
         "Korea",
         null
        ],
        [
         "P0199",
         "Marie Gonzales",
         "Male",
         "Kazakhstan",
         null
        ],
        [
         "P0200",
         "Jim Berry",
         "Female",
         "Trinidad and Tobago",
         null
        ],
        [
         "P0201",
         "Michele Perry",
         "Male",
         "Czech Republic",
         null
        ],
        [
         "P0202",
         "Javier Mccormick",
         "Male",
         "Bolivia",
         null
        ],
        [
         "P0203",
         "Michelle Alvarado",
         "Male",
         "Iraq",
         null
        ],
        [
         "P0204",
         "Jamie Harrell",
         "Female",
         "Norway",
         null
        ],
        [
         "P0205",
         "James Bender",
         "Female",
         "Saint Barthelemy",
         null
        ],
        [
         "P0206",
         "Amy Burns",
         "Female",
         "Malta",
         null
        ],
        [
         "P0207",
         "Angela Sparks",
         "Male",
         "Nicaragua",
         null
        ],
        [
         "P0208",
         "Cynthia Salas",
         "Male",
         "United States of America",
         null
        ],
        [
         "P0209",
         "Christine Norman",
         "Female",
         "Sudan",
         null
        ],
        [
         "P0210",
         "Robert Davis",
         "Male",
         "Puerto Rico",
         null
        ],
        [
         "P0211",
         "Gregory Williams",
         "Female",
         "Trinidad and Tobago",
         null
        ],
        [
         "P0212",
         "Suzanne Myers",
         "Male",
         "Algeria",
         null
        ],
        [
         "P0213",
         "Norman Daniel",
         "Female",
         "Korea",
         null
        ],
        [
         "P0214",
         "Vanessa Yang",
         "Female",
         "Bhutan",
         null
        ],
        [
         "P0215",
         "Alexander Smith",
         "Female",
         "Mali",
         null
        ],
        [
         "P0216",
         "Michele Hunter",
         "Male",
         "Cambodia",
         null
        ],
        [
         "P0217",
         "Emily Buchanan",
         "Female",
         "Uganda",
         null
        ],
        [
         "P0218",
         "David Rhodes",
         "Female",
         "Saint Vincent and the Grenadines",
         null
        ],
        [
         "P0219",
         "Mary Burke",
         "Female",
         "Heard Island and McDonald Islands",
         null
        ],
        [
         "P0220",
         "Robert Johnson",
         "Female",
         "Nigeria",
         null
        ],
        [
         "P0049",
         "Justin Thomas",
         "Female",
         "Tokelau",
         null
        ],
        [
         "P0108",
         "Brian Anderson",
         "Female",
         "Eritrea",
         null
        ],
        [
         "P0113",
         "Brian Richardson",
         "Male",
         "Dominican Republic",
         null
        ],
        [
         "P0106",
         "Joshua Shepherd Jr.",
         "Female",
         "Netherlands",
         null
        ],
        [
         "P0149",
         "Katherine Bowen DVM",
         "Male",
         "Mexico",
         null
        ],
        [
         "P0154",
         "Angel Thompson",
         "Female",
         "Gambia",
         null
        ],
        [
         "P0196",
         "Monica Dillon",
         "Female",
         "Belarus",
         null
        ],
        [
         "P0155",
         "Robert Singleton",
         "Female",
         "Northern Mariana Islands",
         null
        ],
        [
         "P0032",
         "Daniel Douglas",
         "Male",
         "Singapore",
         null
        ],
        [
         "P0158",
         "Jamie Mcneil",
         "Male",
         "Burundi",
         null
        ],
        [
         "P0221",
         "Amy Welch",
         "Male",
         "Croatia",
         null
        ],
        [
         "P0222",
         "Maria Taylor",
         "Male",
         "Lao People's Democratic Republic",
         null
        ],
        [
         "P0223",
         "Nicholas Gomez",
         "Female",
         "Cook Islands",
         null
        ],
        [
         "P0224",
         "Jason Jensen",
         "Female",
         "Rwanda",
         null
        ],
        [
         "P0225",
         "William Lopez",
         "Male",
         "Heard Island and McDonald Islands",
         null
        ]
       ],
       "datasetInfos": [
        {
         "name": "_sqldf",
         "schema": {
          "fields": [
           {
            "metadata": {},
            "name": "passenger_id",
            "nullable": true,
            "type": "string"
           },
           {
            "metadata": {},
            "name": "name",
            "nullable": true,
            "type": "string"
           },
           {
            "metadata": {},
            "name": "gender",
            "nullable": true,
            "type": "string"
           },
           {
            "metadata": {},
            "name": "nationality",
            "nullable": true,
            "type": "string"
           },
           {
            "metadata": {},
            "name": "_rescued_data",
            "nullable": true,
            "type": "string"
           }
          ],
          "type": "struct"
         },
         "tableIdentifier": null,
         "typeStr": "pyspark.sql.connect.dataframe.DataFrame"
        }
       ],
       "dbfsResultPath": null,
       "isJsonSchema": true,
       "metadata": {
        "createTempViewForImplicitDf": true,
        "dataframeName": "_sqldf",
        "executionCount": 8
       },
       "overflow": false,
       "plotOptions": {
        "customPlotOptions": {},
        "displayType": "table",
        "pivotAggregation": null,
        "pivotColumns": null,
        "xColumns": null,
        "yColumns": null
       },
       "removedWidgets": [],
       "schema": [
        {
         "metadata": "{}",
         "name": "passenger_id",
         "type": "\"string\""
        },
        {
         "metadata": "{}",
         "name": "name",
         "type": "\"string\""
        },
        {
         "metadata": "{}",
         "name": "gender",
         "type": "\"string\""
        },
        {
         "metadata": "{}",
         "name": "nationality",
         "type": "\"string\""
        },
        {
         "metadata": "{}",
         "name": "_rescued_data",
         "type": "\"string\""
        }
       ],
       "type": "table"
      }
     },
     "output_type": "display_data"
    }
   ],
   "source": [
    "%sql\n",
    "SELECT * FROM delta.`/Volumes/workspace/bronze/bronzevolume/customers/data`"
   ]
  },
  {
   "cell_type": "code",
   "execution_count": 0,
   "metadata": {
    "application/vnd.databricks.v1+cell": {
     "cellMetadata": {
      "byteLimit": 2048000,
      "rowLimit": 10000
     },
     "inputWidgets": {},
     "nuid": "bd841259-58b1-4b0d-a9d3-5e071a25f177",
     "showTitle": false,
     "tableResultSettingsMap": {},
     "title": ""
    }
   },
   "outputs": [],
   "source": []
  }
 ],
 "metadata": {
  "application/vnd.databricks.v1+notebook": {
   "computePreferences": null,
   "dashboards": [],
   "environmentMetadata": {
    "base_environment": "",
    "environment_version": "2"
   },
   "inputWidgetPreferences": null,
   "language": "python",
   "notebookMetadata": {
    "mostRecentlyExecutedCommandWithImplicitDF": {
     "commandId": 4736286406082224,
     "dataframes": [
      "_sqldf"
     ]
    },
    "pythonIndentUnit": 4
   },
   "notebookName": "BronzeLayer",
   "widgets": {
    "src": {
     "currentValue": "customers",
     "nuid": "dc73e829-0697-49f1-b964-7bbf4523935c",
     "typedWidgetInfo": {
      "autoCreated": false,
      "defaultValue": "",
      "label": null,
      "name": "src",
      "options": {
       "widgetDisplayType": "Text",
       "validationRegex": null
      },
      "parameterDataType": "String"
     },
     "widgetInfo": {
      "widgetType": "text",
      "defaultValue": "",
      "label": null,
      "name": "src",
      "options": {
       "widgetType": "text",
       "autoCreated": null,
       "validationRegex": null
      }
     }
    }
   }
  },
  "language_info": {
   "name": "python"
  }
 },
 "nbformat": 4,
 "nbformat_minor": 0
}
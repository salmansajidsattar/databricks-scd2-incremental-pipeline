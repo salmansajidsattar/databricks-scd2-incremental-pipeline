{
 "cells": [
  {
   "cell_type": "code",
   "execution_count": 0,
   "metadata": {
    "application/vnd.databricks.v1+cell": {
     "cellMetadata": {
      "byteLimit": 2048000,
      "implicitDf": true,
      "rowLimit": 10000
     },
     "inputWidgets": {},
     "nuid": "bb310113-434a-456d-b0d0-c14e2eb23c16",
     "showTitle": false,
     "tableResultSettingsMap": {},
     "title": ""
    }
   },
   "outputs": [],
   "source": [
    "%sql\n",
    "CREATE VOLUME workspace.raw.rawvolume\n"
   ]
  },
  {
   "cell_type": "code",
   "execution_count": 0,
   "metadata": {
    "application/vnd.databricks.v1+cell": {
     "cellMetadata": {
      "byteLimit": 2048000,
      "implicitDf": true,
      "rowLimit": 10000
     },
     "inputWidgets": {},
     "nuid": "8b45d641-e115-4231-8709-875cc351e16a",
     "showTitle": false,
     "tableResultSettingsMap": {},
     "title": ""
    }
   },
   "outputs": [],
   "source": [
    "%sql\n",
    "CREATE SCHEMA workspace.gold"
   ]
  },
  {
   "cell_type": "code",
   "execution_count": 0,
   "metadata": {
    "application/vnd.databricks.v1+cell": {
     "cellMetadata": {
      "byteLimit": 2048000,
      "rowLimit": 10000
     },
     "inputWidgets": {},
     "nuid": "aef5a93e-bb0d-4d48-87ce-ccbbdfdda2af",
     "showTitle": false,
     "tableResultSettingsMap": {},
     "title": ""
    }
   },
   "outputs": [
    {
     "output_type": "execute_result",
     "data": {
      "text/plain": [
       "True"
      ]
     },
     "execution_count": 9,
     "metadata": {},
     "output_type": "execute_result"
    }
   ],
   "source": [
    "dbutils.fs.mkdirs(\"/Volumes/workspace/raw/rawvolume/rawdata/airports\")"
   ]
  },
  {
   "cell_type": "code",
   "execution_count": 0,
   "metadata": {
    "application/vnd.databricks.v1+cell": {
     "cellMetadata": {
      "byteLimit": 2048000,
      "implicitDf": true,
      "rowLimit": 10000
     },
     "inputWidgets": {},
     "nuid": "e7b1d5a6-2071-4696-895a-8745c889a4d9",
     "showTitle": false,
     "tableResultSettingsMap": {},
     "title": ""
    }
   },
   "outputs": [
    {
     "output_type": "display_data",
     "data": {
      "text/html": [
       "<style scoped>\n",
       "  .table-result-container {\n",
       "    max-height: 300px;\n",
       "    overflow: auto;\n",
       "  }\n",
       "  table, th, td {\n",
       "    border: 1px solid black;\n",
       "    border-collapse: collapse;\n",
       "  }\n",
       "  th, td {\n",
       "    padding: 5px;\n",
       "  }\n",
       "  th {\n",
       "    text-align: left;\n",
       "  }\n",
       "</style><div class='table-result-container'><table class='table-result'><thead style='background-color: white'><tr><th>flight_id</th><th>airline</th><th>origin</th><th>destination</th><th>flight_date</th><th>_rescued_data</th></tr></thead><tbody><tr><td>F0001</td><td>Delta</td><td>Kellyfort</td><td>South Kathleen</td><td>2025-05-04</td><td>null</td></tr><tr><td>F0002</td><td>Qatar Airways</td><td>Lake Stephen</td><td>New Vincent</td><td>2025-04-29</td><td>null</td></tr><tr><td>F0003</td><td>Lufthansa</td><td>East Patrickborough</td><td>North Mary</td><td>2025-05-11</td><td>null</td></tr><tr><td>F0004</td><td>Delta</td><td>Maddenshire</td><td>Johnchester</td><td>2025-05-16</td><td>null</td></tr><tr><td>F0005</td><td>Qatar Airways</td><td>Bennettside</td><td>New Mistyhaven</td><td>2025-06-13</td><td>null</td></tr><tr><td>F0006</td><td>Air Canada</td><td>New Richardside</td><td>South Jamesborough</td><td>2025-05-16</td><td>null</td></tr><tr><td>F0007</td><td>Delta</td><td>Berryport</td><td>Miguelburgh</td><td>2025-05-24</td><td>null</td></tr><tr><td>F0008</td><td>Lufthansa</td><td>Briannachester</td><td>Cervantesland</td><td>2025-05-26</td><td>null</td></tr><tr><td>F0009</td><td>Delta</td><td>Alexandraborough</td><td>North Alexishaven</td><td>2025-06-10</td><td>null</td></tr><tr><td>F0010</td><td>Emirates</td><td>Kruegerchester</td><td>Martintown</td><td>2025-05-20</td><td>null</td></tr><tr><td>F0011</td><td>Lufthansa</td><td>Port Joannahaven</td><td>North Jasonton</td><td>2025-05-30</td><td>null</td></tr><tr><td>F0012</td><td>Air Canada</td><td>New Hunter</td><td>East Maria</td><td>2025-04-23</td><td>null</td></tr><tr><td>F0013</td><td>Air Canada</td><td>East Brian</td><td>Wayneton</td><td>2025-05-21</td><td>null</td></tr><tr><td>F0014</td><td>Air Canada</td><td>Toddland</td><td>Gonzalezport</td><td>2025-05-28</td><td>null</td></tr><tr><td>F0015</td><td>Delta</td><td>West Ginaton</td><td>Youngmouth</td><td>2025-05-21</td><td>null</td></tr><tr><td>F0016</td><td>Qatar Airways</td><td>Smithborough</td><td>Randallview</td><td>2025-05-02</td><td>null</td></tr><tr><td>F0017</td><td>Delta</td><td>Wallermouth</td><td>New Rogerberg</td><td>2025-05-04</td><td>null</td></tr><tr><td>F0018</td><td>Air Canada</td><td>Schultzborough</td><td>Danielton</td><td>2025-06-01</td><td>null</td></tr><tr><td>F0019</td><td>Lufthansa</td><td>Lake Scott</td><td>Christineborough</td><td>2025-05-18</td><td>null</td></tr><tr><td>F0020</td><td>Lufthansa</td><td>North Jack</td><td>Loweville</td><td>2025-06-02</td><td>null</td></tr><tr><td>F0021</td><td>Emirates</td><td>South Sara</td><td>North Annaport</td><td>2025-05-29</td><td>null</td></tr><tr><td>F0022</td><td>Air Canada</td><td>Reedchester</td><td>Cruzton</td><td>2025-04-27</td><td>null</td></tr><tr><td>F0023</td><td>Lufthansa</td><td>Port Jeremyfurt</td><td>Lake Walterside</td><td>2025-05-11</td><td>null</td></tr><tr><td>F0024</td><td>Lufthansa</td><td>Leestad</td><td>Port Debra</td><td>2025-05-09</td><td>null</td></tr><tr><td>F0025</td><td>Qatar Airways</td><td>Chelseaberg</td><td>North Michaelshire</td><td>2025-06-01</td><td>null</td></tr><tr><td>F0026</td><td>Air Canada</td><td>New Deborahfort</td><td>New Sabrina</td><td>2025-05-10</td><td>null</td></tr><tr><td>F0027</td><td>Delta</td><td>Acevedoville</td><td>Ericchester</td><td>2025-05-14</td><td>null</td></tr><tr><td>F0028</td><td>Delta</td><td>South Michaelberg</td><td>South Markbury</td><td>2025-05-30</td><td>null</td></tr><tr><td>F0029</td><td>Qatar Airways</td><td>Shortberg</td><td>Julieburgh</td><td>2025-05-11</td><td>null</td></tr><tr><td>F0030</td><td>Delta</td><td>Angelamouth</td><td>Sosaside</td><td>2025-06-16</td><td>null</td></tr><tr><td>F0031</td><td>Emirates</td><td>Billview</td><td>Jonathonborough</td><td>2025-06-14</td><td>null</td></tr><tr><td>F0032</td><td>Emirates</td><td>Bushhaven</td><td>Patriciamouth</td><td>2025-05-22</td><td>null</td></tr><tr><td>F0033</td><td>Air Canada</td><td>Sandersshire</td><td>Lake Joseside</td><td>2025-06-21</td><td>null</td></tr><tr><td>F0034</td><td>Emirates</td><td>Johnsonville</td><td>Cooperland</td><td>2025-05-18</td><td>null</td></tr><tr><td>F0035</td><td>Lufthansa</td><td>Karenshire</td><td>North Anthonymouth</td><td>2025-05-21</td><td>null</td></tr><tr><td>F0036</td><td>Lufthansa</td><td>Armstrongbury</td><td>North Natashamouth</td><td>2025-05-05</td><td>null</td></tr><tr><td>F0037</td><td>Air Canada</td><td>Yangville</td><td>Jacksonview</td><td>2025-04-29</td><td>null</td></tr><tr><td>F0038</td><td>Delta</td><td>Port Nicole</td><td>South Corey</td><td>2025-05-22</td><td>null</td></tr><tr><td>F0039</td><td>Air Canada</td><td>Paultown</td><td>Kellyton</td><td>2025-05-19</td><td>null</td></tr><tr><td>F0040</td><td>Delta</td><td>Ianport</td><td>Lake Reginaldside</td><td>2025-04-23</td><td>null</td></tr><tr><td>F0041</td><td>Air Canada</td><td>Lake Stanleyside</td><td>Port Scott</td><td>2025-06-14</td><td>null</td></tr><tr><td>F0042</td><td>Air Canada</td><td>Port William</td><td>Darrenmouth</td><td>2025-05-11</td><td>null</td></tr><tr><td>F0043</td><td>Lufthansa</td><td>Kimberlyborough</td><td>New Annfort</td><td>2025-05-15</td><td>null</td></tr><tr><td>F0044</td><td>Qatar Airways</td><td>East Kaylaburgh</td><td>Lake Carolynchester</td><td>2025-06-01</td><td>null</td></tr><tr><td>F0045</td><td>Emirates</td><td>North Michaelville</td><td>Russellton</td><td>2025-05-04</td><td>null</td></tr><tr><td>F0046</td><td>Qatar Airways</td><td>West David</td><td>North Becky</td><td>2025-04-30</td><td>null</td></tr><tr><td>F0047</td><td>Lufthansa</td><td>New Cory</td><td>Lorettashire</td><td>2025-05-05</td><td>null</td></tr><tr><td>F0048</td><td>Lufthansa</td><td>Cooperview</td><td>Michelleburgh</td><td>2025-05-24</td><td>null</td></tr><tr><td>F0049</td><td>Emirates</td><td>New Elizabethmouth</td><td>Lake Heathermouth</td><td>2025-05-06</td><td>null</td></tr><tr><td>F0050</td><td>Air Canada</td><td>East Gailtown</td><td>Stevenville</td><td>2025-04-28</td><td>null</td></tr><tr><td>F0051</td><td>Qatar Airways</td><td>Lisafurt</td><td>New Robert</td><td>2025-05-07</td><td>null</td></tr><tr><td>F0052</td><td>Qatar Airways</td><td>Lake Richard</td><td>Brookston</td><td>2025-05-28</td><td>null</td></tr><tr><td>F0053</td><td>Qatar Airways</td><td>West Dylanbury</td><td>North Wendy</td><td>2025-05-24</td><td>null</td></tr><tr><td>F0054</td><td>Air Canada</td><td>Seanmouth</td><td>North Kathyton</td><td>2025-05-09</td><td>null</td></tr><tr><td>F0055</td><td>Air Canada</td><td>Spencerborough</td><td>Randyville</td><td>2025-06-09</td><td>null</td></tr><tr><td>F0056</td><td>Lufthansa</td><td>South Natalie</td><td>Schaefertown</td><td>2025-05-03</td><td>null</td></tr><tr><td>F0057</td><td>Air Canada</td><td>Samanthashire</td><td>Fisherstad</td><td>2025-06-09</td><td>null</td></tr><tr><td>F0058</td><td>Delta</td><td>North Brittanyborough</td><td>West Kellystad</td><td>2025-06-10</td><td>null</td></tr><tr><td>F0059</td><td>Lufthansa</td><td>South Jeffrey</td><td>Jamesland</td><td>2025-05-10</td><td>null</td></tr><tr><td>F0060</td><td>Air Canada</td><td>Port Angelicaborough</td><td>East Daniel</td><td>2025-05-21</td><td>null</td></tr><tr><td>F0061</td><td>Lufthansa</td><td>Dawnshire</td><td>Stevenmouth</td><td>2025-04-24</td><td>null</td></tr><tr><td>F0062</td><td>Lufthansa</td><td>East Samanthafurt</td><td>Lake Troy</td><td>2025-05-12</td><td>null</td></tr><tr><td>F0063</td><td>Lufthansa</td><td>Floresshire</td><td>New Anita</td><td>2025-06-03</td><td>null</td></tr><tr><td>F0064</td><td>Delta</td><td>East Joshuastad</td><td>North Austinland</td><td>2025-05-25</td><td>null</td></tr><tr><td>F0065</td><td>Emirates</td><td>East Paulland</td><td>Barnesberg</td><td>2025-04-29</td><td>null</td></tr><tr><td>F0066</td><td>Qatar Airways</td><td>Stephenberg</td><td>Marcborough</td><td>2025-06-04</td><td>null</td></tr><tr><td>F0067</td><td>Delta</td><td>Campbellborough</td><td>South Jason</td><td>2025-05-13</td><td>null</td></tr><tr><td>F0068</td><td>Qatar Airways</td><td>Lake Seanport</td><td>Fieldsstad</td><td>2025-06-17</td><td>null</td></tr><tr><td>F0069</td><td>Qatar Airways</td><td>Johnsonburgh</td><td>Woodmouth</td><td>2025-06-14</td><td>null</td></tr><tr><td>F0070</td><td>Air Canada</td><td>Glennhaven</td><td>Port Darrenchester</td><td>2025-05-04</td><td>null</td></tr><tr><td>F0071</td><td>Delta</td><td>Jefferyberg</td><td>Wendyshire</td><td>2025-06-17</td><td>null</td></tr><tr><td>F0072</td><td>Emirates</td><td>Heiditown</td><td>Port Sabrinaburgh</td><td>2025-05-22</td><td>null</td></tr><tr><td>F0073</td><td>Lufthansa</td><td>South Jasonville</td><td>Clarkeshire</td><td>2025-06-09</td><td>null</td></tr><tr><td>F0074</td><td>Air Canada</td><td>Duffyville</td><td>Port Vanessa</td><td>2025-05-28</td><td>null</td></tr><tr><td>F0075</td><td>Qatar Airways</td><td>New Danielhaven</td><td>Cunninghamfurt</td><td>2025-04-27</td><td>null</td></tr><tr><td>F0076</td><td>Lufthansa</td><td>Johnsonchester</td><td>New Michael</td><td>2025-05-14</td><td>null</td></tr><tr><td>F0077</td><td>Qatar Airways</td><td>Samuelfort</td><td>Port Ashley</td><td>2025-06-12</td><td>null</td></tr><tr><td>F0078</td><td>Qatar Airways</td><td>Howardbury</td><td>Burchburgh</td><td>2025-05-09</td><td>null</td></tr><tr><td>F0079</td><td>Delta</td><td>Jonesburgh</td><td>Andradeville</td><td>2025-06-17</td><td>null</td></tr><tr><td>F0080</td><td>Emirates</td><td>Sonyaberg</td><td>East Sarah</td><td>2025-06-13</td><td>null</td></tr><tr><td>F0081</td><td>Air Canada</td><td>North Barry</td><td>Josephborough</td><td>2025-04-24</td><td>null</td></tr><tr><td>F0082</td><td>Qatar Airways</td><td>North Erikamouth</td><td>Danielfort</td><td>2025-05-19</td><td>null</td></tr><tr><td>F0083</td><td>Lufthansa</td><td>Jasonborough</td><td>Port Audreyville</td><td>2025-05-30</td><td>null</td></tr><tr><td>F0084</td><td>Delta</td><td>Franklinmouth</td><td>Lake Joseph</td><td>2025-05-30</td><td>null</td></tr><tr><td>F0085</td><td>Lufthansa</td><td>Hillton</td><td>Castroborough</td><td>2025-05-19</td><td>null</td></tr><tr><td>F0086</td><td>Delta</td><td>Port Chelsea</td><td>Robertchester</td><td>2025-05-08</td><td>null</td></tr><tr><td>F0087</td><td>Emirates</td><td>Kellyland</td><td>New Jonathanmouth</td><td>2025-04-23</td><td>null</td></tr><tr><td>F0088</td><td>Qatar Airways</td><td>North Miguel</td><td>Lake Allisonfurt</td><td>2025-05-28</td><td>null</td></tr><tr><td>F0089</td><td>Qatar Airways</td><td>Robinsonberg</td><td>Adrianchester</td><td>2025-05-21</td><td>null</td></tr><tr><td>F0090</td><td>Delta</td><td>East Rachelport</td><td>Davisport</td><td>2025-05-23</td><td>null</td></tr><tr><td>F0091</td><td>Lufthansa</td><td>Lake Scott</td><td>Williamshire</td><td>2025-06-04</td><td>null</td></tr><tr><td>F0092</td><td>Lufthansa</td><td>Austinborough</td><td>Bautistafort</td><td>2025-05-29</td><td>null</td></tr><tr><td>F0093</td><td>Air Canada</td><td>Frenchside</td><td>West Christopher</td><td>2025-05-28</td><td>null</td></tr><tr><td>F0094</td><td>Emirates</td><td>South Amyfurt</td><td>Jimenezview</td><td>2025-06-14</td><td>null</td></tr><tr><td>F0095</td><td>Qatar Airways</td><td>North Dawnberg</td><td>East Sarahmouth</td><td>2025-05-26</td><td>null</td></tr><tr><td>F0096</td><td>Lufthansa</td><td>Coreyfort</td><td>West Joseph</td><td>2025-06-06</td><td>null</td></tr><tr><td>F0097</td><td>Emirates</td><td>Billyport</td><td>Brentton</td><td>2025-05-18</td><td>null</td></tr><tr><td>F0098</td><td>Air Canada</td><td>Wallerburgh</td><td>Lake Karen</td><td>2025-05-01</td><td>null</td></tr><tr><td>F0099</td><td>Air Canada</td><td>Lake Connor</td><td>Matthewberg</td><td>2025-04-28</td><td>null</td></tr><tr><td>F0100</td><td>Qatar Airways</td><td>Port Anthony</td><td>Thompsonfort</td><td>2025-05-31</td><td>null</td></tr><tr><td>F0101</td><td>Qatar Airways</td><td>Lake Joshuamouth</td><td>Johnshire</td><td>2025-07-14</td><td>null</td></tr><tr><td>F0102</td><td>Delta</td><td>Schroederbury</td><td>Sethfort</td><td>2025-06-25</td><td>null</td></tr><tr><td>F0103</td><td>Qatar Airways</td><td>Jameschester</td><td>Ashleyberg</td><td>2025-07-15</td><td>null</td></tr><tr><td>F0104</td><td>Qatar Airways</td><td>Huangstad</td><td>Catherinehaven</td><td>2025-06-29</td><td>null</td></tr><tr><td>F0105</td><td>Air Canada</td><td>Aprilton</td><td>Victorville</td><td>2025-07-05</td><td>null</td></tr><tr><td>F0106</td><td>Lufthansa</td><td>East Austinmouth</td><td>New Toddburgh</td><td>2025-06-22</td><td>null</td></tr><tr><td>F0107</td><td>Air Canada</td><td>Mitchelltown</td><td>Johnsonbury</td><td>2025-07-01</td><td>null</td></tr><tr><td>F0108</td><td>Lufthansa</td><td>New Jennifer</td><td>Lake Tracie</td><td>2025-06-28</td><td>null</td></tr><tr><td>F0109</td><td>Air Canada</td><td>Williamsland</td><td>South Carolberg</td><td>2025-06-14</td><td>null</td></tr><tr><td>F0110</td><td>Emirates</td><td>Churchport</td><td>Wrightton</td><td>2025-07-15</td><td>null</td></tr></tbody></table></div>"
      ]
     },
     "metadata": {
      "application/vnd.databricks.v1+output": {
       "addedWidgets": {},
       "aggData": [],
       "aggError": "",
       "aggOverflow": false,
       "aggSchema": [],
       "aggSeriesLimitReached": false,
       "aggType": "",
       "arguments": {},
       "columnCustomDisplayInfos": {},
       "data": [
        [
         "F0001",
         "Delta",
         "Kellyfort",
         "South Kathleen",
         "2025-05-04",
         null
        ],
        [
         "F0002",
         "Qatar Airways",
         "Lake Stephen",
         "New Vincent",
         "2025-04-29",
         null
        ],
        [
         "F0003",
         "Lufthansa",
         "East Patrickborough",
         "North Mary",
         "2025-05-11",
         null
        ],
        [
         "F0004",
         "Delta",
         "Maddenshire",
         "Johnchester",
         "2025-05-16",
         null
        ],
        [
         "F0005",
         "Qatar Airways",
         "Bennettside",
         "New Mistyhaven",
         "2025-06-13",
         null
        ],
        [
         "F0006",
         "Air Canada",
         "New Richardside",
         "South Jamesborough",
         "2025-05-16",
         null
        ],
        [
         "F0007",
         "Delta",
         "Berryport",
         "Miguelburgh",
         "2025-05-24",
         null
        ],
        [
         "F0008",
         "Lufthansa",
         "Briannachester",
         "Cervantesland",
         "2025-05-26",
         null
        ],
        [
         "F0009",
         "Delta",
         "Alexandraborough",
         "North Alexishaven",
         "2025-06-10",
         null
        ],
        [
         "F0010",
         "Emirates",
         "Kruegerchester",
         "Martintown",
         "2025-05-20",
         null
        ],
        [
         "F0011",
         "Lufthansa",
         "Port Joannahaven",
         "North Jasonton",
         "2025-05-30",
         null
        ],
        [
         "F0012",
         "Air Canada",
         "New Hunter",
         "East Maria",
         "2025-04-23",
         null
        ],
        [
         "F0013",
         "Air Canada",
         "East Brian",
         "Wayneton",
         "2025-05-21",
         null
        ],
        [
         "F0014",
         "Air Canada",
         "Toddland",
         "Gonzalezport",
         "2025-05-28",
         null
        ],
        [
         "F0015",
         "Delta",
         "West Ginaton",
         "Youngmouth",
         "2025-05-21",
         null
        ],
        [
         "F0016",
         "Qatar Airways",
         "Smithborough",
         "Randallview",
         "2025-05-02",
         null
        ],
        [
         "F0017",
         "Delta",
         "Wallermouth",
         "New Rogerberg",
         "2025-05-04",
         null
        ],
        [
         "F0018",
         "Air Canada",
         "Schultzborough",
         "Danielton",
         "2025-06-01",
         null
        ],
        [
         "F0019",
         "Lufthansa",
         "Lake Scott",
         "Christineborough",
         "2025-05-18",
         null
        ],
        [
         "F0020",
         "Lufthansa",
         "North Jack",
         "Loweville",
         "2025-06-02",
         null
        ],
        [
         "F0021",
         "Emirates",
         "South Sara",
         "North Annaport",
         "2025-05-29",
         null
        ],
        [
         "F0022",
         "Air Canada",
         "Reedchester",
         "Cruzton",
         "2025-04-27",
         null
        ],
        [
         "F0023",
         "Lufthansa",
         "Port Jeremyfurt",
         "Lake Walterside",
         "2025-05-11",
         null
        ],
        [
         "F0024",
         "Lufthansa",
         "Leestad",
         "Port Debra",
         "2025-05-09",
         null
        ],
        [
         "F0025",
         "Qatar Airways",
         "Chelseaberg",
         "North Michaelshire",
         "2025-06-01",
         null
        ],
        [
         "F0026",
         "Air Canada",
         "New Deborahfort",
         "New Sabrina",
         "2025-05-10",
         null
        ],
        [
         "F0027",
         "Delta",
         "Acevedoville",
         "Ericchester",
         "2025-05-14",
         null
        ],
        [
         "F0028",
         "Delta",
         "South Michaelberg",
         "South Markbury",
         "2025-05-30",
         null
        ],
        [
         "F0029",
         "Qatar Airways",
         "Shortberg",
         "Julieburgh",
         "2025-05-11",
         null
        ],
        [
         "F0030",
         "Delta",
         "Angelamouth",
         "Sosaside",
         "2025-06-16",
         null
        ],
        [
         "F0031",
         "Emirates",
         "Billview",
         "Jonathonborough",
         "2025-06-14",
         null
        ],
        [
         "F0032",
         "Emirates",
         "Bushhaven",
         "Patriciamouth",
         "2025-05-22",
         null
        ],
        [
         "F0033",
         "Air Canada",
         "Sandersshire",
         "Lake Joseside",
         "2025-06-21",
         null
        ],
        [
         "F0034",
         "Emirates",
         "Johnsonville",
         "Cooperland",
         "2025-05-18",
         null
        ],
        [
         "F0035",
         "Lufthansa",
         "Karenshire",
         "North Anthonymouth",
         "2025-05-21",
         null
        ],
        [
         "F0036",
         "Lufthansa",
         "Armstrongbury",
         "North Natashamouth",
         "2025-05-05",
         null
        ],
        [
         "F0037",
         "Air Canada",
         "Yangville",
         "Jacksonview",
         "2025-04-29",
         null
        ],
        [
         "F0038",
         "Delta",
         "Port Nicole",
         "South Corey",
         "2025-05-22",
         null
        ],
        [
         "F0039",
         "Air Canada",
         "Paultown",
         "Kellyton",
         "2025-05-19",
         null
        ],
        [
         "F0040",
         "Delta",
         "Ianport",
         "Lake Reginaldside",
         "2025-04-23",
         null
        ],
        [
         "F0041",
         "Air Canada",
         "Lake Stanleyside",
         "Port Scott",
         "2025-06-14",
         null
        ],
        [
         "F0042",
         "Air Canada",
         "Port William",
         "Darrenmouth",
         "2025-05-11",
         null
        ],
        [
         "F0043",
         "Lufthansa",
         "Kimberlyborough",
         "New Annfort",
         "2025-05-15",
         null
        ],
        [
         "F0044",
         "Qatar Airways",
         "East Kaylaburgh",
         "Lake Carolynchester",
         "2025-06-01",
         null
        ],
        [
         "F0045",
         "Emirates",
         "North Michaelville",
         "Russellton",
         "2025-05-04",
         null
        ],
        [
         "F0046",
         "Qatar Airways",
         "West David",
         "North Becky",
         "2025-04-30",
         null
        ],
        [
         "F0047",
         "Lufthansa",
         "New Cory",
         "Lorettashire",
         "2025-05-05",
         null
        ],
        [
         "F0048",
         "Lufthansa",
         "Cooperview",
         "Michelleburgh",
         "2025-05-24",
         null
        ],
        [
         "F0049",
         "Emirates",
         "New Elizabethmouth",
         "Lake Heathermouth",
         "2025-05-06",
         null
        ],
        [
         "F0050",
         "Air Canada",
         "East Gailtown",
         "Stevenville",
         "2025-04-28",
         null
        ],
        [
         "F0051",
         "Qatar Airways",
         "Lisafurt",
         "New Robert",
         "2025-05-07",
         null
        ],
        [
         "F0052",
         "Qatar Airways",
         "Lake Richard",
         "Brookston",
         "2025-05-28",
         null
        ],
        [
         "F0053",
         "Qatar Airways",
         "West Dylanbury",
         "North Wendy",
         "2025-05-24",
         null
        ],
        [
         "F0054",
         "Air Canada",
         "Seanmouth",
         "North Kathyton",
         "2025-05-09",
         null
        ],
        [
         "F0055",
         "Air Canada",
         "Spencerborough",
         "Randyville",
         "2025-06-09",
         null
        ],
        [
         "F0056",
         "Lufthansa",
         "South Natalie",
         "Schaefertown",
         "2025-05-03",
         null
        ],
        [
         "F0057",
         "Air Canada",
         "Samanthashire",
         "Fisherstad",
         "2025-06-09",
         null
        ],
        [
         "F0058",
         "Delta",
         "North Brittanyborough",
         "West Kellystad",
         "2025-06-10",
         null
        ],
        [
         "F0059",
         "Lufthansa",
         "South Jeffrey",
         "Jamesland",
         "2025-05-10",
         null
        ],
        [
         "F0060",
         "Air Canada",
         "Port Angelicaborough",
         "East Daniel",
         "2025-05-21",
         null
        ],
        [
         "F0061",
         "Lufthansa",
         "Dawnshire",
         "Stevenmouth",
         "2025-04-24",
         null
        ],
        [
         "F0062",
         "Lufthansa",
         "East Samanthafurt",
         "Lake Troy",
         "2025-05-12",
         null
        ],
        [
         "F0063",
         "Lufthansa",
         "Floresshire",
         "New Anita",
         "2025-06-03",
         null
        ],
        [
         "F0064",
         "Delta",
         "East Joshuastad",
         "North Austinland",
         "2025-05-25",
         null
        ],
        [
         "F0065",
         "Emirates",
         "East Paulland",
         "Barnesberg",
         "2025-04-29",
         null
        ],
        [
         "F0066",
         "Qatar Airways",
         "Stephenberg",
         "Marcborough",
         "2025-06-04",
         null
        ],
        [
         "F0067",
         "Delta",
         "Campbellborough",
         "South Jason",
         "2025-05-13",
         null
        ],
        [
         "F0068",
         "Qatar Airways",
         "Lake Seanport",
         "Fieldsstad",
         "2025-06-17",
         null
        ],
        [
         "F0069",
         "Qatar Airways",
         "Johnsonburgh",
         "Woodmouth",
         "2025-06-14",
         null
        ],
        [
         "F0070",
         "Air Canada",
         "Glennhaven",
         "Port Darrenchester",
         "2025-05-04",
         null
        ],
        [
         "F0071",
         "Delta",
         "Jefferyberg",
         "Wendyshire",
         "2025-06-17",
         null
        ],
        [
         "F0072",
         "Emirates",
         "Heiditown",
         "Port Sabrinaburgh",
         "2025-05-22",
         null
        ],
        [
         "F0073",
         "Lufthansa",
         "South Jasonville",
         "Clarkeshire",
         "2025-06-09",
         null
        ],
        [
         "F0074",
         "Air Canada",
         "Duffyville",
         "Port Vanessa",
         "2025-05-28",
         null
        ],
        [
         "F0075",
         "Qatar Airways",
         "New Danielhaven",
         "Cunninghamfurt",
         "2025-04-27",
         null
        ],
        [
         "F0076",
         "Lufthansa",
         "Johnsonchester",
         "New Michael",
         "2025-05-14",
         null
        ],
        [
         "F0077",
         "Qatar Airways",
         "Samuelfort",
         "Port Ashley",
         "2025-06-12",
         null
        ],
        [
         "F0078",
         "Qatar Airways",
         "Howardbury",
         "Burchburgh",
         "2025-05-09",
         null
        ],
        [
         "F0079",
         "Delta",
         "Jonesburgh",
         "Andradeville",
         "2025-06-17",
         null
        ],
        [
         "F0080",
         "Emirates",
         "Sonyaberg",
         "East Sarah",
         "2025-06-13",
         null
        ],
        [
         "F0081",
         "Air Canada",
         "North Barry",
         "Josephborough",
         "2025-04-24",
         null
        ],
        [
         "F0082",
         "Qatar Airways",
         "North Erikamouth",
         "Danielfort",
         "2025-05-19",
         null
        ],
        [
         "F0083",
         "Lufthansa",
         "Jasonborough",
         "Port Audreyville",
         "2025-05-30",
         null
        ],
        [
         "F0084",
         "Delta",
         "Franklinmouth",
         "Lake Joseph",
         "2025-05-30",
         null
        ],
        [
         "F0085",
         "Lufthansa",
         "Hillton",
         "Castroborough",
         "2025-05-19",
         null
        ],
        [
         "F0086",
         "Delta",
         "Port Chelsea",
         "Robertchester",
         "2025-05-08",
         null
        ],
        [
         "F0087",
         "Emirates",
         "Kellyland",
         "New Jonathanmouth",
         "2025-04-23",
         null
        ],
        [
         "F0088",
         "Qatar Airways",
         "North Miguel",
         "Lake Allisonfurt",
         "2025-05-28",
         null
        ],
        [
         "F0089",
         "Qatar Airways",
         "Robinsonberg",
         "Adrianchester",
         "2025-05-21",
         null
        ],
        [
         "F0090",
         "Delta",
         "East Rachelport",
         "Davisport",
         "2025-05-23",
         null
        ],
        [
         "F0091",
         "Lufthansa",
         "Lake Scott",
         "Williamshire",
         "2025-06-04",
         null
        ],
        [
         "F0092",
         "Lufthansa",
         "Austinborough",
         "Bautistafort",
         "2025-05-29",
         null
        ],
        [
         "F0093",
         "Air Canada",
         "Frenchside",
         "West Christopher",
         "2025-05-28",
         null
        ],
        [
         "F0094",
         "Emirates",
         "South Amyfurt",
         "Jimenezview",
         "2025-06-14",
         null
        ],
        [
         "F0095",
         "Qatar Airways",
         "North Dawnberg",
         "East Sarahmouth",
         "2025-05-26",
         null
        ],
        [
         "F0096",
         "Lufthansa",
         "Coreyfort",
         "West Joseph",
         "2025-06-06",
         null
        ],
        [
         "F0097",
         "Emirates",
         "Billyport",
         "Brentton",
         "2025-05-18",
         null
        ],
        [
         "F0098",
         "Air Canada",
         "Wallerburgh",
         "Lake Karen",
         "2025-05-01",
         null
        ],
        [
         "F0099",
         "Air Canada",
         "Lake Connor",
         "Matthewberg",
         "2025-04-28",
         null
        ],
        [
         "F0100",
         "Qatar Airways",
         "Port Anthony",
         "Thompsonfort",
         "2025-05-31",
         null
        ],
        [
         "F0101",
         "Qatar Airways",
         "Lake Joshuamouth",
         "Johnshire",
         "2025-07-14",
         null
        ],
        [
         "F0102",
         "Delta",
         "Schroederbury",
         "Sethfort",
         "2025-06-25",
         null
        ],
        [
         "F0103",
         "Qatar Airways",
         "Jameschester",
         "Ashleyberg",
         "2025-07-15",
         null
        ],
        [
         "F0104",
         "Qatar Airways",
         "Huangstad",
         "Catherinehaven",
         "2025-06-29",
         null
        ],
        [
         "F0105",
         "Air Canada",
         "Aprilton",
         "Victorville",
         "2025-07-05",
         null
        ],
        [
         "F0106",
         "Lufthansa",
         "East Austinmouth",
         "New Toddburgh",
         "2025-06-22",
         null
        ],
        [
         "F0107",
         "Air Canada",
         "Mitchelltown",
         "Johnsonbury",
         "2025-07-01",
         null
        ],
        [
         "F0108",
         "Lufthansa",
         "New Jennifer",
         "Lake Tracie",
         "2025-06-28",
         null
        ],
        [
         "F0109",
         "Air Canada",
         "Williamsland",
         "South Carolberg",
         "2025-06-14",
         null
        ],
        [
         "F0110",
         "Emirates",
         "Churchport",
         "Wrightton",
         "2025-07-15",
         null
        ]
       ],
       "datasetInfos": [
        {
         "name": "_sqldf",
         "schema": {
          "fields": [
           {
            "metadata": {},
            "name": "flight_id",
            "nullable": true,
            "type": "string"
           },
           {
            "metadata": {},
            "name": "airline",
            "nullable": true,
            "type": "string"
           },
           {
            "metadata": {},
            "name": "origin",
            "nullable": true,
            "type": "string"
           },
           {
            "metadata": {},
            "name": "destination",
            "nullable": true,
            "type": "string"
           },
           {
            "metadata": {
             "__detected_date_formats": "yyyy-M-d"
            },
            "name": "flight_date",
            "nullable": true,
            "type": "string"
           },
           {
            "metadata": {},
            "name": "_rescued_data",
            "nullable": true,
            "type": "string"
           }
          ],
          "type": "struct"
         },
         "tableIdentifier": null,
         "typeStr": "pyspark.sql.connect.dataframe.DataFrame"
        }
       ],
       "dbfsResultPath": null,
       "isJsonSchema": true,
       "metadata": {
        "createTempViewForImplicitDf": true,
        "dataframeName": "_sqldf",
        "executionCount": 3
       },
       "overflow": false,
       "plotOptions": {
        "customPlotOptions": {},
        "displayType": "table",
        "pivotAggregation": null,
        "pivotColumns": null,
        "xColumns": null,
        "yColumns": null
       },
       "removedWidgets": [],
       "schema": [
        {
         "metadata": "{}",
         "name": "flight_id",
         "type": "\"string\""
        },
        {
         "metadata": "{}",
         "name": "airline",
         "type": "\"string\""
        },
        {
         "metadata": "{}",
         "name": "origin",
         "type": "\"string\""
        },
        {
         "metadata": "{}",
         "name": "destination",
         "type": "\"string\""
        },
        {
         "metadata": "{\"__detected_date_formats\": \"yyyy-M-d\"}",
         "name": "flight_date",
         "type": "\"string\""
        },
        {
         "metadata": "{}",
         "name": "_rescued_data",
         "type": "\"string\""
        }
       ],
       "type": "table"
      }
     },
     "output_type": "display_data"
    }
   ],
   "source": [
    "%sql\n",
    "SELECT * FROM delta.`/Volumes/workspace/bronze/bronzevolume/flights/data/`"
   ]
  },
  {
   "cell_type": "code",
   "execution_count": 0,
   "metadata": {
    "application/vnd.databricks.v1+cell": {
     "cellMetadata": {},
     "inputWidgets": {},
     "nuid": "a6ebad65-a79e-46a5-81ab-8fb5a59889d1",
     "showTitle": false,
     "tableResultSettingsMap": {},
     "title": ""
    }
   },
   "outputs": [],
   "source": []
  }
 ],
 "metadata": {
  "application/vnd.databricks.v1+notebook": {
   "computePreferences": null,
   "dashboards": [],
   "environmentMetadata": {
    "base_environment": "",
    "environment_version": "2"
   },
   "inputWidgetPreferences": null,
   "language": "python",
   "notebookMetadata": {
    "mostRecentlyExecutedCommandWithImplicitDF": {
     "commandId": 4736286406082218,
     "dataframes": [
      "_sqldf"
     ]
    },
    "pythonIndentUnit": 4
   },
   "notebookName": "Setup",
   "widgets": {}
  },
  "language_info": {
   "name": "python"
  }
 },
 "nbformat": 4,
 "nbformat_minor": 0
}